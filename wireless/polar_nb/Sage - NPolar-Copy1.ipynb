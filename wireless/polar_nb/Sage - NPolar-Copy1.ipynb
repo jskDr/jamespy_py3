{
 "cells": [
  {
   "cell_type": "markdown",
   "metadata": {},
   "source": [
    "# Symbolic Polar Decoding using Sagemath"
   ]
  },
  {
   "cell_type": "code",
   "execution_count": 1,
   "metadata": {},
   "outputs": [],
   "source": [
    "#%load_ext autoreload\n",
    "#%autoreload 2"
   ]
  },
  {
   "cell_type": "code",
   "execution_count": 5,
   "metadata": {},
   "outputs": [],
   "source": [
    "from sage import *\n",
    "import numpy as np\n",
    "from wireless import sagepolar"
   ]
  },
  {
   "cell_type": "code",
   "execution_count": 3,
   "metadata": {},
   "outputs": [
    {
     "data": {
      "text/html": [
       "<html><script type=\"math/tex; mode=display\">\\newcommand{\\Bold}[1]{\\mathbf{#1}}\\verb|N=2|</script></html>"
      ],
      "text/plain": [
       "'N=2'"
      ]
     },
     "metadata": {},
     "output_type": "display_data"
    },
    {
     "data": {
      "text/html": [
       "<html><script type=\"math/tex; mode=display\">\\newcommand{\\Bold}[1]{\\mathbf{#1}}\\left[U_{0} + U_{1}, U_{1}\\right]</script></html>"
      ],
      "text/plain": [
       "[U0 + U1, U1]"
      ]
     },
     "metadata": {},
     "output_type": "display_data"
    },
    {
     "data": {
      "text/html": [
       "<html><script type=\"math/tex; mode=display\">\\newcommand{\\Bold}[1]{\\mathbf{#1}}\\left(\\left[U_{0}, U_{1}\\right], \\left[U_{0} + U_{1}, U_{1}\\right]\\right)</script></html>"
      ],
      "text/plain": [
       "([U0, U1], [U0 + U1, U1])"
      ]
     },
     "metadata": {},
     "output_type": "display_data"
    },
    {
     "data": {
      "text/html": [
       "<html><script type=\"math/tex; mode=display\">\\newcommand{\\Bold}[1]{\\mathbf{#1}}\\verb|N=4|</script></html>"
      ],
      "text/plain": [
       "'N=4'"
      ]
     },
     "metadata": {},
     "output_type": "display_data"
    },
    {
     "data": {
      "text/html": [
       "<html><script type=\"math/tex; mode=display\">\\newcommand{\\Bold}[1]{\\mathbf{#1}}\\left[U_{0} + U_{1} + U_{2} + U_{3}, U_{2} + U_{3}, U_{1} + U_{3}, U_{3}\\right]</script></html>"
      ],
      "text/plain": [
       "[U0 + U1 + U2 + U3, U2 + U3, U1 + U3, U3]"
      ]
     },
     "metadata": {},
     "output_type": "display_data"
    },
    {
     "data": {
      "text/html": [
       "<html><script type=\"math/tex; mode=display\">\\newcommand{\\Bold}[1]{\\mathbf{#1}}\\left(\\left[U_{0}, U_{1}, U_{2}, U_{3}\\right], \\left[U_{0} + U_{1} + U_{2} + U_{3}, U_{2} + U_{3}, U_{1} + U_{3}, U_{3}\\right]\\right)</script></html>"
      ],
      "text/plain": [
       "([U0, U1, U2, U3], [U0 + U1 + U2 + U3, U2 + U3, U1 + U3, U3])"
      ]
     },
     "metadata": {},
     "output_type": "display_data"
    },
    {
     "data": {
      "text/html": [
       "<html><script type=\"math/tex; mode=display\">\\newcommand{\\Bold}[1]{\\mathbf{#1}}\\verb|N=8|</script></html>"
      ],
      "text/plain": [
       "'N=8'"
      ]
     },
     "metadata": {},
     "output_type": "display_data"
    },
    {
     "data": {
      "text/html": [
       "<html><script type=\"math/tex; mode=display\">\\newcommand{\\Bold}[1]{\\mathbf{#1}}\\left[U_{0} + U_{1} + U_{2} + U_{3} + U_{4} + U_{5} + U_{6} + U_{7}, U_{4} + U_{5} + U_{6} + U_{7}, U_{2} + U_{3} + U_{6} + U_{7}, U_{6} + U_{7}, U_{1} + U_{3} + U_{5} + U_{7}, U_{5} + U_{7}, U_{3} + U_{7}, U_{7}\\right]</script></html>"
      ],
      "text/plain": [
       "[U0 + U1 + U2 + U3 + U4 + U5 + U6 + U7,\n",
       " U4 + U5 + U6 + U7,\n",
       " U2 + U3 + U6 + U7,\n",
       " U6 + U7,\n",
       " U1 + U3 + U5 + U7,\n",
       " U5 + U7,\n",
       " U3 + U7,\n",
       " U7]"
      ]
     },
     "metadata": {},
     "output_type": "display_data"
    },
    {
     "data": {
      "text/html": [
       "<html><script type=\"math/tex; mode=display\">\\newcommand{\\Bold}[1]{\\mathbf{#1}}\\left(\\left[U_{0}, U_{1}, U_{2}, U_{3}, U_{4}, U_{5}, U_{6}, U_{7}\\right], \\left[U_{0} + U_{1} + U_{2} + U_{3} + U_{4} + U_{5} + U_{6} + U_{7}, U_{4} + U_{5} + U_{6} + U_{7}, U_{2} + U_{3} + U_{6} + U_{7}, U_{6} + U_{7}, U_{1} + U_{3} + U_{5} + U_{7}, U_{5} + U_{7}, U_{3} + U_{7}, U_{7}\\right]\\right)</script></html>"
      ],
      "text/plain": [
       "([U0, U1, U2, U3, U4, U5, U6, U7],\n",
       " [U0 + U1 + U2 + U3 + U4 + U5 + U6 + U7,\n",
       "  U4 + U5 + U6 + U7,\n",
       "  U2 + U3 + U6 + U7,\n",
       "  U6 + U7,\n",
       "  U1 + U3 + U5 + U7,\n",
       "  U5 + U7,\n",
       "  U3 + U7,\n",
       "  U7])"
      ]
     },
     "metadata": {},
     "output_type": "display_data"
    }
   ],
   "source": [
    "sagepolar.test_decode_n()"
   ]
  },
  {
   "cell_type": "code",
   "execution_count": 4,
   "metadata": {},
   "outputs": [
    {
     "data": {
      "text/plain": [
       "[U0 + U1 + U2 + U3, U2 + U3, U1 + U3, U3]"
      ]
     },
     "execution_count": 4,
     "metadata": {},
     "output_type": "execute_result"
    }
   ],
   "source": [
    "\n",
    "sagepolar.polar_transform(u)"
   ]
  },
  {
   "cell_type": "code",
   "execution_count": 5,
   "metadata": {},
   "outputs": [
    {
     "data": {
      "text/plain": [
       "[U0 + U1 + U2 + U3, U2 + U3, U1 + U3, U3]"
      ]
     },
     "execution_count": 5,
     "metadata": {},
     "output_type": "execute_result"
    }
   ],
   "source": [
    "sagepolar.npolar_transform(u,1)"
   ]
  },
  {
   "cell_type": "code",
   "execution_count": 7,
   "metadata": {},
   "outputs": [
    {
     "data": {
      "text/plain": [
       "[U0, U1, U2, U3]"
      ]
     },
     "execution_count": 7,
     "metadata": {},
     "output_type": "execute_result"
    }
   ],
   "source": [
    "sagepolar.npolar_transform(u,4)"
   ]
  },
  {
   "cell_type": "code",
   "execution_count": 8,
   "metadata": {},
   "outputs": [
    {
     "data": {
      "text/plain": [
       "[U0 + U1 + U2 + U3, U2 + U3, U1 + U3, U3]"
      ]
     },
     "execution_count": 8,
     "metadata": {},
     "output_type": "execute_result"
    }
   ],
   "source": [
    "sagepolar.npolar_transform(u,2)"
   ]
  },
  {
   "cell_type": "code",
   "execution_count": 7,
   "metadata": {},
   "outputs": [
    {
     "name": "stdout",
     "output_type": "stream",
     "text": [
      "4 [U0, U1, U2, U3]\n"
     ]
    },
    {
     "data": {
      "text/plain": [
       "[U0 + U1 + U2 + U3, U2 + U3, U1 + U3, U3]"
      ]
     },
     "execution_count": 7,
     "metadata": {},
     "output_type": "execute_result"
    }
   ],
   "source": [
    "u = var('U',n=4)\n",
    "sagepolar.npolar_transform(u,1)"
   ]
  },
  {
   "cell_type": "code",
   "execution_count": null,
   "metadata": {},
   "outputs": [],
   "source": [
    "u = var('U',n=4)\n",
    "sagepolar.npolar_transform(u,1)"
   ]
  }
 ],
 "metadata": {
  "kernelspec": {
   "display_name": "SageMath 9.0",
   "language": "sage",
   "name": "sagemath"
  },
  "language_info": {
   "codemirror_mode": {
    "name": "ipython",
    "version": 3
   },
   "file_extension": ".py",
   "mimetype": "text/x-python",
   "name": "python",
   "nbconvert_exporter": "python",
   "pygments_lexer": "ipython3",
   "version": "3.7.9"
  }
 },
 "nbformat": 4,
 "nbformat_minor": 4
}
