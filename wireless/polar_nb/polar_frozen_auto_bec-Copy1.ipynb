{
 "cells": [
  {
   "cell_type": "markdown",
   "metadata": {},
   "source": [
    "# Polar coding for any $N$ with array for speeding up\n",
    "We develop the simplist Polar coding example assuming the length of code is $N$=2. This will be used for AI example using Tensorflow. We will see how new rx method imitate Polar.\n",
    "- input을 꼬아 주어야 한다. 앞쪽에서 뺼때는 꼬여있어야 하기 때문이다."
   ]
  },
  {
   "cell_type": "markdown",
   "metadata": {},
   "source": [
    "## Common functions"
   ]
  },
  {
   "cell_type": "code",
   "execution_count": 1,
   "metadata": {},
   "outputs": [],
   "source": [
    "%load_ext autoreload\n",
    "%autoreload 2"
   ]
  },
  {
   "cell_type": "code",
   "execution_count": 2,
   "metadata": {},
   "outputs": [],
   "source": [
    "import numpy as np\n",
    "import numba as nb\n",
    "import matplotlib.pyplot as plt"
   ]
  },
  {
   "cell_type": "code",
   "execution_count": 3,
   "metadata": {},
   "outputs": [],
   "source": [
    "from wireless import nb_polar"
   ]
  },
  {
   "cell_type": "code",
   "execution_count": 8,
   "metadata": {},
   "outputs": [
    {
     "data": {
      "text/plain": [
       "array([0.75, 0.25])"
      ]
     },
     "execution_count": 8,
     "metadata": {},
     "output_type": "execute_result"
    }
   ],
   "source": [
    "nb_polar.polar_bec(2)"
   ]
  },
  {
   "cell_type": "code",
   "execution_count": 9,
   "metadata": {},
   "outputs": [
    {
     "data": {
      "text/plain": [
       "array([0.9375, 0.4375, 0.5625, 0.0625])"
      ]
     },
     "execution_count": 9,
     "metadata": {},
     "output_type": "execute_result"
    }
   ],
   "source": [
    "nb_polar.polar_bec(4)"
   ]
  },
  {
   "cell_type": "code",
   "execution_count": 94,
   "metadata": {},
   "outputs": [],
   "source": [
    "def _polar_bec(N_code=4, erase_prob=0.5):\n",
    "    \"\"\"\n",
    "    BEC에 대해 Polar code의 예측 성능을 구한다. 단, 비트당 제거 오류율은 erase_prob로 가정한다.\n",
    "    \"\"\"\n",
    "    n = int(np.log2(N_code))\n",
    "    E = np.zeros(N_code)\n",
    "    # E_out = np.zeros(N_code)    \n",
    "    E[0] = erase_prob\n",
    "    for i in range(n):\n",
    "        LN = 2**i\n",
    "        # print(i, LN)\n",
    "        # print('E in:', E)\n",
    "        # i stage에서 끝은 LN*2이다. 안그러면 broadcast되어 버린다.\n",
    "        E[LN:LN*2] = E[:LN] * E[:LN]\n",
    "        E[:LN] = 1-(1-E[:LN])*(1-E[:LN])   \n",
    "        # print('E out:', E)        \n",
    "    return E\n",
    "\n",
    "@nb.jit\n",
    "def polar_bec(N_code=4, erase_prob=0.5):\n",
    "    \"\"\"\n",
    "    BEC에 대해 Polar code의 예측 성능을 구한다. 단, 비트당 제거 오류율은 erase_prob로 가정한다.\n",
    "    \"\"\"\n",
    "    n = int(np.log2(N_code))\n",
    "    E = np.zeros(N_code)\n",
    "    # E_out = np.zeros(N_code)    \n",
    "    E[0] = erase_prob\n",
    "    for i in range(n):\n",
    "        LN = 2**i\n",
    "        # print(i, LN)\n",
    "        # print('E in:', E)\n",
    "        # i stage에서 끝은 LN*2이다. 안그러면 broadcast되어 버린다.\n",
    "        E[LN:LN*2] = E[:LN] * E[:LN]\n",
    "        E[:LN] = 1-(1-E[:LN])*(1-E[:LN])   \n",
    "        # print('E out:', E)        \n",
    "    return E"
   ]
  },
  {
   "cell_type": "code",
   "execution_count": 95,
   "metadata": {},
   "outputs": [
    {
     "name": "stdout",
     "output_type": "stream",
     "text": [
      "CPU times: user 1.16 s, sys: 15.6 ms, total: 1.17 s\n",
      "Wall time: 1.22 s\n"
     ]
    },
    {
     "data": {
      "text/plain": [
       "array([1.        , 0.99996608, 0.99999999, ..., 0.        , 0.        ,\n",
       "       0.        ])"
      ]
     },
     "execution_count": 95,
     "metadata": {},
     "output_type": "execute_result"
    }
   ],
   "source": [
    "%time polar_bec(2048, 0.1)"
   ]
  },
  {
   "cell_type": "code",
   "execution_count": 96,
   "metadata": {},
   "outputs": [
    {
     "name": "stdout",
     "output_type": "stream",
     "text": [
      "CPU times: user 0 ns, sys: 0 ns, total: 0 ns\n",
      "Wall time: 77 µs\n"
     ]
    },
    {
     "data": {
      "text/plain": [
       "array([1.        , 0.99996608, 0.99999999, ..., 0.        , 0.        ,\n",
       "       0.        ])"
      ]
     },
     "execution_count": 96,
     "metadata": {},
     "output_type": "execute_result"
    }
   ],
   "source": [
    "%time polar_bec(2048, 0.1)"
   ]
  },
  {
   "cell_type": "code",
   "execution_count": 97,
   "metadata": {},
   "outputs": [
    {
     "name": "stdout",
     "output_type": "stream",
     "text": [
      "CPU times: user 0 ns, sys: 0 ns, total: 0 ns\n",
      "Wall time: 1.14 ms\n"
     ]
    },
    {
     "data": {
      "text/plain": [
       "array([1.        , 0.99996608, 0.99999999, ..., 0.        , 0.        ,\n",
       "       0.        ])"
      ]
     },
     "execution_count": 97,
     "metadata": {},
     "output_type": "execute_result"
    }
   ],
   "source": [
    "%time _polar_bec(2048, 0.1)"
   ]
  },
  {
   "cell_type": "code",
   "execution_count": 98,
   "metadata": {},
   "outputs": [
    {
     "name": "stdout",
     "output_type": "stream",
     "text": [
      "BER for each bit [0.75 0.25]\n"
     ]
    },
    {
     "data": {
      "text/plain": [
       "array([1, 0])"
      ]
     },
     "execution_count": 98,
     "metadata": {},
     "output_type": "execute_result"
    }
   ],
   "source": [
    "nb_polar.polar_design_bec(2,1)"
   ]
  },
  {
   "cell_type": "code",
   "execution_count": 99,
   "metadata": {},
   "outputs": [
    {
     "name": "stdout",
     "output_type": "stream",
     "text": [
      "BER for each bit [0.9375 0.4375 0.5625 0.0625]\n"
     ]
    },
    {
     "data": {
      "text/plain": [
       "array([1, 0, 1, 0])"
      ]
     },
     "execution_count": 99,
     "metadata": {},
     "output_type": "execute_result"
    }
   ],
   "source": [
    "nb_polar.polar_design_bec(4,2)"
   ]
  },
  {
   "cell_type": "code",
   "execution_count": 100,
   "metadata": {},
   "outputs": [
    {
     "name": "stdout",
     "output_type": "stream",
     "text": [
      "BER for each bit [0.99609375 0.68359375 0.80859375 0.12109375 0.87890625 0.19140625\n",
      " 0.31640625 0.00390625]\n"
     ]
    },
    {
     "data": {
      "text/plain": [
       "array([1, 1, 1, 0, 1, 0, 0, 0])"
      ]
     },
     "execution_count": 100,
     "metadata": {},
     "output_type": "execute_result"
    }
   ],
   "source": [
    "nb_polar.polar_design_bec(8,4)"
   ]
  },
  {
   "cell_type": "code",
   "execution_count": 101,
   "metadata": {},
   "outputs": [
    {
     "name": "stdout",
     "output_type": "stream",
     "text": [
      "BER for each bit [5.6953279e-01 3.9403990e-02 7.0896790e-02 1.9999000e-04 1.1826721e-01\n",
      " 3.9601000e-04 1.3032100e-03 1.0000000e-08]\n"
     ]
    },
    {
     "data": {
      "text/plain": [
       "array([1, 1, 1, 0, 1, 0, 0, 0])"
      ]
     },
     "execution_count": 101,
     "metadata": {},
     "output_type": "execute_result"
    }
   ],
   "source": [
    "nb_polar.polar_design_bec(8,4,0.1)"
   ]
  },
  {
   "cell_type": "code",
   "execution_count": null,
   "metadata": {},
   "outputs": [],
   "source": []
  }
 ],
 "metadata": {
  "kernelspec": {
   "display_name": "tf2",
   "language": "python",
   "name": "tf2"
  },
  "language_info": {
   "codemirror_mode": {
    "name": "ipython",
    "version": 3
   },
   "file_extension": ".py",
   "mimetype": "text/x-python",
   "name": "python",
   "nbconvert_exporter": "python",
   "pygments_lexer": "ipython3",
   "version": "3.7.7"
  }
 },
 "nbformat": 4,
 "nbformat_minor": 4
}
