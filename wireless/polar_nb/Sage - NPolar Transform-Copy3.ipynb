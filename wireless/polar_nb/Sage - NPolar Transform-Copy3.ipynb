{
 "cells": [
  {
   "cell_type": "markdown",
   "metadata": {},
   "source": [
    "# Symbolic Polar Transformation using Sagemath"
   ]
  },
  {
   "cell_type": "code",
   "execution_count": 1,
   "metadata": {},
   "outputs": [],
   "source": [
    "from sage import *\n",
    "import numpy as np\n",
    "from wireless import sagepolar"
   ]
  },
  {
   "cell_type": "code",
   "execution_count": 40,
   "metadata": {},
   "outputs": [],
   "source": [
    "def npolar_transform(u,N_P=4/1):\n",
    "    u = list(u)\n",
    "    print(len(u), u)\n",
    "    if len(u) == 1:\n",
    "        x = u\n",
    "    elif len(u) > N_P:\n",
    "        # 처음이 1이고 갈수록 2, 4, 8이 된다.\n",
    "        # N_P = N/P 값에 따라 AE 담당할 앞부분은 polar 변환하지 않고 뒤집기만 한다.\n",
    "        u1 = u[0::2]\n",
    "        u2 = u[1::2]\n",
    "        x = npolar_transform(u1,N_P) + npolar_transform(u2,N_P)                \n",
    "    else:\n",
    "        u1 = u[0::2]\n",
    "        u2 = u[1::2]\n",
    "        u1u2 = []\n",
    "        for u1_i, u2_i in zip(u1, u2):\n",
    "            u1u2.append(u1_i + u2_i)\n",
    "        x = npolar_transform(u1u2,N_P) + npolar_transform(u2,N_P)\n",
    "    return x\n",
    "\n",
    "def npolar_coding(N=8, P=1):\n",
    "    \"\"\"\n",
    "    Input:\n",
    "    P=1: AE 입력의 크기임. NPolar의 경우, P=N을 제외하고는 AE를 one-hot vector로 처리하지 않음.\n",
    "    \"\"\"    \n",
    "    N_P = N / P\n",
    "    u = var('U',n=N)\n",
    "    y_polar = npolar_transform(u, N_P=N_P)\n",
    "    #print('y_polar:', y_polar)\n",
    "    x_polar = []    \n",
    "    x_polar_idx = []\n",
    "    ae_polar = y_polar.copy()\n",
    "    idx = list(range(N))\n",
    "    for i in range(N_P):\n",
    "        y_polar_l = y_polar[i::N_P]\n",
    "        idx_l = idx[i::N_P]\n",
    "        x_polar.append(y_polar_l)\n",
    "        x_polar_idx.append(idx_l)\n",
    "        ae_polar_l = ae_coding(x_polar[-1])\n",
    "        for i, j in enumerate(x_polar_idx[-1]):\n",
    "            ae_polar[j] = ae_polar_l[i]\n",
    "        #print('x_polar:', x_polar)\n",
    "    return x_polar, x_polar_idx, ae_polar\n",
    "\n",
    "def ae_coding(x):\n",
    "    print('AE:', x)\n",
    "    return x\n",
    "\n",
    "def bit_forward(x):\n",
    "    \"\"\"\n",
    "    polar encoding에서 사용한 방법을 역으로 수행함\n",
    "    Polar encoding: x = encoding(x[0::2]) + encoding(x[1::2]) if len(x) > 1\n",
    "    \"\"\"\n",
    "    LN = len(x)\n",
    "    if LN == 1:\n",
    "        return x\n",
    "    else:\n",
    "        y = x.copy()\n",
    "        #print(x, y)\n",
    "        y[0::2] = bit_forward(x[:LN/2])\n",
    "        y[1::2] = bit_forward(x[LN/2:])\n",
    "    return y"
   ]
  },
  {
   "cell_type": "markdown",
   "metadata": {},
   "source": [
    "## n = 4"
   ]
  },
  {
   "cell_type": "code",
   "execution_count": 41,
   "metadata": {},
   "outputs": [
    {
     "name": "stdout",
     "output_type": "stream",
     "text": [
      "4 [U0, U1, U2, U3]\n",
      "2 [U0 + U1, U2 + U3]\n",
      "1 [U0 + U1 + U2 + U3]\n",
      "1 [U2 + U3]\n",
      "2 [U1, U3]\n",
      "1 [U1 + U3]\n",
      "1 [U3]\n",
      "AE: [U0 + U1 + U2 + U3]\n",
      "AE: [U2 + U3]\n",
      "AE: [U1 + U3]\n",
      "AE: [U3]\n"
     ]
    },
    {
     "data": {
      "text/plain": [
       "([[U0 + U1 + U2 + U3], [U2 + U3], [U1 + U3], [U3]],\n",
       " [[0], [1], [2], [3]],\n",
       " [U0 + U1 + U2 + U3, U2 + U3, U1 + U3, U3])"
      ]
     },
     "execution_count": 41,
     "metadata": {},
     "output_type": "execute_result"
    }
   ],
   "source": [
    "npolar_coding(N=4, P=1)"
   ]
  },
  {
   "cell_type": "code",
   "execution_count": 42,
   "metadata": {},
   "outputs": [
    {
     "name": "stdout",
     "output_type": "stream",
     "text": [
      "4 [U0, U1, U2, U3]\n",
      "2 [U0, U2]\n",
      "1 [U0 + U2]\n",
      "1 [U2]\n",
      "2 [U1, U3]\n",
      "1 [U1 + U3]\n",
      "1 [U3]\n",
      "AE: [U0 + U2, U1 + U3]\n",
      "AE: [U2, U3]\n"
     ]
    },
    {
     "data": {
      "text/plain": [
       "([[U0 + U2, U1 + U3], [U2, U3]], [[0, 2], [1, 3]], [U0 + U2, U2, U1 + U3, U3])"
      ]
     },
     "execution_count": 42,
     "metadata": {},
     "output_type": "execute_result"
    }
   ],
   "source": [
    "npolar_coding(N=4, P=2)"
   ]
  },
  {
   "cell_type": "code",
   "execution_count": 43,
   "metadata": {},
   "outputs": [
    {
     "name": "stdout",
     "output_type": "stream",
     "text": [
      "4 [U0, U1, U2, U3]\n",
      "2 [U0, U2]\n",
      "1 [U0]\n",
      "1 [U2]\n",
      "2 [U1, U3]\n",
      "1 [U1]\n",
      "1 [U3]\n",
      "AE: [U0, U2, U1, U3]\n"
     ]
    },
    {
     "data": {
      "text/plain": [
       "([[U0, U2, U1, U3]], [[0, 1, 2, 3]], [U0, U2, U1, U3])"
      ]
     },
     "execution_count": 43,
     "metadata": {},
     "output_type": "execute_result"
    }
   ],
   "source": [
    "npolar_coding(N=4, P=4)"
   ]
  },
  {
   "cell_type": "code",
   "execution_count": 45,
   "metadata": {},
   "outputs": [
    {
     "data": {
      "text/plain": [
       "[U0, U1, U2, U3]"
      ]
     },
     "execution_count": 45,
     "metadata": {},
     "output_type": "execute_result"
    }
   ],
   "source": [
    "bit_forward([U0, U2, U1, U3])"
   ]
  },
  {
   "cell_type": "markdown",
   "metadata": {},
   "source": [
    "## n = 8"
   ]
  },
  {
   "cell_type": "code",
   "execution_count": 35,
   "metadata": {},
   "outputs": [
    {
     "name": "stdout",
     "output_type": "stream",
     "text": [
      "8 [U0, U1, U2, U3, U4, U5, U6, U7]\n",
      "4 [U0 + U1, U2 + U3, U4 + U5, U6 + U7]\n",
      "2 [U0 + U1 + U2 + U3, U4 + U5 + U6 + U7]\n",
      "1 [U0 + U1 + U2 + U3 + U4 + U5 + U6 + U7]\n",
      "1 [U4 + U5 + U6 + U7]\n",
      "2 [U2 + U3, U6 + U7]\n",
      "1 [U2 + U3 + U6 + U7]\n",
      "1 [U6 + U7]\n",
      "4 [U1, U3, U5, U7]\n",
      "2 [U1 + U3, U5 + U7]\n",
      "1 [U1 + U3 + U5 + U7]\n",
      "1 [U5 + U7]\n",
      "2 [U3, U7]\n",
      "1 [U3 + U7]\n",
      "1 [U7]\n",
      "AE: [U0 + U1 + U2 + U3 + U4 + U5 + U6 + U7]\n",
      "AE: [U4 + U5 + U6 + U7]\n",
      "AE: [U2 + U3 + U6 + U7]\n",
      "AE: [U6 + U7]\n",
      "AE: [U1 + U3 + U5 + U7]\n",
      "AE: [U5 + U7]\n",
      "AE: [U3 + U7]\n",
      "AE: [U7]\n"
     ]
    },
    {
     "data": {
      "text/plain": [
       "([[U0 + U1 + U2 + U3 + U4 + U5 + U6 + U7],\n",
       "  [U4 + U5 + U6 + U7],\n",
       "  [U2 + U3 + U6 + U7],\n",
       "  [U6 + U7],\n",
       "  [U1 + U3 + U5 + U7],\n",
       "  [U5 + U7],\n",
       "  [U3 + U7],\n",
       "  [U7]],\n",
       " [[0], [1], [2], [3], [4], [5], [6], [7]],\n",
       " [U0 + U1 + U2 + U3 + U4 + U5 + U6 + U7,\n",
       "  U4 + U5 + U6 + U7,\n",
       "  U2 + U3 + U6 + U7,\n",
       "  U6 + U7,\n",
       "  U1 + U3 + U5 + U7,\n",
       "  U5 + U7,\n",
       "  U3 + U7,\n",
       "  U7])"
      ]
     },
     "execution_count": 35,
     "metadata": {},
     "output_type": "execute_result"
    }
   ],
   "source": [
    "npolar_coding(N=8, P=1)"
   ]
  },
  {
   "cell_type": "code",
   "execution_count": 36,
   "metadata": {},
   "outputs": [
    {
     "name": "stdout",
     "output_type": "stream",
     "text": [
      "8 [U0, U1, U2, U3, U4, U5, U6, U7]\n",
      "4 [U0, U2, U4, U6]\n",
      "2 [U0 + U2, U4 + U6]\n",
      "1 [U0 + U2 + U4 + U6]\n",
      "1 [U4 + U6]\n",
      "2 [U2, U6]\n",
      "1 [U2 + U6]\n",
      "1 [U6]\n",
      "4 [U1, U3, U5, U7]\n",
      "2 [U1 + U3, U5 + U7]\n",
      "1 [U1 + U3 + U5 + U7]\n",
      "1 [U5 + U7]\n",
      "2 [U3, U7]\n",
      "1 [U3 + U7]\n",
      "1 [U7]\n",
      "AE: [U0 + U2 + U4 + U6, U1 + U3 + U5 + U7]\n",
      "AE: [U4 + U6, U5 + U7]\n",
      "AE: [U2 + U6, U3 + U7]\n",
      "AE: [U6, U7]\n"
     ]
    },
    {
     "data": {
      "text/plain": [
       "([[U0 + U2 + U4 + U6, U1 + U3 + U5 + U7],\n",
       "  [U4 + U6, U5 + U7],\n",
       "  [U2 + U6, U3 + U7],\n",
       "  [U6, U7]],\n",
       " [[0, 4], [1, 5], [2, 6], [3, 7]],\n",
       " [U0 + U2 + U4 + U6,\n",
       "  U4 + U6,\n",
       "  U2 + U6,\n",
       "  U6,\n",
       "  U1 + U3 + U5 + U7,\n",
       "  U5 + U7,\n",
       "  U3 + U7,\n",
       "  U7])"
      ]
     },
     "execution_count": 36,
     "metadata": {},
     "output_type": "execute_result"
    }
   ],
   "source": [
    "npolar_coding(N=8, P=2)"
   ]
  },
  {
   "cell_type": "code",
   "execution_count": 37,
   "metadata": {},
   "outputs": [
    {
     "name": "stdout",
     "output_type": "stream",
     "text": [
      "8 [U0, U1, U2, U3, U4, U5, U6, U7]\n",
      "4 [U0, U2, U4, U6]\n",
      "2 [U0, U4]\n",
      "1 [U0 + U4]\n",
      "1 [U4]\n",
      "2 [U2, U6]\n",
      "1 [U2 + U6]\n",
      "1 [U6]\n",
      "4 [U1, U3, U5, U7]\n",
      "2 [U1, U5]\n",
      "1 [U1 + U5]\n",
      "1 [U5]\n",
      "2 [U3, U7]\n",
      "1 [U3 + U7]\n",
      "1 [U7]\n",
      "AE: [U0 + U4, U2 + U6, U1 + U5, U3 + U7]\n",
      "AE: [U4, U6, U5, U7]\n"
     ]
    },
    {
     "data": {
      "text/plain": [
       "([[U0 + U4, U2 + U6, U1 + U5, U3 + U7], [U4, U6, U5, U7]],\n",
       " [[0, 2, 4, 6], [1, 3, 5, 7]],\n",
       " [U0 + U4, U4, U2 + U6, U6, U1 + U5, U5, U3 + U7, U7])"
      ]
     },
     "execution_count": 37,
     "metadata": {},
     "output_type": "execute_result"
    }
   ],
   "source": [
    "npolar_coding(N=8, P=4)"
   ]
  },
  {
   "cell_type": "code",
   "execution_count": 38,
   "metadata": {},
   "outputs": [
    {
     "name": "stdout",
     "output_type": "stream",
     "text": [
      "8 [U0, U1, U2, U3, U4, U5, U6, U7]\n",
      "4 [U0, U2, U4, U6]\n",
      "2 [U0, U4]\n",
      "1 [U0]\n",
      "1 [U4]\n",
      "2 [U2, U6]\n",
      "1 [U2]\n",
      "1 [U6]\n",
      "4 [U1, U3, U5, U7]\n",
      "2 [U1, U5]\n",
      "1 [U1]\n",
      "1 [U5]\n",
      "2 [U3, U7]\n",
      "1 [U3]\n",
      "1 [U7]\n",
      "AE: [U0, U4, U2, U6, U1, U5, U3, U7]\n"
     ]
    },
    {
     "data": {
      "text/plain": [
       "([[U0, U4, U2, U6, U1, U5, U3, U7]],\n",
       " [[0, 1, 2, 3, 4, 5, 6, 7]],\n",
       " [U0, U4, U2, U6, U1, U5, U3, U7])"
      ]
     },
     "execution_count": 38,
     "metadata": {},
     "output_type": "execute_result"
    }
   ],
   "source": [
    "npolar_coding(N=8, P=8)"
   ]
  },
  {
   "cell_type": "code",
   "execution_count": 46,
   "metadata": {},
   "outputs": [
    {
     "data": {
      "text/plain": [
       "[U0, U1, U2, U3, U4, U5, U6, U7]"
      ]
     },
     "execution_count": 46,
     "metadata": {},
     "output_type": "execute_result"
    }
   ],
   "source": [
    "bit_forward([U0, U4, U2, U6, U1, U5, U3, U7])"
   ]
  },
  {
   "cell_type": "code",
   "execution_count": null,
   "metadata": {},
   "outputs": [],
   "source": []
  }
 ],
 "metadata": {
  "kernelspec": {
   "display_name": "SageMath 9.0",
   "language": "sage",
   "name": "sagemath"
  },
  "language_info": {
   "codemirror_mode": {
    "name": "ipython",
    "version": 3
   },
   "file_extension": ".py",
   "mimetype": "text/x-python",
   "name": "python",
   "nbconvert_exporter": "python",
   "pygments_lexer": "ipython3",
   "version": "3.7.9"
  }
 },
 "nbformat": 4,
 "nbformat_minor": 4
}
