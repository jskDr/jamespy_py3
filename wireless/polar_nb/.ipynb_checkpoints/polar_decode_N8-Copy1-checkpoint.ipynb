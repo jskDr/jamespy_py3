{
 "cells": [
  {
   "cell_type": "markdown",
   "metadata": {},
   "source": [
    "# Polar coding for $N$ = 8 with array for speeding up\n",
    "We develop the simplist Polar coding example assuming the length of code is $N$=2. This will be used for AI example using Tensorflow. We will see how new rx method imitate Polar.\n",
    "- input을 꼬아 주어야 한다. 앞쪽에서 뺼때는 꼬여있어야 하기 때문이다."
   ]
  },
  {
   "cell_type": "markdown",
   "metadata": {},
   "source": [
    "## Common functions"
   ]
  },
  {
   "cell_type": "code",
   "execution_count": 1,
   "metadata": {},
   "outputs": [],
   "source": [
    "%load_ext autoreload\n",
    "%autoreload 2"
   ]
  },
  {
   "cell_type": "code",
   "execution_count": 2,
   "metadata": {},
   "outputs": [
    {
     "name": "stderr",
     "output_type": "stream",
     "text": [
      "Matplotlib is building the font cache using fc-list. This may take a moment.\n"
     ]
    }
   ],
   "source": [
    "import numpy as np\n",
    "import numba as nb\n",
    "import matplotlib.pyplot as plt"
   ]
  },
  {
   "cell_type": "markdown",
   "metadata": {},
   "source": [
    "## Code test"
   ]
  },
  {
   "cell_type": "code",
   "execution_count": 5,
   "metadata": {},
   "outputs": [],
   "source": [
    "from wireless.nb_polar import *      "
   ]
  },
  {
   "cell_type": "code",
   "execution_count": 7,
   "metadata": {},
   "outputs": [],
   "source": [
    "def calc_ber(e_array):\n",
    "    return np.mean(np.abs(e_array))"
   ]
  },
  {
   "cell_type": "code",
   "execution_count": 8,
   "metadata": {},
   "outputs": [
    {
     "data": {
      "text/plain": [
       "(array([0, 1, 0, 1, 1, 1, 0, 1]),\n",
       " array([1, 1, 0, 1, 0, 0, 0, 1]),\n",
       " array([0, 1, 0, 1, 1, 1, 0, 1]),\n",
       " 0.0)"
      ]
     },
     "execution_count": 8,
     "metadata": {},
     "output_type": "execute_result"
    }
   ],
   "source": [
    "u_array = np.random.randint(2,size=8)\n",
    "x_array = encode_n(u_array)\n",
    "ud_array, _ = decode_n(1.0 - 2*x_array)\n",
    "u_array, x_array, ud_array, calc_ber(u_array-ud_array)"
   ]
  },
  {
   "cell_type": "code",
   "execution_count": 9,
   "metadata": {},
   "outputs": [
    {
     "data": {
      "text/plain": [
       "(array([1, 0, 1, 0, 1, 0, 0, 1]),\n",
       " array([0, 0, 0, 1, 1, 1, 1, 1]),\n",
       " array([1, 0, 1, 0, 1, 0, 0, 1]),\n",
       " 0.0)"
      ]
     },
     "execution_count": 9,
     "metadata": {},
     "output_type": "execute_result"
    }
   ],
   "source": [
    "#u_array = np.random.randint(2,size=4)\n",
    "u_array = np.array([1, 0, 1, 0, 1, 0, 0, 1])\n",
    "x_array = encode_n(u_array)\n",
    "ud_array, _ = decode_n(1.0 - 2*x_array)\n",
    "u_array, x_array, ud_array, calc_ber(u_array-ud_array)"
   ]
  },
  {
   "cell_type": "code",
   "execution_count": 10,
   "metadata": {},
   "outputs": [
    {
     "data": {
      "text/plain": [
       "(array([[1, 1, 0, 0, 0, 0, 1, 1],\n",
       "        [1, 0, 0, 0, 0, 1, 1, 1],\n",
       "        [1, 0, 0, 0, 1, 1, 1, 1],\n",
       "        [1, 1, 0, 0, 0, 0, 1, 1]]),\n",
       " array([[0, 0, 0, 0, 0, 1, 1, 1],\n",
       "        [0, 1, 0, 0, 0, 0, 1, 1],\n",
       "        [1, 0, 0, 0, 0, 0, 1, 1],\n",
       "        [0, 0, 0, 0, 0, 1, 1, 1]]),\n",
       " array([[ 1,  1,  1,  1,  1, -1, -1, -1],\n",
       "        [ 1, -1,  1,  1,  1,  1, -1, -1],\n",
       "        [-1,  1,  1,  1,  1,  1, -1, -1],\n",
       "        [ 1,  1,  1,  1,  1, -1, -1, -1]]),\n",
       " array([[1, 1, 0, 0, 0, 0, 1, 1],\n",
       "        [1, 0, 0, 0, 0, 1, 1, 1],\n",
       "        [1, 0, 0, 0, 1, 1, 1, 1],\n",
       "        [1, 1, 0, 0, 0, 0, 1, 1]]),\n",
       " 0.0)"
      ]
     },
     "execution_count": 10,
     "metadata": {},
     "output_type": "execute_result"
    }
   ],
   "source": [
    "N_iter = 4\n",
    "N_code = 8\n",
    "u_array = np.random.randint(2, size=(N_iter, N_code))\n",
    "#u_array = np.array([[0,1,0,0]])\n",
    "\n",
    "SNRdB = 1000\n",
    "e_array = np.zeros_like(u_array)\n",
    "x_array = encode_array_n(u_array)\n",
    "# y_array = channel_numpy_awgn(x_array, SNRdB)  \n",
    "y_array = 1 - 2*x_array\n",
    "#ud_array = decode_array(y_array)\n",
    "ud_array = decode_array_n(y_array)\n",
    "e_array = u_array - ud_array\n",
    "BER = np.sum(np.abs(e_array)) / np.prod(e_array.shape)\n",
    "u_array, x_array, y_array, ud_array, BER"
   ]
  },
  {
   "cell_type": "code",
   "execution_count": null,
   "metadata": {},
   "outputs": [],
   "source": []
  }
 ],
 "metadata": {
  "kernelspec": {
   "display_name": "tf2",
   "language": "python",
   "name": "tf2"
  },
  "language_info": {
   "codemirror_mode": {
    "name": "ipython",
    "version": 3
   },
   "file_extension": ".py",
   "mimetype": "text/x-python",
   "name": "python",
   "nbconvert_exporter": "python",
   "pygments_lexer": "ipython3",
   "version": "3.7.7"
  }
 },
 "nbformat": 4,
 "nbformat_minor": 4
}
