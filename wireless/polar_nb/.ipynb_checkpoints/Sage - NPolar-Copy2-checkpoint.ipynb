{
 "cells": [
  {
   "cell_type": "markdown",
   "metadata": {},
   "source": [
    "# Symbolic Polar Decoding using Sagemath"
   ]
  },
  {
   "cell_type": "code",
   "execution_count": 1,
   "metadata": {},
   "outputs": [],
   "source": [
    "from sage import *\n",
    "import numpy as np\n",
    "from wireless import sagepolar"
   ]
  },
  {
   "cell_type": "code",
   "execution_count": 2,
   "metadata": {},
   "outputs": [
    {
     "name": "stdout",
     "output_type": "stream",
     "text": [
      "4 [U0, U1, U2, U3]\n",
      "2 [U0 + U1, U2 + U3]\n",
      "1 [U0 + U1 + U2 + U3]\n",
      "1 [U2 + U3]\n",
      "2 [U1, U3]\n",
      "1 [U1 + U3]\n",
      "1 [U3]\n"
     ]
    },
    {
     "data": {
      "text/plain": [
       "[U0 + U1 + U2 + U3, U2 + U3, U1 + U3, U3]"
      ]
     },
     "execution_count": 2,
     "metadata": {},
     "output_type": "execute_result"
    }
   ],
   "source": [
    "u = var('U',n=4)\n",
    "sagepolar.npolar_transform(u,1)"
   ]
  },
  {
   "cell_type": "code",
   "execution_count": 3,
   "metadata": {},
   "outputs": [
    {
     "name": "stdout",
     "output_type": "stream",
     "text": [
      "4 [U0, U1, U2, U3]\n",
      "2 [U0 + U1, U2 + U3]\n",
      "1 [U0 + U1 + U2 + U3]\n",
      "1 [U2 + U3]\n",
      "2 [U1, U3]\n",
      "1 [U1 + U3]\n",
      "1 [U3]\n"
     ]
    },
    {
     "data": {
      "text/plain": [
       "[U0 + U1 + U2 + U3, U2 + U3, U1 + U3, U3]"
      ]
     },
     "execution_count": 3,
     "metadata": {},
     "output_type": "execute_result"
    }
   ],
   "source": [
    "sagepolar.npolar_transform(u,2)"
   ]
  },
  {
   "cell_type": "code",
   "execution_count": 4,
   "metadata": {},
   "outputs": [
    {
     "name": "stdout",
     "output_type": "stream",
     "text": [
      "4 [U0, U1, U2, U3]\n"
     ]
    },
    {
     "data": {
      "text/plain": [
       "[U0, U1, U2, U3]"
      ]
     },
     "execution_count": 4,
     "metadata": {},
     "output_type": "execute_result"
    }
   ],
   "source": [
    "sagepolar.npolar_transform(u,4)"
   ]
  },
  {
   "cell_type": "code",
   "execution_count": 13,
   "metadata": {},
   "outputs": [],
   "source": [
    "def npolar_transform_r1(u,P=1):\n",
    "    u = list(u)\n",
    "    print(len(u), u)\n",
    "    if len(u) == P:\n",
    "        x = u\n",
    "    else:\n",
    "        u1 = u[0::2]\n",
    "        u2 = u[1::2]\n",
    "        u1u2 = []\n",
    "        for u1_i, u2_i in zip(u1, u2):\n",
    "            u1u2.append(u1_i + u2_i)\n",
    "        x = npolar_transform(u1u2,P) + npolar_transform(u2,P)\n",
    "    return x"
   ]
  },
  {
   "cell_type": "code",
   "execution_count": 7,
   "metadata": {},
   "outputs": [
    {
     "name": "stdout",
     "output_type": "stream",
     "text": [
      "4 [U0, U1, U2, U3]\n",
      "2 [U0 + U1, U2 + U3]\n",
      "1 [U0 + U1 + U2 + U3]\n",
      "1 [U2 + U3]\n",
      "2 [U1, U3]\n",
      "1 [U1 + U3]\n",
      "1 [U3]\n"
     ]
    },
    {
     "data": {
      "text/plain": [
       "[U0 + U1 + U2 + U3, U2 + U3, U1 + U3, U3]"
      ]
     },
     "execution_count": 7,
     "metadata": {},
     "output_type": "execute_result"
    }
   ],
   "source": [
    "npolar_transform(u,1)"
   ]
  },
  {
   "cell_type": "code",
   "execution_count": 8,
   "metadata": {},
   "outputs": [
    {
     "name": "stdout",
     "output_type": "stream",
     "text": [
      "4 [U0, U1, U2, U3]\n",
      "2 [U0 + U1, U2 + U3]\n",
      "2 [U1, U3]\n"
     ]
    },
    {
     "data": {
      "text/plain": [
       "[U0 + U1, U2 + U3, U1, U3]"
      ]
     },
     "execution_count": 8,
     "metadata": {},
     "output_type": "execute_result"
    }
   ],
   "source": [
    "npolar_transform(u,2)"
   ]
  },
  {
   "cell_type": "code",
   "execution_count": 9,
   "metadata": {},
   "outputs": [
    {
     "name": "stdout",
     "output_type": "stream",
     "text": [
      "4 [U0, U1, U2, U3]\n"
     ]
    },
    {
     "data": {
      "text/plain": [
       "[U0, U1, U2, U3]"
      ]
     },
     "execution_count": 9,
     "metadata": {},
     "output_type": "execute_result"
    }
   ],
   "source": [
    "npolar_transform(u,4)"
   ]
  },
  {
   "cell_type": "code",
   "execution_count": 11,
   "metadata": {},
   "outputs": [
    {
     "name": "stdout",
     "output_type": "stream",
     "text": [
      "4 [U0, U1, U2, U3]\n",
      "2 [U0 + U1, U2 + U3]\n",
      "2 [U1, U3]\n"
     ]
    },
    {
     "data": {
      "text/plain": [
       "[U0 + U1, U2 + U3, U1, U3]"
      ]
     },
     "execution_count": 11,
     "metadata": {},
     "output_type": "execute_result"
    }
   ],
   "source": [
    "npolar_transform(u,2)"
   ]
  },
  {
   "cell_type": "code",
   "execution_count": 59,
   "metadata": {},
   "outputs": [],
   "source": [
    "def npolar_transform(u,N_P=4/1):\n",
    "    u = list(u)\n",
    "    print(len(u), u)\n",
    "    if len(u) == 1:\n",
    "        x = u\n",
    "    elif len(u) > N_P:\n",
    "        # 처음이 1이고 갈수록 2, 4, 8이 된다.\n",
    "        u1 = u[0::2]\n",
    "        u2 = u[1::2]\n",
    "        x = npolar_transform(u1,N_P) + npolar_transform(u2,N_P)                \n",
    "    else:\n",
    "        u1 = u[0::2]\n",
    "        u2 = u[1::2]\n",
    "        u1u2 = []\n",
    "        for u1_i, u2_i in zip(u1, u2):\n",
    "            u1u2.append(u1_i + u2_i)\n",
    "        x = npolar_transform(u1u2,N_P) + npolar_transform(u2,N_P)\n",
    "    return x\n",
    "\n",
    "def npolar_coding(N=8, P=1):\n",
    "    N_P = N / P\n",
    "    u = var('U',n=N)\n",
    "    y_polar = npolar_transform(u, N_P=N_P)\n",
    "    x_polar = y_polar    \n",
    "    for i in range(N_P):\n",
    "        x_polar[i] = sum(y_polar)\n",
    "    return x_polar"
   ]
  },
  {
   "cell_type": "markdown",
   "metadata": {},
   "source": [
    "## n = 4"
   ]
  },
  {
   "cell_type": "code",
   "execution_count": 60,
   "metadata": {},
   "outputs": [
    {
     "name": "stdout",
     "output_type": "stream",
     "text": [
      "4 [U0, U1, U2, U3]\n",
      "2 [U0 + U1, U2 + U3]\n",
      "1 [U0 + U1 + U2 + U3]\n",
      "1 [U2 + U3]\n",
      "2 [U1, U3]\n",
      "1 [U1 + U3]\n",
      "1 [U3]\n"
     ]
    },
    {
     "data": {
      "text/plain": [
       "[U0 + U1 + U2 + U3, U2 + U3, U1 + U3, U3]"
      ]
     },
     "execution_count": 60,
     "metadata": {},
     "output_type": "execute_result"
    }
   ],
   "source": [
    "u = var('U',n=4)\n",
    "npolar_transform(u,4/1)"
   ]
  },
  {
   "cell_type": "code",
   "execution_count": 48,
   "metadata": {},
   "outputs": [
    {
     "name": "stdout",
     "output_type": "stream",
     "text": [
      "4 [U0, U1, U2, U3]\n",
      "2 [U0, U2]\n",
      "1 [U0 + U2]\n",
      "1 [U2]\n",
      "2 [U1, U3]\n",
      "1 [U1 + U3]\n",
      "1 [U3]\n"
     ]
    },
    {
     "data": {
      "text/plain": [
       "[U0 + U2, U2, U1 + U3, U3]"
      ]
     },
     "execution_count": 48,
     "metadata": {},
     "output_type": "execute_result"
    }
   ],
   "source": [
    "npolar_transform(u,4/2)"
   ]
  },
  {
   "cell_type": "code",
   "execution_count": 52,
   "metadata": {},
   "outputs": [
    {
     "name": "stdout",
     "output_type": "stream",
     "text": [
      "4 [U0, U1, U2, U3]\n",
      "2 [U0 + U1, U2 + U3]\n",
      "1 [U0 + U1 + U2 + U3]\n",
      "1 [U2 + U3]\n",
      "2 [U1, U3]\n",
      "1 [U1 + U3]\n",
      "1 [U3]\n"
     ]
    },
    {
     "data": {
      "text/plain": [
       "[U0 + U1 + U2 + U3, U2 + U3, U1 + U3, U3]"
      ]
     },
     "execution_count": 52,
     "metadata": {},
     "output_type": "execute_result"
    }
   ],
   "source": [
    "npolar_coding(N=4, P=1)"
   ]
  },
  {
   "cell_type": "code",
   "execution_count": 53,
   "metadata": {},
   "outputs": [
    {
     "name": "stdout",
     "output_type": "stream",
     "text": [
      "4 [U0, U1, U2, U3]\n",
      "2 [U0, U2]\n",
      "1 [U0 + U2]\n",
      "1 [U2]\n",
      "2 [U1, U3]\n",
      "1 [U1 + U3]\n",
      "1 [U3]\n"
     ]
    },
    {
     "data": {
      "text/plain": [
       "[U0 + U2, U2, U1 + U3, U3]"
      ]
     },
     "execution_count": 53,
     "metadata": {},
     "output_type": "execute_result"
    }
   ],
   "source": [
    "npolar_coding(N=4, P=2)"
   ]
  },
  {
   "cell_type": "code",
   "execution_count": 54,
   "metadata": {},
   "outputs": [
    {
     "name": "stdout",
     "output_type": "stream",
     "text": [
      "4 [U0, U1, U2, U3]\n",
      "2 [U0, U2]\n",
      "1 [U0]\n",
      "1 [U2]\n",
      "2 [U1, U3]\n",
      "1 [U1]\n",
      "1 [U3]\n"
     ]
    },
    {
     "data": {
      "text/plain": [
       "[U0, U2, U1, U3]"
      ]
     },
     "execution_count": 54,
     "metadata": {},
     "output_type": "execute_result"
    }
   ],
   "source": [
    "npolar_coding(N=4, P=4)"
   ]
  },
  {
   "cell_type": "markdown",
   "metadata": {},
   "source": [
    "## n = 8"
   ]
  },
  {
   "cell_type": "code",
   "execution_count": 49,
   "metadata": {},
   "outputs": [
    {
     "name": "stdout",
     "output_type": "stream",
     "text": [
      "8 [U0, U1, U2, U3, U4, U5, U6, U7]\n",
      "4 [U0 + U1, U2 + U3, U4 + U5, U6 + U7]\n",
      "2 [U0 + U1 + U2 + U3, U4 + U5 + U6 + U7]\n",
      "1 [U0 + U1 + U2 + U3 + U4 + U5 + U6 + U7]\n",
      "1 [U4 + U5 + U6 + U7]\n",
      "2 [U2 + U3, U6 + U7]\n",
      "1 [U2 + U3 + U6 + U7]\n",
      "1 [U6 + U7]\n",
      "4 [U1, U3, U5, U7]\n",
      "2 [U1 + U3, U5 + U7]\n",
      "1 [U1 + U3 + U5 + U7]\n",
      "1 [U5 + U7]\n",
      "2 [U3, U7]\n",
      "1 [U3 + U7]\n",
      "1 [U7]\n"
     ]
    },
    {
     "data": {
      "text/plain": [
       "[U0 + U1 + U2 + U3 + U4 + U5 + U6 + U7,\n",
       " U4 + U5 + U6 + U7,\n",
       " U2 + U3 + U6 + U7,\n",
       " U6 + U7,\n",
       " U1 + U3 + U5 + U7,\n",
       " U5 + U7,\n",
       " U3 + U7,\n",
       " U7]"
      ]
     },
     "execution_count": 49,
     "metadata": {},
     "output_type": "execute_result"
    }
   ],
   "source": [
    "u = var('U',n=8)\n",
    "npolar_transform(u,8/1)"
   ]
  },
  {
   "cell_type": "code",
   "execution_count": 42,
   "metadata": {},
   "outputs": [
    {
     "name": "stdout",
     "output_type": "stream",
     "text": [
      "8 [U0, U1, U2, U3, U4, U5, U6, U7]\n",
      "4 [U0, U2, U4, U6]\n",
      "2 [U0 + U2, U4 + U6]\n",
      "1 [U0 + U2 + U4 + U6]\n",
      "1 [U4 + U6]\n",
      "2 [U2, U6]\n",
      "1 [U2 + U6]\n",
      "1 [U6]\n",
      "4 [U1, U3, U5, U7]\n",
      "2 [U1 + U3, U5 + U7]\n",
      "1 [U1 + U3 + U5 + U7]\n",
      "1 [U5 + U7]\n",
      "2 [U3, U7]\n",
      "1 [U3 + U7]\n",
      "1 [U7]\n"
     ]
    },
    {
     "data": {
      "text/plain": [
       "[U0 + U2 + U4 + U6,\n",
       " U4 + U6,\n",
       " U2 + U6,\n",
       " U6,\n",
       " U1 + U3 + U5 + U7,\n",
       " U5 + U7,\n",
       " U3 + U7,\n",
       " U7]"
      ]
     },
     "execution_count": 42,
     "metadata": {},
     "output_type": "execute_result"
    }
   ],
   "source": [
    "npolar_transform(u,8/2)"
   ]
  },
  {
   "cell_type": "code",
   "execution_count": 50,
   "metadata": {},
   "outputs": [
    {
     "name": "stdout",
     "output_type": "stream",
     "text": [
      "8 [U0, U1, U2, U3, U4, U5, U6, U7]\n",
      "4 [U0, U2, U4, U6]\n",
      "2 [U0, U4]\n",
      "1 [U0 + U4]\n",
      "1 [U4]\n",
      "2 [U2, U6]\n",
      "1 [U2 + U6]\n",
      "1 [U6]\n",
      "4 [U1, U3, U5, U7]\n",
      "2 [U1, U5]\n",
      "1 [U1 + U5]\n",
      "1 [U5]\n",
      "2 [U3, U7]\n",
      "1 [U3 + U7]\n",
      "1 [U7]\n"
     ]
    },
    {
     "data": {
      "text/plain": [
       "[U0 + U4, U4, U2 + U6, U6, U1 + U5, U5, U3 + U7, U7]"
      ]
     },
     "execution_count": 50,
     "metadata": {},
     "output_type": "execute_result"
    }
   ],
   "source": [
    "npolar_transform(u,8/4)"
   ]
  },
  {
   "cell_type": "code",
   "execution_count": 44,
   "metadata": {},
   "outputs": [
    {
     "name": "stdout",
     "output_type": "stream",
     "text": [
      "8 [U0, U1, U2, U3, U4, U5, U6, U7]\n",
      "4 [U0, U2, U4, U6]\n",
      "2 [U0, U4]\n",
      "1 [U0]\n",
      "1 [U4]\n",
      "2 [U2, U6]\n",
      "1 [U2]\n",
      "1 [U6]\n",
      "4 [U1, U3, U5, U7]\n",
      "2 [U1, U5]\n",
      "1 [U1]\n",
      "1 [U5]\n",
      "2 [U3, U7]\n",
      "1 [U3]\n",
      "1 [U7]\n"
     ]
    },
    {
     "data": {
      "text/plain": [
       "[U0, U4, U2, U6, U1, U5, U3, U7]"
      ]
     },
     "execution_count": 44,
     "metadata": {},
     "output_type": "execute_result"
    }
   ],
   "source": [
    "npolar_transform(u,8/8)"
   ]
  },
  {
   "cell_type": "code",
   "execution_count": 56,
   "metadata": {},
   "outputs": [
    {
     "ename": "TypeError",
     "evalue": "symbolic_sum() missing 2 required positional arguments: 'a' and 'b'",
     "output_type": "error",
     "traceback": [
      "\u001b[0;31m---------------------------------------------------------------------------\u001b[0m",
      "\u001b[0;31mTypeError\u001b[0m                                 Traceback (most recent call last)",
      "\u001b[0;32m<ipython-input-56-6a62fb9bc154>\u001b[0m in \u001b[0;36m<module>\u001b[0;34m()\u001b[0m\n\u001b[0;32m----> 1\u001b[0;31m \u001b[0msum\u001b[0m\u001b[0;34m(\u001b[0m\u001b[0mU1\u001b[0m\u001b[0;34m,\u001b[0m \u001b[0mU2\u001b[0m\u001b[0;34m)\u001b[0m\u001b[0;34m\u001b[0m\u001b[0;34m\u001b[0m\u001b[0m\n\u001b[0m",
      "\u001b[0;32m/home/sjkim/anaconda3/envs/sage/lib/python3.7/site-packages/sage/misc/functional.py\u001b[0m in \u001b[0;36msymbolic_sum\u001b[0;34m(expression, *args, **kwds)\u001b[0m\n\u001b[1;32m    573\u001b[0m     \"\"\"\n\u001b[1;32m    574\u001b[0m     \u001b[0;32mif\u001b[0m \u001b[0mhasattr\u001b[0m\u001b[0;34m(\u001b[0m\u001b[0mexpression\u001b[0m\u001b[0;34m,\u001b[0m \u001b[0;34m'sum'\u001b[0m\u001b[0;34m)\u001b[0m\u001b[0;34m:\u001b[0m\u001b[0;34m\u001b[0m\u001b[0;34m\u001b[0m\u001b[0m\n\u001b[0;32m--> 575\u001b[0;31m         \u001b[0;32mreturn\u001b[0m \u001b[0mexpression\u001b[0m\u001b[0;34m.\u001b[0m\u001b[0msum\u001b[0m\u001b[0;34m(\u001b[0m\u001b[0;34m*\u001b[0m\u001b[0margs\u001b[0m\u001b[0;34m,\u001b[0m \u001b[0;34m**\u001b[0m\u001b[0mkwds\u001b[0m\u001b[0;34m)\u001b[0m\u001b[0;34m\u001b[0m\u001b[0;34m\u001b[0m\u001b[0m\n\u001b[0m\u001b[1;32m    576\u001b[0m     \u001b[0;32melif\u001b[0m \u001b[0mlen\u001b[0m\u001b[0;34m(\u001b[0m\u001b[0margs\u001b[0m\u001b[0;34m)\u001b[0m \u001b[0;34m<=\u001b[0m \u001b[0;36m1\u001b[0m\u001b[0;34m:\u001b[0m\u001b[0;34m\u001b[0m\u001b[0;34m\u001b[0m\u001b[0m\n\u001b[1;32m    577\u001b[0m         \u001b[0;32mreturn\u001b[0m \u001b[0msum\u001b[0m\u001b[0;34m(\u001b[0m\u001b[0mexpression\u001b[0m\u001b[0;34m,\u001b[0m \u001b[0;34m*\u001b[0m\u001b[0margs\u001b[0m\u001b[0;34m)\u001b[0m\u001b[0;34m\u001b[0m\u001b[0;34m\u001b[0m\u001b[0m\n",
      "\u001b[0;32m/home/sjkim/anaconda3/envs/sage/lib/python3.7/site-packages/sage/symbolic/expression.pyx\u001b[0m in \u001b[0;36msage.symbolic.expression.Expression.sum (build/cythonized/sage/symbolic/expression.cpp:63901)\u001b[0;34m()\u001b[0m\n\u001b[1;32m  12281\u001b[0m         \"\"\"\n\u001b[1;32m  12282\u001b[0m         \u001b[0;32mfrom\u001b[0m \u001b[0msage\u001b[0m\u001b[0;34m.\u001b[0m\u001b[0mcalculus\u001b[0m\u001b[0;34m.\u001b[0m\u001b[0mcalculus\u001b[0m \u001b[0;32mimport\u001b[0m \u001b[0msymbolic_sum\u001b[0m\u001b[0;34m\u001b[0m\u001b[0;34m\u001b[0m\u001b[0m\n\u001b[0;32m> 12283\u001b[0;31m         \u001b[0;32mreturn\u001b[0m \u001b[0msymbolic_sum\u001b[0m\u001b[0;34m(\u001b[0m\u001b[0mself\u001b[0m\u001b[0;34m,\u001b[0m \u001b[0;34m*\u001b[0m\u001b[0margs\u001b[0m\u001b[0;34m,\u001b[0m \u001b[0;34m**\u001b[0m\u001b[0mkwds\u001b[0m\u001b[0;34m)\u001b[0m\u001b[0;34m\u001b[0m\u001b[0;34m\u001b[0m\u001b[0m\n\u001b[0m\u001b[1;32m  12284\u001b[0m \u001b[0;34m\u001b[0m\u001b[0m\n\u001b[1;32m  12285\u001b[0m     \u001b[0;32mdef\u001b[0m \u001b[0mprod\u001b[0m\u001b[0;34m(\u001b[0m\u001b[0mself\u001b[0m\u001b[0;34m,\u001b[0m \u001b[0;34m*\u001b[0m\u001b[0margs\u001b[0m\u001b[0;34m,\u001b[0m \u001b[0;34m**\u001b[0m\u001b[0mkwds\u001b[0m\u001b[0;34m)\u001b[0m\u001b[0;34m:\u001b[0m\u001b[0;34m\u001b[0m\u001b[0;34m\u001b[0m\u001b[0m\n",
      "\u001b[0;31mTypeError\u001b[0m: symbolic_sum() missing 2 required positional arguments: 'a' and 'b'"
     ]
    }
   ],
   "source": [
    "sum(U1, U2)"
   ]
  },
  {
   "cell_type": "code",
   "execution_count": 58,
   "metadata": {},
   "outputs": [
    {
     "data": {
      "text/plain": [
       "U0 + U1 + U2 + U3"
      ]
     },
     "execution_count": 58,
     "metadata": {},
     "output_type": "execute_result"
    }
   ],
   "source": [
    "sum(u[:4])"
   ]
  },
  {
   "cell_type": "code",
   "execution_count": null,
   "metadata": {},
   "outputs": [],
   "source": []
  }
 ],
 "metadata": {
  "kernelspec": {
   "display_name": "SageMath 9.0",
   "language": "sage",
   "name": "sagemath"
  },
  "language_info": {
   "codemirror_mode": {
    "name": "ipython",
    "version": 3
   },
   "file_extension": ".py",
   "mimetype": "text/x-python",
   "name": "python",
   "nbconvert_exporter": "python",
   "pygments_lexer": "ipython3",
   "version": "3.7.9"
  }
 },
 "nbformat": 4,
 "nbformat_minor": 4
}
