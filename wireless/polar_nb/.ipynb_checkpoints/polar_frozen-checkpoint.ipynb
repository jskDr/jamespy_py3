{
 "cells": [
  {
   "cell_type": "markdown",
   "metadata": {},
   "source": [
    "# Polar coding for any $N$ with array for speeding up\n",
    "We develop the simplist Polar coding example assuming the length of code is $N$=2. This will be used for AI example using Tensorflow. We will see how new rx method imitate Polar.\n",
    "- input을 꼬아 주어야 한다. 앞쪽에서 뺼때는 꼬여있어야 하기 때문이다."
   ]
  },
  {
   "cell_type": "markdown",
   "metadata": {},
   "source": [
    "## Common functions"
   ]
  },
  {
   "cell_type": "code",
   "execution_count": 3,
   "metadata": {},
   "outputs": [],
   "source": [
    "%load_ext autoreload\n",
    "%autoreload 2"
   ]
  },
  {
   "cell_type": "code",
   "execution_count": 4,
   "metadata": {},
   "outputs": [],
   "source": [
    "import numpy as np\n",
    "import numba as nb\n",
    "import matplotlib.pyplot as plt"
   ]
  },
  {
   "cell_type": "code",
   "execution_count": 5,
   "metadata": {},
   "outputs": [],
   "source": [
    "from wireless import nb_polar"
   ]
  },
  {
   "cell_type": "code",
   "execution_count": null,
   "metadata": {},
   "outputs": [],
   "source": [
    "polar = nb_polar.PolarCode(N_code=2, K_code=2)\n",
    "polar.run(SNRdB_list=list(range(10)), N_iter=100000, flag_fig=True)    "
   ]
  },
  {
   "cell_type": "code",
   "execution_count": null,
   "metadata": {},
   "outputs": [],
   "source": [
    "polar = nb_polar.PolarCodeFrozen(N_code=2, K_code=1, frozen_flag_n=np.array([1,0]))\n",
    "polar.run(SNRdB_list=list(range(10)), N_iter=100000, flag_fig=True)    "
   ]
  },
  {
   "cell_type": "code",
   "execution_count": 14,
   "metadata": {},
   "outputs": [],
   "source": [
    "def polar_bsc(N_code=4, p=0.11, N_iter=1000):\n",
    "    \"\"\"\n",
    "    (0,1)에 대한 원래 코드를 (1,-1)로 바꾸어서 p대신 2*p를 사용해 디자인했음.\n",
    "    Input:\n",
    "    p=0.11: 오류 확률을 넣는다. 그리고 p*100%의 심볼은 1로 오튜가 났다고 가정하고\n",
    "        0, 1에 상관없이 오류는 p만큼 모든 심볼에 들어가는 걸로 되어 있음. \n",
    "    Comments:\n",
    "    udhat는 frozen bit에 대한 실제 데이터를 결정한 값이다. 이 값은 통상 BER 계산시에는 사용되지 않는다.\n",
    "    frozen bit로 설정해 오류 역전파가 없다는 가정으로 각 채널의 성능 평가를 위해 사용한다.\n",
    "    \"\"\"\n",
    "    # 모든 비트를 frozen 시킴\n",
    "    f = np.ones(N_code, dtype=int)\n",
    "    biterrd = np.zeros(N_code)    \n",
    "    for i in range(N_iter):\n",
    "        # 정상 입력은 모두 0으로 가정함.\n",
    "        y = np.ones(N_code) - 2*p\n",
    "        y[np.random.rand(N_code)<p] = -1 + 2*p\n",
    "        ud_hat, x_hat = nb_polar.decode_frozen_n(y, f)\n",
    "        biterrd += ud_hat        \n",
    "    biterrd /= N_iter    \n",
    "    return biterrd"
   ]
  },
  {
   "cell_type": "code",
   "execution_count": 16,
   "metadata": {},
   "outputs": [
    {
     "data": {
      "text/plain": [
       "array([0.434, 0.54 , 0.193, 0.02 , 0.613, 0.139, 0.108, 0.006])"
      ]
     },
     "execution_count": 16,
     "metadata": {},
     "output_type": "execute_result"
    }
   ],
   "source": [
    "polar_bsc(8,0.11, 1000)"
   ]
  },
  {
   "cell_type": "code",
   "execution_count": 7,
   "metadata": {},
   "outputs": [
    {
     "data": {
      "text/plain": [
       "array([0.83421379, 0.91420555, 0.61273272, 0.32700163, 0.30476198])"
      ]
     },
     "execution_count": 7,
     "metadata": {},
     "output_type": "execute_result"
    }
   ],
   "source": [
    "N=5\n",
    "np.random.rand(N)"
   ]
  },
  {
   "cell_type": "code",
   "execution_count": null,
   "metadata": {},
   "outputs": [],
   "source": []
  }
 ],
 "metadata": {
  "kernelspec": {
   "display_name": "tf2",
   "language": "python",
   "name": "tf2"
  },
  "language_info": {
   "codemirror_mode": {
    "name": "ipython",
    "version": 3
   },
   "file_extension": ".py",
   "mimetype": "text/x-python",
   "name": "python",
   "nbconvert_exporter": "python",
   "pygments_lexer": "ipython3",
   "version": "3.7.7"
  }
 },
 "nbformat": 4,
 "nbformat_minor": 4
}
