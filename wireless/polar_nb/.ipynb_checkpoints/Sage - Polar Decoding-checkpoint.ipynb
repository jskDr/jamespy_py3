{
 "cells": [
  {
   "cell_type": "markdown",
   "metadata": {},
   "source": [
    "# Symbolic Polar Decoding using Sagemath"
   ]
  },
  {
   "cell_type": "code",
   "execution_count": 1,
   "metadata": {},
   "outputs": [],
   "source": [
    "from sage import *\n",
    "import numpy as np"
   ]
  },
  {
   "cell_type": "code",
   "execution_count": 2,
   "metadata": {},
   "outputs": [
    {
     "data": {
      "text/html": [
       "<html><script type=\"math/tex; mode=display\">\\newcommand{\\Bold}[1]{\\mathbf{#1}}\\verb|N=2|</script></html>"
      ],
      "text/plain": [
       "'N=2'"
      ]
     },
     "metadata": {},
     "output_type": "display_data"
    },
    {
     "data": {
      "text/html": [
       "<html><script type=\"math/tex; mode=display\">\\newcommand{\\Bold}[1]{\\mathbf{#1}}\\left[U_{0} + U_{1}, U_{1}\\right]</script></html>"
      ],
      "text/plain": [
       "[U0 + U1, U1]"
      ]
     },
     "metadata": {},
     "output_type": "display_data"
    },
    {
     "data": {
      "text/html": [
       "<html><script type=\"math/tex; mode=display\">\\newcommand{\\Bold}[1]{\\mathbf{#1}}\\left(\\left[U_{0}, U_{1}\\right], \\left[U_{0} + U_{1}, U_{1}\\right]\\right)</script></html>"
      ],
      "text/plain": [
       "([U0, U1], [U0 + U1, U1])"
      ]
     },
     "metadata": {},
     "output_type": "display_data"
    },
    {
     "data": {
      "text/html": [
       "<html><script type=\"math/tex; mode=display\">\\newcommand{\\Bold}[1]{\\mathbf{#1}}\\verb|N=4|</script></html>"
      ],
      "text/plain": [
       "'N=4'"
      ]
     },
     "metadata": {},
     "output_type": "display_data"
    },
    {
     "data": {
      "text/html": [
       "<html><script type=\"math/tex; mode=display\">\\newcommand{\\Bold}[1]{\\mathbf{#1}}\\left[U_{0} + U_{1} + U_{2} + U_{3}, U_{2} + U_{3}, U_{1} + U_{3}, U_{3}\\right]</script></html>"
      ],
      "text/plain": [
       "[U0 + U1 + U2 + U3, U2 + U3, U1 + U3, U3]"
      ]
     },
     "metadata": {},
     "output_type": "display_data"
    },
    {
     "data": {
      "text/html": [
       "<html><script type=\"math/tex; mode=display\">\\newcommand{\\Bold}[1]{\\mathbf{#1}}\\left(\\left[U_{0}, U_{1}, U_{2}, U_{3}\\right], \\left[U_{0} + U_{1} + U_{2} + U_{3}, U_{2} + U_{3}, U_{1} + U_{3}, U_{3}\\right]\\right)</script></html>"
      ],
      "text/plain": [
       "([U0, U1, U2, U3], [U0 + U1 + U2 + U3, U2 + U3, U1 + U3, U3])"
      ]
     },
     "metadata": {},
     "output_type": "display_data"
    },
    {
     "data": {
      "text/html": [
       "<html><script type=\"math/tex; mode=display\">\\newcommand{\\Bold}[1]{\\mathbf{#1}}\\verb|N=8|</script></html>"
      ],
      "text/plain": [
       "'N=8'"
      ]
     },
     "metadata": {},
     "output_type": "display_data"
    },
    {
     "data": {
      "text/html": [
       "<html><script type=\"math/tex; mode=display\">\\newcommand{\\Bold}[1]{\\mathbf{#1}}\\left[U_{0} + U_{1} + U_{2} + U_{3} + U_{4} + U_{5} + U_{6} + U_{7}, U_{4} + U_{5} + U_{6} + U_{7}, U_{2} + U_{3} + U_{6} + U_{7}, U_{6} + U_{7}, U_{1} + U_{3} + U_{5} + U_{7}, U_{5} + U_{7}, U_{3} + U_{7}, U_{7}\\right]</script></html>"
      ],
      "text/plain": [
       "[U0 + U1 + U2 + U3 + U4 + U5 + U6 + U7,\n",
       " U4 + U5 + U6 + U7,\n",
       " U2 + U3 + U6 + U7,\n",
       " U6 + U7,\n",
       " U1 + U3 + U5 + U7,\n",
       " U5 + U7,\n",
       " U3 + U7,\n",
       " U7]"
      ]
     },
     "metadata": {},
     "output_type": "display_data"
    },
    {
     "data": {
      "text/html": [
       "<html><script type=\"math/tex; mode=display\">\\newcommand{\\Bold}[1]{\\mathbf{#1}}\\left(\\left[U_{0}, U_{1}, U_{2}, U_{3}, U_{4}, U_{5}, U_{6}, U_{7}\\right], \\left[U_{0} + U_{1} + U_{2} + U_{3} + U_{4} + U_{5} + U_{6} + U_{7}, U_{4} + U_{5} + U_{6} + U_{7}, U_{2} + U_{3} + U_{6} + U_{7}, U_{6} + U_{7}, U_{1} + U_{3} + U_{5} + U_{7}, U_{5} + U_{7}, U_{3} + U_{7}, U_{7}\\right]\\right)</script></html>"
      ],
      "text/plain": [
       "([U0, U1, U2, U3, U4, U5, U6, U7],\n",
       " [U0 + U1 + U2 + U3 + U4 + U5 + U6 + U7,\n",
       "  U4 + U5 + U6 + U7,\n",
       "  U2 + U3 + U6 + U7,\n",
       "  U6 + U7,\n",
       "  U1 + U3 + U5 + U7,\n",
       "  U5 + U7,\n",
       "  U3 + U7,\n",
       "  U7])"
      ]
     },
     "metadata": {},
     "output_type": "display_data"
    }
   ],
   "source": [
    "from wireless import sagepolar\n",
    "sagepolar.test_decode_n()"
   ]
  },
  {
   "cell_type": "markdown",
   "metadata": {},
   "source": [
    "## Code test"
   ]
  },
  {
   "cell_type": "code",
   "execution_count": 3,
   "metadata": {},
   "outputs": [],
   "source": [
    "from wireless.sagepolar import *"
   ]
  },
  {
   "cell_type": "code",
   "execution_count": 4,
   "metadata": {},
   "outputs": [
    {
     "data": {
      "text/html": [
       "<html><script type=\"math/tex; mode=display\">\\newcommand{\\Bold}[1]{\\mathbf{#1}}\\verb|N=2|</script></html>"
      ],
      "text/plain": [
       "'N=2'"
      ]
     },
     "metadata": {},
     "output_type": "display_data"
    },
    {
     "data": {
      "text/html": [
       "<html><script type=\"math/tex; mode=display\">\\newcommand{\\Bold}[1]{\\mathbf{#1}}\\left[U_{0} + U_{1}, U_{1}\\right]</script></html>"
      ],
      "text/plain": [
       "[U0 + U1, U1]"
      ]
     },
     "metadata": {},
     "output_type": "display_data"
    },
    {
     "data": {
      "text/html": [
       "<html><script type=\"math/tex; mode=display\">\\newcommand{\\Bold}[1]{\\mathbf{#1}}\\left(\\left[U_{0}, U_{1}\\right], \\left[U_{0} + U_{1}, U_{1}\\right]\\right)</script></html>"
      ],
      "text/plain": [
       "([U0, U1], [U0 + U1, U1])"
      ]
     },
     "metadata": {},
     "output_type": "display_data"
    },
    {
     "data": {
      "text/html": [
       "<html><script type=\"math/tex; mode=display\">\\newcommand{\\Bold}[1]{\\mathbf{#1}}\\verb|N=4|</script></html>"
      ],
      "text/plain": [
       "'N=4'"
      ]
     },
     "metadata": {},
     "output_type": "display_data"
    },
    {
     "data": {
      "text/html": [
       "<html><script type=\"math/tex; mode=display\">\\newcommand{\\Bold}[1]{\\mathbf{#1}}\\left[U_{0} + U_{1} + U_{2} + U_{3}, U_{2} + U_{3}, U_{1} + U_{3}, U_{3}\\right]</script></html>"
      ],
      "text/plain": [
       "[U0 + U1 + U2 + U3, U2 + U3, U1 + U3, U3]"
      ]
     },
     "metadata": {},
     "output_type": "display_data"
    },
    {
     "data": {
      "text/html": [
       "<html><script type=\"math/tex; mode=display\">\\newcommand{\\Bold}[1]{\\mathbf{#1}}\\left(\\left[U_{0}, U_{1}, U_{2}, U_{3}\\right], \\left[U_{0} + U_{1} + U_{2} + U_{3}, U_{2} + U_{3}, U_{1} + U_{3}, U_{3}\\right]\\right)</script></html>"
      ],
      "text/plain": [
       "([U0, U1, U2, U3], [U0 + U1 + U2 + U3, U2 + U3, U1 + U3, U3])"
      ]
     },
     "metadata": {},
     "output_type": "display_data"
    },
    {
     "data": {
      "text/html": [
       "<html><script type=\"math/tex; mode=display\">\\newcommand{\\Bold}[1]{\\mathbf{#1}}\\verb|N=8|</script></html>"
      ],
      "text/plain": [
       "'N=8'"
      ]
     },
     "metadata": {},
     "output_type": "display_data"
    },
    {
     "data": {
      "text/html": [
       "<html><script type=\"math/tex; mode=display\">\\newcommand{\\Bold}[1]{\\mathbf{#1}}\\left[U_{0} + U_{1} + U_{2} + U_{3} + U_{4} + U_{5} + U_{6} + U_{7}, U_{4} + U_{5} + U_{6} + U_{7}, U_{2} + U_{3} + U_{6} + U_{7}, U_{6} + U_{7}, U_{1} + U_{3} + U_{5} + U_{7}, U_{5} + U_{7}, U_{3} + U_{7}, U_{7}\\right]</script></html>"
      ],
      "text/plain": [
       "[U0 + U1 + U2 + U3 + U4 + U5 + U6 + U7,\n",
       " U4 + U5 + U6 + U7,\n",
       " U2 + U3 + U6 + U7,\n",
       " U6 + U7,\n",
       " U1 + U3 + U5 + U7,\n",
       " U5 + U7,\n",
       " U3 + U7,\n",
       " U7]"
      ]
     },
     "metadata": {},
     "output_type": "display_data"
    },
    {
     "data": {
      "text/html": [
       "<html><script type=\"math/tex; mode=display\">\\newcommand{\\Bold}[1]{\\mathbf{#1}}\\left(\\left[U_{0}, U_{1}, U_{2}, U_{3}, U_{4}, U_{5}, U_{6}, U_{7}\\right], \\left[U_{0} + U_{1} + U_{2} + U_{3} + U_{4} + U_{5} + U_{6} + U_{7}, U_{4} + U_{5} + U_{6} + U_{7}, U_{2} + U_{3} + U_{6} + U_{7}, U_{6} + U_{7}, U_{1} + U_{3} + U_{5} + U_{7}, U_{5} + U_{7}, U_{3} + U_{7}, U_{7}\\right]\\right)</script></html>"
      ],
      "text/plain": [
       "([U0, U1, U2, U3, U4, U5, U6, U7],\n",
       " [U0 + U1 + U2 + U3 + U4 + U5 + U6 + U7,\n",
       "  U4 + U5 + U6 + U7,\n",
       "  U2 + U3 + U6 + U7,\n",
       "  U6 + U7,\n",
       "  U1 + U3 + U5 + U7,\n",
       "  U5 + U7,\n",
       "  U3 + U7,\n",
       "  U7])"
      ]
     },
     "metadata": {},
     "output_type": "display_data"
    }
   ],
   "source": [
    "def decode_n(y_array):\n",
    "    y1_array = y_array[0::2]\n",
    "    y2_array = y_array[1::2]    \n",
    "    \n",
    "    if len(y_array) == 1:\n",
    "        ud_array = y_array\n",
    "        xd_array = ud_array\n",
    "    else:\n",
    "        l1_array = []\n",
    "        for y1, y2 in zip(y1_array, y2_array):\n",
    "            l1 = y1 + y2\n",
    "            l1_array.append(l1)\n",
    "        ud1_array, xd1_array = decode_n(l1_array)\n",
    "\n",
    "        l2_array = []\n",
    "        for y1, y2, xd1 in zip(y1_array, y2_array, xd1_array):\n",
    "            if xd1 + y1 == y2:\n",
    "                l2 = y2\n",
    "            else:\n",
    "                l2 = y1 # make error\n",
    "            l2_array.append(l2)\n",
    "        ud2_array, xd2_array = decode_n(l2_array)\n",
    "\n",
    "        ud_array = ud1_array + ud2_array         \n",
    "        \n",
    "        for i in range(len(xd1_array)):\n",
    "            xd1_array[i]= xd1_array[i]+ xd2_array[i]\n",
    "        L2 = len(xd1_array)\n",
    "        xd_array = [0] * L2 * 2\n",
    "        xd_array[0::2] = xd1_array\n",
    "        xd_array[1::2] = xd2_array\n",
    "    return ud_array, xd_array\n",
    "\n",
    "def gen_u(N=2):\n",
    "    u_str = \"\"\n",
    "    for i in range(N):\n",
    "        if i == N - 1:\n",
    "            u_str = u_str + f'U{i}'\n",
    "        else:\n",
    "            u_str = u_str + f'U{i}' + ','\n",
    "        \n",
    "    u = polygen(IntegerModRing(2), u_str)\n",
    "    return u    \n",
    "\n",
    "def test_decode_n():\n",
    "    u = gen_u(2)\n",
    "    x = polar_transform(u)\n",
    "    show('N=2')\n",
    "    show(x)\n",
    "    show(decode_n(x))\n",
    "\n",
    "    u = gen_u(4)\n",
    "    x = polar_transform(u)\n",
    "    show('N=4')\n",
    "    show(x)\n",
    "    show(decode_n(x))\n",
    "\n",
    "    #R.<U0, U1, U2, U3, U4, U5, U6, U7> = IntegerModRing(2)[]\n",
    "    #u = [U0, U1, U2, U3, U4, U5, U6, U7]\n",
    "    u = gen_u(8)\n",
    "    x = polar_transform(u)\n",
    "    show('N=8')\n",
    "    show(x)\n",
    "    show(decode_n(x))\n",
    "    \n",
    "test_decode_n()"
   ]
  },
  {
   "cell_type": "code",
   "execution_count": null,
   "metadata": {},
   "outputs": [],
   "source": []
  }
 ],
 "metadata": {
  "kernelspec": {
   "display_name": "SageMath 9.0",
   "language": "sage",
   "name": "sagemath"
  },
  "language_info": {
   "codemirror_mode": {
    "name": "ipython",
    "version": 3
   },
   "file_extension": ".py",
   "mimetype": "text/x-python",
   "name": "python",
   "nbconvert_exporter": "python",
   "pygments_lexer": "ipython3",
   "version": "3.7.9"
  }
 },
 "nbformat": 4,
 "nbformat_minor": 2
}
