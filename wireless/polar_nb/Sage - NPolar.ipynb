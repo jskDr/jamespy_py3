{
 "cells": [
  {
   "cell_type": "markdown",
   "metadata": {},
   "source": [
    "# Symbolic Polar Decoding using Sagemath"
   ]
  },
  {
   "cell_type": "code",
   "execution_count": 1,
   "metadata": {},
   "outputs": [],
   "source": [
    "from sage import *\n",
    "import numpy as np\n",
    "from wireless import sagepolar"
   ]
  },
  {
   "cell_type": "code",
   "execution_count": 2,
   "metadata": {},
   "outputs": [
    {
     "name": "stdout",
     "output_type": "stream",
     "text": [
      "4 [U0, U1, U2, U3]\n",
      "2 [U0 + U1, U2 + U3]\n",
      "1 [U0 + U1 + U2 + U3]\n",
      "1 [U2 + U3]\n",
      "2 [U1, U3]\n",
      "1 [U1 + U3]\n",
      "1 [U3]\n"
     ]
    },
    {
     "data": {
      "text/plain": [
       "[U0 + U1 + U2 + U3, U2 + U3, U1 + U3, U3]"
      ]
     },
     "execution_count": 2,
     "metadata": {},
     "output_type": "execute_result"
    }
   ],
   "source": [
    "u = var('U',n=4)\n",
    "sagepolar.npolar_transform(u,1)"
   ]
  },
  {
   "cell_type": "code",
   "execution_count": 3,
   "metadata": {},
   "outputs": [
    {
     "name": "stdout",
     "output_type": "stream",
     "text": [
      "4 [U0, U1, U2, U3]\n",
      "2 [U0 + U1, U2 + U3]\n",
      "1 [U0 + U1 + U2 + U3]\n",
      "1 [U2 + U3]\n",
      "2 [U1, U3]\n",
      "1 [U1 + U3]\n",
      "1 [U3]\n"
     ]
    },
    {
     "data": {
      "text/plain": [
       "[U0 + U1 + U2 + U3, U2 + U3, U1 + U3, U3]"
      ]
     },
     "execution_count": 3,
     "metadata": {},
     "output_type": "execute_result"
    }
   ],
   "source": [
    "sagepolar.npolar_transform(u,2)"
   ]
  },
  {
   "cell_type": "code",
   "execution_count": 4,
   "metadata": {},
   "outputs": [
    {
     "name": "stdout",
     "output_type": "stream",
     "text": [
      "4 [U0, U1, U2, U3]\n"
     ]
    },
    {
     "data": {
      "text/plain": [
       "[U0, U1, U2, U3]"
      ]
     },
     "execution_count": 4,
     "metadata": {},
     "output_type": "execute_result"
    }
   ],
   "source": [
    "sagepolar.npolar_transform(u,4)"
   ]
  },
  {
   "cell_type": "code",
   "execution_count": 13,
   "metadata": {},
   "outputs": [],
   "source": [
    "def npolar_transform_r1(u,P=1):\n",
    "    u = list(u)\n",
    "    print(len(u), u)\n",
    "    if len(u) == P:\n",
    "        x = u\n",
    "    else:\n",
    "        u1 = u[0::2]\n",
    "        u2 = u[1::2]\n",
    "        u1u2 = []\n",
    "        for u1_i, u2_i in zip(u1, u2):\n",
    "            u1u2.append(u1_i + u2_i)\n",
    "        x = npolar_transform(u1u2,P) + npolar_transform(u2,P)\n",
    "    return x"
   ]
  },
  {
   "cell_type": "code",
   "execution_count": 7,
   "metadata": {},
   "outputs": [
    {
     "name": "stdout",
     "output_type": "stream",
     "text": [
      "4 [U0, U1, U2, U3]\n",
      "2 [U0 + U1, U2 + U3]\n",
      "1 [U0 + U1 + U2 + U3]\n",
      "1 [U2 + U3]\n",
      "2 [U1, U3]\n",
      "1 [U1 + U3]\n",
      "1 [U3]\n"
     ]
    },
    {
     "data": {
      "text/plain": [
       "[U0 + U1 + U2 + U3, U2 + U3, U1 + U3, U3]"
      ]
     },
     "execution_count": 7,
     "metadata": {},
     "output_type": "execute_result"
    }
   ],
   "source": [
    "npolar_transform(u,1)"
   ]
  },
  {
   "cell_type": "code",
   "execution_count": 8,
   "metadata": {},
   "outputs": [
    {
     "name": "stdout",
     "output_type": "stream",
     "text": [
      "4 [U0, U1, U2, U3]\n",
      "2 [U0 + U1, U2 + U3]\n",
      "2 [U1, U3]\n"
     ]
    },
    {
     "data": {
      "text/plain": [
       "[U0 + U1, U2 + U3, U1, U3]"
      ]
     },
     "execution_count": 8,
     "metadata": {},
     "output_type": "execute_result"
    }
   ],
   "source": [
    "npolar_transform(u,2)"
   ]
  },
  {
   "cell_type": "code",
   "execution_count": 9,
   "metadata": {},
   "outputs": [
    {
     "name": "stdout",
     "output_type": "stream",
     "text": [
      "4 [U0, U1, U2, U3]\n"
     ]
    },
    {
     "data": {
      "text/plain": [
       "[U0, U1, U2, U3]"
      ]
     },
     "execution_count": 9,
     "metadata": {},
     "output_type": "execute_result"
    }
   ],
   "source": [
    "npolar_transform(u,4)"
   ]
  },
  {
   "cell_type": "code",
   "execution_count": 11,
   "metadata": {},
   "outputs": [
    {
     "name": "stdout",
     "output_type": "stream",
     "text": [
      "4 [U0, U1, U2, U3]\n",
      "2 [U0 + U1, U2 + U3]\n",
      "2 [U1, U3]\n"
     ]
    },
    {
     "data": {
      "text/plain": [
       "[U0 + U1, U2 + U3, U1, U3]"
      ]
     },
     "execution_count": 11,
     "metadata": {},
     "output_type": "execute_result"
    }
   ],
   "source": [
    "npolar_transform(u,2)"
   ]
  },
  {
   "cell_type": "code",
   "execution_count": 114,
   "metadata": {},
   "outputs": [],
   "source": [
    "def npolar_transform(u,N_P=4/1):\n",
    "    u = list(u)\n",
    "    print(len(u), u)\n",
    "    if len(u) == 1:\n",
    "        x = u\n",
    "    elif len(u) > N_P:\n",
    "        # 처음이 1이고 갈수록 2, 4, 8이 된다.\n",
    "        u1 = u[0::2]\n",
    "        u2 = u[1::2]\n",
    "        x = npolar_transform(u1,N_P) + npolar_transform(u2,N_P)                \n",
    "    else:\n",
    "        u1 = u[0::2]\n",
    "        u2 = u[1::2]\n",
    "        u1u2 = []\n",
    "        for u1_i, u2_i in zip(u1, u2):\n",
    "            u1u2.append(u1_i + u2_i)\n",
    "        x = npolar_transform(u1u2,N_P) + npolar_transform(u2,N_P)\n",
    "    return x\n",
    "\n",
    "def _npolar_coding(N=8, P=1):\n",
    "    N_P = N / P\n",
    "    u = var('U',n=N)\n",
    "    y_polar = npolar_transform(u, N_P=N_P)\n",
    "    print('y_polar:', y_polar)\n",
    "    x_polar = []    \n",
    "    x_polar_idx = []\n",
    "    ae_polar = y_polar.copy()\n",
    "    idx = range(N)\n",
    "    for i in range(N_P):\n",
    "        y_polar_l = y_polar[i::N_P]\n",
    "        idx_l = idx[i::N_P]\n",
    "        if len(y_polar_l) > 1:\n",
    "            x_polar.append(y_polar_l)\n",
    "            x_polar_idx.append(list(idx_l))\n",
    "        else:\n",
    "            x_polar.append(y_polar_l[0])\n",
    "            x_polar_idx.append(idx_l[0])\n",
    "        ae_polar_l = ae_coding(x_polar[-1], P)\n",
    "        print('x_polar:', x_polar)\n",
    "    return x_polar, x_polar_idx, ae_polar\n",
    "\n",
    "def npolar_coding(N=8, P=1):\n",
    "    N_P = N / P\n",
    "    u = var('U',n=N)\n",
    "    y_polar = npolar_transform(u, N_P=N_P)\n",
    "    #print('y_polar:', y_polar)\n",
    "    x_polar = []    \n",
    "    x_polar_idx = []\n",
    "    ae_polar = y_polar.copy()\n",
    "    idx = list(range(N))\n",
    "    for i in range(N_P):\n",
    "        y_polar_l = y_polar[i::N_P]\n",
    "        idx_l = idx[i::N_P]\n",
    "        x_polar.append(y_polar_l)\n",
    "        x_polar_idx.append(idx_l)\n",
    "        ae_polar_l = ae_coding(x_polar[-1], P)\n",
    "        for i, j in enumerate(x_polar_idx[-1]):\n",
    "            ae_polar[j] = ae_polar_l[i]\n",
    "        #print('x_polar:', x_polar)\n",
    "    return x_polar, x_polar_idx, ae_polar\n",
    "\n",
    "def ae_coding(x, P):\n",
    "    return x"
   ]
  },
  {
   "cell_type": "markdown",
   "metadata": {},
   "source": [
    "## n = 4"
   ]
  },
  {
   "cell_type": "code",
   "execution_count": 115,
   "metadata": {},
   "outputs": [
    {
     "name": "stdout",
     "output_type": "stream",
     "text": [
      "4 [U0, U1, U2, U3]\n",
      "2 [U0 + U1, U2 + U3]\n",
      "1 [U0 + U1 + U2 + U3]\n",
      "1 [U2 + U3]\n",
      "2 [U1, U3]\n",
      "1 [U1 + U3]\n",
      "1 [U3]\n"
     ]
    },
    {
     "data": {
      "text/plain": [
       "([[U0 + U1 + U2 + U3], [U2 + U3], [U1 + U3], [U3]],\n",
       " [[0], [1], [2], [3]],\n",
       " [U0 + U1 + U2 + U3, U2 + U3, U1 + U3, U3])"
      ]
     },
     "execution_count": 115,
     "metadata": {},
     "output_type": "execute_result"
    }
   ],
   "source": [
    "npolar_coding(N=4, P=1)"
   ]
  },
  {
   "cell_type": "code",
   "execution_count": 117,
   "metadata": {},
   "outputs": [
    {
     "name": "stdout",
     "output_type": "stream",
     "text": [
      "4 [U0, U1, U2, U3]\n",
      "2 [U0, U2]\n",
      "1 [U0 + U2]\n",
      "1 [U2]\n",
      "2 [U1, U3]\n",
      "1 [U1 + U3]\n",
      "1 [U3]\n"
     ]
    },
    {
     "data": {
      "text/plain": [
       "([[U0 + U2, U1 + U3], [U2, U3]], [[0, 2], [1, 3]], [U0 + U2, U2, U1 + U3, U3])"
      ]
     },
     "execution_count": 117,
     "metadata": {},
     "output_type": "execute_result"
    }
   ],
   "source": [
    "npolar_coding(N=4, P=2)"
   ]
  },
  {
   "cell_type": "code",
   "execution_count": 118,
   "metadata": {},
   "outputs": [
    {
     "name": "stdout",
     "output_type": "stream",
     "text": [
      "4 [U0, U1, U2, U3]\n",
      "2 [U0, U2]\n",
      "1 [U0]\n",
      "1 [U2]\n",
      "2 [U1, U3]\n",
      "1 [U1]\n",
      "1 [U3]\n"
     ]
    },
    {
     "data": {
      "text/plain": [
       "([[U0, U2, U1, U3]], [[0, 1, 2, 3]], [U0, U2, U1, U3])"
      ]
     },
     "execution_count": 118,
     "metadata": {},
     "output_type": "execute_result"
    }
   ],
   "source": [
    "npolar_coding(N=4, P=4)"
   ]
  },
  {
   "cell_type": "markdown",
   "metadata": {},
   "source": [
    "## n = 8"
   ]
  },
  {
   "cell_type": "code",
   "execution_count": 110,
   "metadata": {},
   "outputs": [
    {
     "name": "stdout",
     "output_type": "stream",
     "text": [
      "8 [U0, U1, U2, U3, U4, U5, U6, U7]\n",
      "4 [U0 + U1, U2 + U3, U4 + U5, U6 + U7]\n",
      "2 [U0 + U1 + U2 + U3, U4 + U5 + U6 + U7]\n",
      "1 [U0 + U1 + U2 + U3 + U4 + U5 + U6 + U7]\n",
      "1 [U4 + U5 + U6 + U7]\n",
      "2 [U2 + U3, U6 + U7]\n",
      "1 [U2 + U3 + U6 + U7]\n",
      "1 [U6 + U7]\n",
      "4 [U1, U3, U5, U7]\n",
      "2 [U1 + U3, U5 + U7]\n",
      "1 [U1 + U3 + U5 + U7]\n",
      "1 [U5 + U7]\n",
      "2 [U3, U7]\n",
      "1 [U3 + U7]\n",
      "1 [U7]\n",
      "y_polar: [U0 + U1 + U2 + U3 + U4 + U5 + U6 + U7, U4 + U5 + U6 + U7, U2 + U3 + U6 + U7, U6 + U7, U1 + U3 + U5 + U7, U5 + U7, U3 + U7, U7]\n",
      "x_polar: [[U0 + U1 + U2 + U3 + U4 + U5 + U6 + U7]]\n",
      "x_polar: [[U0 + U1 + U2 + U3 + U4 + U5 + U6 + U7], [U4 + U5 + U6 + U7]]\n",
      "x_polar: [[U0 + U1 + U2 + U3 + U4 + U5 + U6 + U7], [U4 + U5 + U6 + U7], [U2 + U3 + U6 + U7]]\n",
      "x_polar: [[U0 + U1 + U2 + U3 + U4 + U5 + U6 + U7], [U4 + U5 + U6 + U7], [U2 + U3 + U6 + U7], [U6 + U7]]\n",
      "x_polar: [[U0 + U1 + U2 + U3 + U4 + U5 + U6 + U7], [U4 + U5 + U6 + U7], [U2 + U3 + U6 + U7], [U6 + U7], [U1 + U3 + U5 + U7]]\n",
      "x_polar: [[U0 + U1 + U2 + U3 + U4 + U5 + U6 + U7], [U4 + U5 + U6 + U7], [U2 + U3 + U6 + U7], [U6 + U7], [U1 + U3 + U5 + U7], [U5 + U7]]\n",
      "x_polar: [[U0 + U1 + U2 + U3 + U4 + U5 + U6 + U7], [U4 + U5 + U6 + U7], [U2 + U3 + U6 + U7], [U6 + U7], [U1 + U3 + U5 + U7], [U5 + U7], [U3 + U7]]\n",
      "x_polar: [[U0 + U1 + U2 + U3 + U4 + U5 + U6 + U7], [U4 + U5 + U6 + U7], [U2 + U3 + U6 + U7], [U6 + U7], [U1 + U3 + U5 + U7], [U5 + U7], [U3 + U7], [U7]]\n"
     ]
    },
    {
     "data": {
      "text/plain": [
       "([[U0 + U1 + U2 + U3 + U4 + U5 + U6 + U7],\n",
       "  [U4 + U5 + U6 + U7],\n",
       "  [U2 + U3 + U6 + U7],\n",
       "  [U6 + U7],\n",
       "  [U1 + U3 + U5 + U7],\n",
       "  [U5 + U7],\n",
       "  [U3 + U7],\n",
       "  [U7]],\n",
       " [[0], [1], [2], [3], [4], [5], [6], [7]],\n",
       " [U0 + U1 + U2 + U3 + U4 + U5 + U6 + U7,\n",
       "  U4 + U5 + U6 + U7,\n",
       "  U2 + U3 + U6 + U7,\n",
       "  U6 + U7,\n",
       "  U1 + U3 + U5 + U7,\n",
       "  U5 + U7,\n",
       "  U3 + U7,\n",
       "  U7])"
      ]
     },
     "execution_count": 110,
     "metadata": {},
     "output_type": "execute_result"
    }
   ],
   "source": [
    "npolar_coding(N=8, P=1)"
   ]
  },
  {
   "cell_type": "code",
   "execution_count": 111,
   "metadata": {},
   "outputs": [
    {
     "name": "stdout",
     "output_type": "stream",
     "text": [
      "8 [U0, U1, U2, U3, U4, U5, U6, U7]\n",
      "4 [U0, U2, U4, U6]\n",
      "2 [U0 + U2, U4 + U6]\n",
      "1 [U0 + U2 + U4 + U6]\n",
      "1 [U4 + U6]\n",
      "2 [U2, U6]\n",
      "1 [U2 + U6]\n",
      "1 [U6]\n",
      "4 [U1, U3, U5, U7]\n",
      "2 [U1 + U3, U5 + U7]\n",
      "1 [U1 + U3 + U5 + U7]\n",
      "1 [U5 + U7]\n",
      "2 [U3, U7]\n",
      "1 [U3 + U7]\n",
      "1 [U7]\n",
      "y_polar: [U0 + U2 + U4 + U6, U4 + U6, U2 + U6, U6, U1 + U3 + U5 + U7, U5 + U7, U3 + U7, U7]\n",
      "x_polar: [[U0 + U2 + U4 + U6, U1 + U3 + U5 + U7]]\n",
      "x_polar: [[U0 + U2 + U4 + U6, U1 + U3 + U5 + U7], [U4 + U6, U5 + U7]]\n",
      "x_polar: [[U0 + U2 + U4 + U6, U1 + U3 + U5 + U7], [U4 + U6, U5 + U7], [U2 + U6, U3 + U7]]\n",
      "x_polar: [[U0 + U2 + U4 + U6, U1 + U3 + U5 + U7], [U4 + U6, U5 + U7], [U2 + U6, U3 + U7], [U6, U7]]\n"
     ]
    },
    {
     "data": {
      "text/plain": [
       "([[U0 + U2 + U4 + U6, U1 + U3 + U5 + U7],\n",
       "  [U4 + U6, U5 + U7],\n",
       "  [U2 + U6, U3 + U7],\n",
       "  [U6, U7]],\n",
       " [[0, 4], [1, 5], [2, 6], [3, 7]],\n",
       " [U0 + U2 + U4 + U6,\n",
       "  U4 + U6,\n",
       "  U2 + U6,\n",
       "  U6,\n",
       "  U1 + U3 + U5 + U7,\n",
       "  U5 + U7,\n",
       "  U3 + U7,\n",
       "  U7])"
      ]
     },
     "execution_count": 111,
     "metadata": {},
     "output_type": "execute_result"
    }
   ],
   "source": [
    "npolar_coding(N=8, P=2)"
   ]
  },
  {
   "cell_type": "code",
   "execution_count": 112,
   "metadata": {},
   "outputs": [
    {
     "name": "stdout",
     "output_type": "stream",
     "text": [
      "8 [U0, U1, U2, U3, U4, U5, U6, U7]\n",
      "4 [U0, U2, U4, U6]\n",
      "2 [U0, U4]\n",
      "1 [U0 + U4]\n",
      "1 [U4]\n",
      "2 [U2, U6]\n",
      "1 [U2 + U6]\n",
      "1 [U6]\n",
      "4 [U1, U3, U5, U7]\n",
      "2 [U1, U5]\n",
      "1 [U1 + U5]\n",
      "1 [U5]\n",
      "2 [U3, U7]\n",
      "1 [U3 + U7]\n",
      "1 [U7]\n",
      "y_polar: [U0 + U4, U4, U2 + U6, U6, U1 + U5, U5, U3 + U7, U7]\n",
      "x_polar: [[U0 + U4, U2 + U6, U1 + U5, U3 + U7]]\n",
      "x_polar: [[U0 + U4, U2 + U6, U1 + U5, U3 + U7], [U4, U6, U5, U7]]\n"
     ]
    },
    {
     "data": {
      "text/plain": [
       "([[U0 + U4, U2 + U6, U1 + U5, U3 + U7], [U4, U6, U5, U7]],\n",
       " [[0, 2, 4, 6], [1, 3, 5, 7]],\n",
       " [U0 + U4, U4, U2 + U6, U6, U1 + U5, U5, U3 + U7, U7])"
      ]
     },
     "execution_count": 112,
     "metadata": {},
     "output_type": "execute_result"
    }
   ],
   "source": [
    "npolar_coding(N=8, P=4)"
   ]
  },
  {
   "cell_type": "code",
   "execution_count": 113,
   "metadata": {},
   "outputs": [
    {
     "name": "stdout",
     "output_type": "stream",
     "text": [
      "8 [U0, U1, U2, U3, U4, U5, U6, U7]\n",
      "4 [U0, U2, U4, U6]\n",
      "2 [U0, U4]\n",
      "1 [U0]\n",
      "1 [U4]\n",
      "2 [U2, U6]\n",
      "1 [U2]\n",
      "1 [U6]\n",
      "4 [U1, U3, U5, U7]\n",
      "2 [U1, U5]\n",
      "1 [U1]\n",
      "1 [U5]\n",
      "2 [U3, U7]\n",
      "1 [U3]\n",
      "1 [U7]\n",
      "y_polar: [U0, U4, U2, U6, U1, U5, U3, U7]\n",
      "x_polar: [[U0, U4, U2, U6, U1, U5, U3, U7]]\n"
     ]
    },
    {
     "data": {
      "text/plain": [
       "([[U0, U4, U2, U6, U1, U5, U3, U7]],\n",
       " [[0, 1, 2, 3, 4, 5, 6, 7]],\n",
       " [U0, U4, U2, U6, U1, U5, U3, U7])"
      ]
     },
     "execution_count": 113,
     "metadata": {},
     "output_type": "execute_result"
    }
   ],
   "source": [
    "npolar_coding(N=8, P=8)"
   ]
  }
 ],
 "metadata": {
  "kernelspec": {
   "display_name": "SageMath 9.0",
   "language": "sage",
   "name": "sagemath"
  },
  "language_info": {
   "codemirror_mode": {
    "name": "ipython",
    "version": 3
   },
   "file_extension": ".py",
   "mimetype": "text/x-python",
   "name": "python",
   "nbconvert_exporter": "python",
   "pygments_lexer": "ipython3",
   "version": "3.7.9"
  }
 },
 "nbformat": 4,
 "nbformat_minor": 4
}
