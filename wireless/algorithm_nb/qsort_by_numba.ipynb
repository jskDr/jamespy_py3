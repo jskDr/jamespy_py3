{
 "cells": [
  {
   "cell_type": "markdown",
   "metadata": {},
   "source": [
    "# Quick Sort Algorithm Code Implemented by Numba in Python\n",
    "- 파이썬의 numba 패키지를 이용한 퀵 정렬 알고리즘 구현\n",
    "- Numba는 파이썬 코드를 실시간으로 C로 번역해 속도를 높힌다. \n",
    "- Numba로 구현했을 때와 일반적인 파이썬을 사용한 경우의 속도를 비교한다. \n",
    "  - 길이 1000짜리 정수 배열을 아래 알고리즘으로 퀵정렬한 경우, numba를 사용한 경우의 속도가 266배 빠르다. "
   ]
  },
  {
   "cell_type": "code",
   "execution_count": 1,
   "metadata": {},
   "outputs": [],
   "source": [
    "from numba import jit, int32\n",
    "import numpy as np"
   ]
  },
  {
   "cell_type": "markdown",
   "metadata": {},
   "source": [
    "## Numba를 사용하지 않은 파이썬 퀵정렬 코드"
   ]
  },
  {
   "cell_type": "code",
   "execution_count": 2,
   "metadata": {},
   "outputs": [
    {
     "data": {
      "text/plain": [
       "array([  1,   2,   3,   4,   5,   6,   7,  10,  20,  38,  42, 100])"
      ]
     },
     "execution_count": 2,
     "metadata": {},
     "output_type": "execute_result"
    }
   ],
   "source": [
    "def qsort_nojit(A, left, right):\n",
    "    if left < right:\n",
    "        #print(left, right)\n",
    "        pivot = partisioning_nojit(A, left, right)\n",
    "        qsort_nojit(A, left, pivot-1)\n",
    "        qsort_nojit(A, pivot+1, right)\n",
    "\n",
    "def partisioning_nojit(A, left, right):\n",
    "    st = left\n",
    "    ed = right\n",
    "    p_item = A[left]\n",
    "    while st < ed:\n",
    "        while st <= right and A[st] <= p_item:\n",
    "            st += 1\n",
    "        while ed >= left and A[ed] > p_item:\n",
    "            ed -= 1\n",
    "        if st < ed:\n",
    "            A[st], A[ed] = A[ed], A[st]\n",
    "        #print(st, ed)\n",
    "    A[left] = A[ed]\n",
    "    A[ed] = p_item\n",
    "    return ed\n",
    "        \n",
    "def quicksort_nojit(A):\n",
    "    qsort_nojit(A, 0, len(A)-1)\n",
    "    return A\n",
    "\n",
    "quicksort_nojit(np.array([6, 5, 38, 42, 3, 4, 7, 2, 1, 10, 100, 20]))"
   ]
  },
  {
   "cell_type": "markdown",
   "metadata": {},
   "source": [
    "## Numba를 사용한 경우 파이썬 퀵정렬 코드"
   ]
  },
  {
   "cell_type": "code",
   "execution_count": 3,
   "metadata": {},
   "outputs": [
    {
     "data": {
      "text/plain": [
       "array([  1,   2,   3,   4,   5,   6,   7,  10,  20,  38,  42, 100])"
      ]
     },
     "execution_count": 3,
     "metadata": {},
     "output_type": "execute_result"
    }
   ],
   "source": [
    "@jit\n",
    "def qsort(A, left, right):\n",
    "    if left < right:\n",
    "        pivot = partisioning(A, left, right)\n",
    "        qsort(A, left, pivot-1)\n",
    "        qsort(A, pivot+1, right)\n",
    "    return A\n",
    "\n",
    "@jit\n",
    "def partisioning(A, left, right):\n",
    "    st = left\n",
    "    ed = right\n",
    "    p_item = A[left]\n",
    "    while st < ed:\n",
    "        while st <= right and A[st] <= p_item:\n",
    "            st += 1\n",
    "        while ed >= left and A[ed] > p_item:\n",
    "            ed -= 1\n",
    "        if st < ed:\n",
    "            A[st], A[ed] = A[ed], A[st]\n",
    "        #print(st, ed)\n",
    "    A[left] = A[ed]\n",
    "    A[ed] = p_item\n",
    "    return ed\n",
    "        \n",
    "@jit\n",
    "def quicksort(A):\n",
    "    qsort(A, 0, len(A)-1)\n",
    "    return A\n",
    "\n",
    "quicksort(np.array([6, 5, 38, 42, 3, 4, 7, 2, 1, 10, 100, 20]))"
   ]
  },
  {
   "cell_type": "markdown",
   "metadata": {},
   "source": [
    "## Numba를 사용한 경우와 그렇지 않은 경우를 비교\n",
    "- 배열의 길이가 1000인 경우에 대해 상호 비교\n",
    "- Numba를 사용한 경우의 속도가 266배 빠르다. "
   ]
  },
  {
   "cell_type": "code",
   "execution_count": 4,
   "metadata": {},
   "outputs": [],
   "source": [
    "A = np.random.randint(1000, size=1000)"
   ]
  },
  {
   "cell_type": "code",
   "execution_count": 5,
   "metadata": {},
   "outputs": [
    {
     "name": "stdout",
     "output_type": "stream",
     "text": [
      "75.3 ms ± 648 µs per loop (mean ± std. dev. of 7 runs, 10 loops each)\n"
     ]
    }
   ],
   "source": [
    "%timeit B = quicksort_nojit(A)"
   ]
  },
  {
   "cell_type": "code",
   "execution_count": 6,
   "metadata": {},
   "outputs": [
    {
     "name": "stdout",
     "output_type": "stream",
     "text": [
      "283 µs ± 4.34 µs per loop (mean ± std. dev. of 7 runs, 1000 loops each)\n"
     ]
    }
   ],
   "source": [
    "%timeit B = quicksort(A)"
   ]
  },
  {
   "cell_type": "code",
   "execution_count": 8,
   "metadata": {},
   "outputs": [
    {
     "data": {
      "text/plain": [
       "266.07773851590105"
      ]
     },
     "execution_count": 8,
     "metadata": {},
     "output_type": "execute_result"
    }
   ],
   "source": [
    "75.3e3 / 283"
   ]
  },
  {
   "cell_type": "code",
   "execution_count": null,
   "metadata": {},
   "outputs": [],
   "source": []
  }
 ],
 "metadata": {
  "kernelspec": {
   "display_name": "tf2",
   "language": "python",
   "name": "tf2"
  },
  "language_info": {
   "codemirror_mode": {
    "name": "ipython",
    "version": 3
   },
   "file_extension": ".py",
   "mimetype": "text/x-python",
   "name": "python",
   "nbconvert_exporter": "python",
   "pygments_lexer": "ipython3",
   "version": "3.7.4"
  }
 },
 "nbformat": 4,
 "nbformat_minor": 4
}
