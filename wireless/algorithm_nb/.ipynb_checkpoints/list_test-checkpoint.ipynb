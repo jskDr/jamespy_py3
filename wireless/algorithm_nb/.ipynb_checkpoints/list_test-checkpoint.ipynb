{
 "cells": [
  {
   "cell_type": "code",
   "execution_count": 2,
   "metadata": {},
   "outputs": [
    {
     "name": "stdout",
     "output_type": "stream",
     "text": [
      "Hello\n"
     ]
    }
   ],
   "source": [
    "#include <stdio.h>\n",
    "\n",
    "int main(){\n",
    "    printf(\"Hello\\n\");\n",
    "    return 0;\n",
    "}"
   ]
  },
  {
   "cell_type": "code",
   "execution_count": 16,
   "metadata": {},
   "outputs": [
    {
     "name": "stdout",
     "output_type": "stream",
     "text": [
      "10\n",
      "Next is NULL!"
     ]
    }
   ],
   "source": [
    "#include <stdio.h>\n",
    "\n",
    "struct ListNode {\n",
    "    int data;\n",
    "    struct ListNode *next;\n",
    "};\n",
    "\n",
    "int main(){\n",
    "    struct ListNode mylist;\n",
    "    mylist.data = 10;\n",
    "    mylist.next = NULL;\n",
    "    printf(\"%d\\n\", mylist.data);\n",
    "    if (mylist.next == NULL) {\n",
    "        printf(\"Next is NULL!\");\n",
    "    }\n",
    "    return 0;\n",
    "}"
   ]
  }
 ],
 "metadata": {
  "kernelspec": {
   "display_name": "C",
   "language": "c",
   "name": "c"
  },
  "language_info": {
   "file_extension": ".c",
   "mimetype": "text/plain",
   "name": "c"
  }
 },
 "nbformat": 4,
 "nbformat_minor": 4
}
