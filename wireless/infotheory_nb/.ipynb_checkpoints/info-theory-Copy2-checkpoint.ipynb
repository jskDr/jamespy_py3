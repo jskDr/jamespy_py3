{
 "cells": [
  {
   "cell_type": "code",
   "execution_count": 1,
   "metadata": {},
   "outputs": [],
   "source": [
    "from sage.all import *"
   ]
  },
  {
   "cell_type": "code",
   "execution_count": 2,
   "metadata": {},
   "outputs": [],
   "source": [
    "%load_ext autoreload\n",
    "%autoreload 2"
   ]
  },
  {
   "cell_type": "markdown",
   "metadata": {},
   "source": [
    "## LIB: entropy in wireless.infotheory"
   ]
  },
  {
   "cell_type": "code",
   "execution_count": 3,
   "metadata": {},
   "outputs": [
    {
     "name": "stdout",
     "output_type": "stream",
     "text": [
      "Σ_x log(p(x))*p(x)\n"
     ]
    }
   ],
   "source": [
    "from wireless.infotheory import entropy\n",
    "entropy.test_010()"
   ]
  },
  {
   "cell_type": "code",
   "execution_count": 4,
   "metadata": {},
   "outputs": [
    {
     "name": "stdout",
     "output_type": "stream",
     "text": [
      "Σ_x log(p(x))*p(x)\n"
     ]
    }
   ],
   "source": [
    "class DRV:\n",
    "    # descrete random variable\n",
    "    def __init__(self):\n",
    "        self.x = var('x')\n",
    "        self.p = function('p')\n",
    "        self.dist = None # not define yet\n",
    "\n",
    "class SUM:\n",
    "    def __init__(self, f, x, X=None):\n",
    "        self.f = f # function\n",
    "        self.x = x # argument for sum\n",
    "        self.X = X # all x\n",
    "    \n",
    "    def __repr__(self):\n",
    "        if self.X is None:\n",
    "            return f'Σ_{self.x} {self.f}'\n",
    "        else:\n",
    "            return f'Σ_{self.x} {self.f} in {self.X}'\n",
    "        \n",
    "    def __str__(self):\n",
    "        return self.__repr__()\n",
    "        \n",
    "def H(X):\n",
    "    \"\"\"\n",
    "    Caculate entropy of descrete random variable X\n",
    "    \"\"\"\n",
    "    return SUM(p(X.x)*log(X.p(X.x)), X.x, X.dist)\n",
    "\n",
    "def test_010():\n",
    "    X = DRV()\n",
    "    print(H(X))\n",
    "    \n",
    "test_010()"
   ]
  }
 ],
 "metadata": {
  "kernelspec": {
   "display_name": "Python3_Sage9",
   "language": "python",
   "name": "sage"
  },
  "language_info": {
   "codemirror_mode": {
    "name": "ipython",
    "version": 3
   },
   "file_extension": ".py",
   "mimetype": "text/x-python",
   "name": "python",
   "nbconvert_exporter": "python",
   "pygments_lexer": "ipython3",
   "version": "3.7.7"
  }
 },
 "nbformat": 4,
 "nbformat_minor": 4
}
