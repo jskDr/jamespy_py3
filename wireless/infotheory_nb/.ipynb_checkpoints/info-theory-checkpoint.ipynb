{
 "cells": [
  {
   "cell_type": "code",
   "execution_count": 1,
   "metadata": {},
   "outputs": [],
   "source": [
    "from sage.all import *\n",
    "import matplotlib.pyplot as plt\n",
    "\n",
    "%load_ext autoreload\n",
    "%autoreload 2"
   ]
  },
  {
   "cell_type": "markdown",
   "metadata": {},
   "source": [
    "## LIB: entropy in wireless.infotheory"
   ]
  },
  {
   "cell_type": "code",
   "execution_count": 2,
   "metadata": {},
   "outputs": [
    {
     "name": "stdout",
     "output_type": "stream",
     "text": [
      "Σ_x log(p(x))*p(x)\n"
     ]
    }
   ],
   "source": [
    "from wireless.infotheory import entropy\n",
    "entropy.test_010()"
   ]
  },
  {
   "cell_type": "code",
   "execution_count": 3,
   "metadata": {},
   "outputs": [
    {
     "name": "stdout",
     "output_type": "stream",
     "text": [
      "Σ_p p*log(p)\n",
      "p*log(p) - (p - 1)*log(-p + 1)\n"
     ]
    }
   ],
   "source": [
    "class DRV:\n",
    "    # descrete random variable\n",
    "    def __init__(self, P=None):\n",
    "        self.p = var('p')\n",
    "        self.P = P # not define yet\n",
    "\n",
    "class SUM:\n",
    "    def __init__(self, f, p, P=None):\n",
    "        self.f = f # function\n",
    "        self.p = p # argument for sum\n",
    "        self.P = P # all p\n",
    "    \n",
    "    def __repr__(self):\n",
    "        if self.P is None:\n",
    "            return f'Σ_{self.p} {self.f}'\n",
    "        else:\n",
    "            return f'Σ_{self.p} {self.f} in {self.P}'\n",
    "        \n",
    "    def __str__(self):\n",
    "        return self.__repr__()\n",
    "    \n",
    "    def calc(self):\n",
    "        if self.P is not None:\n",
    "            H = 0\n",
    "            for p in self.P:\n",
    "                H += self.f(p=p)\n",
    "            return H\n",
    "        else:\n",
    "            return self\n",
    "        \n",
    "def H(X):\n",
    "    \"\"\"\n",
    "    Caculate entropy of descrete random variable X\n",
    "    \"\"\"\n",
    "    if X.P is None:\n",
    "        return SUM(X.p*log(X.p), X.p, X.P)\n",
    "    else:\n",
    "        return SUM(X.p*log(X.p), X.p, X.P).calc()\n",
    "\n",
    "def test_010():\n",
    "    X = DRV()\n",
    "    print(H(X))\n",
    "\n",
    "def test_020():\n",
    "    p = var('p')\n",
    "    X = DRV([p, 1-p])\n",
    "    Hx = H(X)\n",
    "    plot(Hx,p,0,1)\n",
    "    print(Hx)\n",
    "    \n",
    "test_010()\n",
    "test_020()"
   ]
  },
  {
   "cell_type": "code",
   "execution_count": 8,
   "metadata": {},
   "outputs": [
    {
     "name": "stdout",
     "output_type": "stream",
     "text": [
      "Graphics object consisting of 1 graphics primitive\n"
     ]
    }
   ],
   "source": [
    "x = var('x')\n",
    "p = plot(x,x,1,10)\n",
    "show(p, gif=True)"
   ]
  },
  {
   "cell_type": "code",
   "execution_count": 5,
   "metadata": {},
   "outputs": [
    {
     "name": "stdout",
     "output_type": "stream",
     "text": [
      "[1 2]\n",
      "[3 4]\n",
      "[1 2]\n",
      "[3 4]\n"
     ]
    }
   ],
   "source": [
    "A = matrix([[1,2],[3,4]])\n",
    "print(A)\n",
    "show(A)"
   ]
  },
  {
   "cell_type": "code",
   "execution_count": null,
   "metadata": {},
   "outputs": [],
   "source": []
  }
 ],
 "metadata": {
  "kernelspec": {
   "display_name": "Python 3",
   "language": "python",
   "name": "python3"
  },
  "language_info": {
   "codemirror_mode": {
    "name": "ipython",
    "version": 3
   },
   "file_extension": ".py",
   "mimetype": "text/x-python",
   "name": "python",
   "nbconvert_exporter": "python",
   "pygments_lexer": "ipython3",
   "version": "3.7.7"
  }
 },
 "nbformat": 4,
 "nbformat_minor": 4
}
