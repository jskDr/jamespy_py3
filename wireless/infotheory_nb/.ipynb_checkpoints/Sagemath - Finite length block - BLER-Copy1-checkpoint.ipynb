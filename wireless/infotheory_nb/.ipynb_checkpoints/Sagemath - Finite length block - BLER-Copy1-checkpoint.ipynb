{
 "cells": [
  {
   "cell_type": "markdown",
   "metadata": {},
   "source": [
    "# Asymptotic Performance of Finte Length Block Code"
   ]
  },
  {
   "cell_type": "markdown",
   "metadata": {},
   "source": [
    "## BLER"
   ]
  },
  {
   "cell_type": "code",
   "execution_count": 1,
   "metadata": {},
   "outputs": [],
   "source": [
    "pp = pretty_print"
   ]
  },
  {
   "cell_type": "code",
   "execution_count": 11,
   "metadata": {},
   "outputs": [
    {
     "data": {
      "text/plain": [
       "(rho, z)"
      ]
     },
     "execution_count": 11,
     "metadata": {},
     "output_type": "execute_result"
    }
   ],
   "source": [
    "var('rho z')\n",
    "# assume(rho > 0)"
   ]
  },
  {
   "cell_type": "code",
   "execution_count": 12,
   "metadata": {},
   "outputs": [
    {
     "data": {
      "text/html": [
       "<html><script type=\"math/tex; mode=display\">\\newcommand{\\Bold}[1]{\\mathbf{#1}}\\left( \\rho, z \\right) \\ {\\mapsto} \\ -\\frac{e^{\\left(-\\frac{1}{2} \\, z^{2}\\right)} \\log\\left(e^{\\left(2 \\, \\sqrt{\\rho} z - 2 \\, \\rho\\right)} + 1\\right)}{\\log\\left(2\\right)} + e^{\\left(-\\frac{1}{2} \\, z^{2}\\right)}</script></html>"
      ],
      "text/plain": [
       "(rho, z) |--> -e^(-1/2*z^2)*log(e^(2*sqrt(rho)*z - 2*rho) + 1)/log(2) + e^(-1/2*z^2)"
      ]
     },
     "metadata": {},
     "output_type": "display_data"
    }
   ],
   "source": [
    "c(rho,z) = e^(-z^2/2) - e^(-z^2/2) * log(1+e^(-2*rho+2*z*sqrt(rho)),2)\n",
    "pp(c)"
   ]
  },
  {
   "cell_type": "code",
   "execution_count": null,
   "metadata": {},
   "outputs": [],
   "source": [
    "assume(rho>0)\n",
    "integral(c(rho,z),(z,-oo,oo))"
   ]
  },
  {
   "cell_type": "code",
   "execution_count": 8,
   "metadata": {},
   "outputs": [
    {
     "data": {
      "text/plain": [
       "sqrt(2)*sqrt(pi)"
      ]
     },
     "execution_count": 8,
     "metadata": {},
     "output_type": "execute_result"
    }
   ],
   "source": [
    "integral(e^(-z^2/2),(z,-oo,oo))"
   ]
  },
  {
   "cell_type": "code",
   "execution_count": 9,
   "metadata": {},
   "outputs": [
    {
     "data": {
      "text/plain": [
       "integrate(e^(-1/2*z^2)*log(e^(2*sqrt(rho)*z - 2*rho) + 1), z, -Infinity, +Infinity)/log(2)"
      ]
     },
     "execution_count": 9,
     "metadata": {},
     "output_type": "execute_result"
    }
   ],
   "source": [
    "integral(e^(-z^2/2) * log(1+e^(-2*rho+2*z*sqrt(rho)),2),(z,-oo,oo))"
   ]
  },
  {
   "cell_type": "code",
   "execution_count": 10,
   "metadata": {},
   "outputs": [
    {
     "data": {
      "text/plain": [
       "integrate(e^(-1/2*z^2)*log(e^(2*sqrt(rho)*z - 2*rho) + 1), z, -Infinity, +Infinity)/log(2)"
      ]
     },
     "execution_count": 10,
     "metadata": {},
     "output_type": "execute_result"
    }
   ],
   "source": [
    "integrate(e^(-z^2/2) * log(1+e^(-2*rho+2*z*sqrt(rho)),2),(z,-oo,oo))"
   ]
  },
  {
   "cell_type": "code",
   "execution_count": null,
   "metadata": {},
   "outputs": [],
   "source": [
    "integrate(e^(-z^2/2) * log(1+e^(-2*rho+2*z*sqrt(rho)),2),(z,-oo,oo))"
   ]
  }
 ],
 "metadata": {
  "kernelspec": {
   "display_name": "SageMath 9.0",
   "language": "sage",
   "name": "sagemath"
  },
  "language_info": {
   "codemirror_mode": {
    "name": "ipython",
    "version": 3
   },
   "file_extension": ".py",
   "mimetype": "text/x-python",
   "name": "python",
   "nbconvert_exporter": "python",
   "pygments_lexer": "ipython3",
   "version": "3.7.7"
  }
 },
 "nbformat": 4,
 "nbformat_minor": 2
}
