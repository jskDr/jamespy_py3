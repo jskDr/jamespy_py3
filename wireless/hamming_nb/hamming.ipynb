{
 "cells": [
  {
   "cell_type": "code",
   "execution_count": 9,
   "metadata": {},
   "outputs": [],
   "source": [
    "import numpy as np\n",
    "import numba as nb"
   ]
  },
  {
   "cell_type": "code",
   "execution_count": 2,
   "metadata": {},
   "outputs": [
    {
     "data": {
      "text/plain": [
       "array([[1, 2, 3],\n",
       "       [4, 5, 6]])"
      ]
     },
     "execution_count": 2,
     "metadata": {},
     "output_type": "execute_result"
    }
   ],
   "source": [
    "a = np.array([[1,2,3],[4,5,6]])\n",
    "a"
   ]
  },
  {
   "cell_type": "code",
   "execution_count": 3,
   "metadata": {},
   "outputs": [
    {
     "data": {
      "text/plain": [
       "array([[1, 4],\n",
       "       [2, 5],\n",
       "       [3, 6]])"
      ]
     },
     "execution_count": 3,
     "metadata": {},
     "output_type": "execute_result"
    }
   ],
   "source": [
    "a.T"
   ]
  },
  {
   "cell_type": "code",
   "execution_count": 4,
   "metadata": {},
   "outputs": [],
   "source": [
    "from wireless import hamming"
   ]
  },
  {
   "cell_type": "code",
   "execution_count": 5,
   "metadata": {},
   "outputs": [],
   "source": [
    "N_iter = 2\n",
    "u_array = np.random.randint(2, size=(N_iter, 4))"
   ]
  },
  {
   "cell_type": "code",
   "execution_count": 6,
   "metadata": {},
   "outputs": [
    {
     "data": {
      "text/plain": [
       "array([[0, 1, 1, 1],\n",
       "       [1, 1, 0, 0]])"
      ]
     },
     "execution_count": 6,
     "metadata": {},
     "output_type": "execute_result"
    }
   ],
   "source": [
    "u_array"
   ]
  },
  {
   "cell_type": "code",
   "execution_count": 7,
   "metadata": {},
   "outputs": [
    {
     "name": "stderr",
     "output_type": "stream",
     "text": [
      "/home/sjkim/data/github_download/jamespy_py3/wireless/hamming.py:1041: NumbaWarning: \u001b[1m\n",
      "Compilation is falling back to object mode WITH looplifting enabled because Function \"encode_array_n_hamming\" failed type inference due to: \u001b[1m\u001b[1m\u001b[1mInvalid use of Function(<function zeros_like at 0x7f77382320e0>) with argument(s) of type(s): (array(int64, 2d, C), shape=UniTuple(int64 x 2))\n",
      " * parameterized\n",
      "\u001b[1mIn definition 0:\u001b[0m\n",
      "\u001b[1m    TypeError: typer() got an unexpected keyword argument 'shape'\u001b[0m\n",
      "    raised from /home/sjkim/anaconda3/envs/tf2/lib/python3.7/site-packages/numba/typing/templates.py:283\n",
      "\u001b[1mIn definition 1:\u001b[0m\n",
      "\u001b[1m    TypeError: typer() got an unexpected keyword argument 'shape'\u001b[0m\n",
      "    raised from /home/sjkim/anaconda3/envs/tf2/lib/python3.7/site-packages/numba/typing/templates.py:283\n",
      "\u001b[1mThis error is usually caused by passing an argument of a type that is unsupported by the named function.\u001b[0m\u001b[0m\n",
      "\u001b[0m\u001b[1m[1] During: resolving callee type: Function(<function zeros_like at 0x7f77382320e0>)\u001b[0m\n",
      "\u001b[0m\u001b[1m[2] During: typing of call at /home/sjkim/data/github_download/jamespy_py3/wireless/hamming.py (1050)\n",
      "\u001b[0m\n",
      "\u001b[1m\n",
      "File \"../hamming.py\", line 1050:\u001b[0m\n",
      "\u001b[1mdef encode_array_n_hamming(u_array):\n",
      "    <source elided>\n",
      "                  [1,1,0,1]])    \n",
      "\u001b[1m    x_array = np.zeros_like(u_array, shape=(u_array.shape[0], G.shape[0]))\n",
      "\u001b[0m    \u001b[1m^\u001b[0m\u001b[0m\n",
      "\u001b[0m\n",
      "  @nb.jit\n",
      "/home/sjkim/data/github_download/jamespy_py3/wireless/hamming.py:1041: NumbaWarning: \u001b[1m\n",
      "Compilation is falling back to object mode WITHOUT looplifting enabled because Function \"encode_array_n_hamming\" failed type inference due to: \u001b[1m\u001b[1mcannot determine Numba type of <class 'numba.dispatcher.LiftedLoop'>\u001b[0m\n",
      "\u001b[1m\n",
      "File \"../hamming.py\", line 1051:\u001b[0m\n",
      "\u001b[1mdef encode_array_n_hamming(u_array):\n",
      "    <source elided>\n",
      "    x_array = np.zeros_like(u_array, shape=(u_array.shape[0], G.shape[0]))\n",
      "\u001b[1m    for i in range(x_array.shape[0]):\n",
      "\u001b[0m    \u001b[1m^\u001b[0m\u001b[0m\n",
      "\u001b[0m\u001b[0m\n",
      "  @nb.jit\n",
      "/home/sjkim/anaconda3/envs/tf2/lib/python3.7/site-packages/numba/object_mode_passes.py:178: NumbaWarning: \u001b[1mFunction \"encode_array_n_hamming\" was compiled in object mode without forceobj=True, but has lifted loops.\n",
      "\u001b[1m\n",
      "File \"../hamming.py\", line 1043:\u001b[0m\n",
      "\u001b[1mdef encode_array_n_hamming(u_array):\n",
      "\u001b[1m    G = np.array([[1,0,0,0],\n",
      "\u001b[0m    \u001b[1m^\u001b[0m\u001b[0m\n",
      "\u001b[0m\n",
      "  state.func_ir.loc))\n",
      "/home/sjkim/anaconda3/envs/tf2/lib/python3.7/site-packages/numba/object_mode_passes.py:188: NumbaDeprecationWarning: \u001b[1m\n",
      "Fall-back from the nopython compilation path to the object mode compilation path has been detected, this is deprecated behaviour.\n",
      "\n",
      "For more information visit http://numba.pydata.org/numba-doc/latest/reference/deprecation.html#deprecation-of-object-mode-fall-back-behaviour-when-using-jit\n",
      "\u001b[1m\n",
      "File \"../hamming.py\", line 1043:\u001b[0m\n",
      "\u001b[1mdef encode_array_n_hamming(u_array):\n",
      "\u001b[1m    G = np.array([[1,0,0,0],\n",
      "\u001b[0m    \u001b[1m^\u001b[0m\u001b[0m\n",
      "\u001b[0m\n",
      "  state.func_ir.loc))\n"
     ]
    },
    {
     "data": {
      "text/plain": [
       "array([[0, 1, 1, 1, 3, 2, 2],\n",
       "       [1, 1, 0, 0, 1, 1, 2]])"
      ]
     },
     "execution_count": 7,
     "metadata": {},
     "output_type": "execute_result"
    }
   ],
   "source": [
    "hamming.encode_array_n_hamming(u_array)"
   ]
  },
  {
   "cell_type": "code",
   "execution_count": 10,
   "metadata": {},
   "outputs": [],
   "source": [
    "G = np.array([[1,0,0,0],\n",
    "              [0,1,0,0],\n",
    "              [0,0,1,0],\n",
    "              [0,0,0,1],\n",
    "              [0,1,1,1],\n",
    "              [1,0,1,1],\n",
    "              [1,1,0,1]]) \n",
    "u_array = np.random.randint(2, size=(10, 4))\n",
    "x_array = np.zeros_like(u_array, shape=(u_array.shape[0], G.shape[0]))"
   ]
  },
  {
   "cell_type": "code",
   "execution_count": 11,
   "metadata": {},
   "outputs": [
    {
     "data": {
      "text/plain": [
       "(10, 7)"
      ]
     },
     "execution_count": 11,
     "metadata": {},
     "output_type": "execute_result"
    }
   ],
   "source": [
    "x_array.shape"
   ]
  },
  {
   "cell_type": "code",
   "execution_count": 10,
   "metadata": {},
   "outputs": [],
   "source": [
    "@nb.jit\n",
    "def encode_array_n_hamming(u_array):\n",
    "    G = np.array([[1,0,0,0],\n",
    "                  [0,1,0,0],\n",
    "                  [0,0,1,0],\n",
    "                  [0,0,0,1],\n",
    "                  [0,1,1,1],\n",
    "                  [1,0,1,1],\n",
    "                  [1,1,0,1]])    \n",
    "    x_array = np.zeros_like(u_array, shape=(u_array.shape[0], G.shape[0]))\n",
    "    for i in range(x_array.shape[0]):\n",
    "        for j in range(x_array.shape[1]):\n",
    "            x_array[i,j] = np.sum(u_array[i,:] * G[j,:])\n",
    "    return x_array"
   ]
  },
  {
   "cell_type": "code",
   "execution_count": 70,
   "metadata": {},
   "outputs": [
    {
     "data": {
      "text/plain": [
       "(array([[0, 0, 0, 0],\n",
       "        [1, 0, 1, 1],\n",
       "        [0, 1, 0, 0],\n",
       "        [0, 1, 0, 0],\n",
       "        [0, 1, 1, 1]]),\n",
       " array([[0, 0, 0, 0],\n",
       "        [1, 0, 1, 1],\n",
       "        [0, 1, 0, 0],\n",
       "        [0, 1, 0, 0],\n",
       "        [0, 1, 1, 1]]))"
      ]
     },
     "execution_count": 70,
     "metadata": {},
     "output_type": "execute_result"
    }
   ],
   "source": [
    "@nb.jit\n",
    "def _encode_array_n_hamming(u_array):\n",
    "    G = np.array([[1,0,0,0],\n",
    "                  [0,1,0,0],\n",
    "                  [0,0,1,0],\n",
    "                  [0,0,0,1],\n",
    "                  [0,1,1,1],\n",
    "                  [1,0,1,1],\n",
    "                  [1,1,0,1]])    \n",
    "    x_array = np.zeros(shape=(u_array.shape[0], G.shape[0]), dtype=u_array.dtype)\n",
    "    for i in range(x_array.shape[0]):\n",
    "        for j in range(x_array.shape[1]):\n",
    "            x_array[i,j] = np.mod(np.sum(u_array[i,:] * G[j,:]),2)    \n",
    "    return x_array\n",
    "\n",
    "def encode_array_n_hamming(u_array):\n",
    "    G = np.array([[1,0,0,0],\n",
    "                  [0,1,0,0],\n",
    "                  [0,0,1,0],\n",
    "                  [0,0,0,1],\n",
    "                  [0,1,1,1],\n",
    "                  [1,0,1,1],\n",
    "                  [1,1,0,1]])    \n",
    "    return np.mod(np.dot(u_array, G.T),2)\n",
    "\n",
    "def channel_numpy_awgn(x_array, SNRdB):\n",
    "    \"\"\"\n",
    "    출력을 (0,1) --> (1,-1)로 바꾸고 가우시안 노이즈를 더함.\n",
    "    \"\"\"\n",
    "    #y_array = np.zeros(x_array.shape, dtype=nb.float_)\n",
    "    SNR = np.power(10, SNRdB/10)\n",
    "    noise_sig = 1/np.sqrt(SNR)\n",
    "    n_array = np.random.normal(0.0, noise_sig, size=x_array.shape)\n",
    "    y_array = 1.0 - x_array*2 + n_array\n",
    "    return y_array   \n",
    "\n",
    "def decode_array_n_hamming(y_array, K_code:int=4):    \n",
    "    G = np.array([[1,0,0,0],\n",
    "                  [0,1,0,0],\n",
    "                  [0,0,1,0],\n",
    "                  [0,0,0,1],\n",
    "                  [0,1,1,1],\n",
    "                  [1,0,1,1],\n",
    "                  [1,1,0,1]])        \n",
    "    a = np.arange(0,2**K_code,dtype='uint8')\n",
    "    m = np.unpackbits(a.reshape(-1,1), axis=1)[:,-4:]\n",
    "    # m을 uint8에서 int 즉 int64로 바꾸기 위한 코드임.\n",
    "    m = np.dot(m, np.eye(K_code, dtype=int))\n",
    "    # print(m.dtype)\n",
    "    x = 1.0 - 2.0*np.mod(np.dot(m, G.T),2) # 16 x 7\n",
    "    r_array = np.dot(y_array, x.T)\n",
    "    argmax_r_arry = np.argmax(r_array,axis=1)\n",
    "    ud_array = m[argmax_r_arry,:]\n",
    "    return ud_array\n",
    "    #return argmax_r_arry\n",
    "\n",
    "u_array = np.random.randint(2, size=(5, 4))\n",
    "x_array = encode_array_n_hamming(u_array)\n",
    "y_array = channel_numpy_awgn(x_array, 10)\n",
    "ud_array = decode_array_n_hamming(y_array)\n",
    "u_array, ud_array"
   ]
  },
  {
   "cell_type": "code",
   "execution_count": 64,
   "metadata": {},
   "outputs": [
    {
     "data": {
      "text/plain": [
       "array([8.00300711, 7.43678122])"
      ]
     },
     "execution_count": 64,
     "metadata": {},
     "output_type": "execute_result"
    }
   ],
   "source": [
    "np.max(r_array,axis=1)"
   ]
  },
  {
   "cell_type": "code",
   "execution_count": null,
   "metadata": {},
   "outputs": [],
   "source": []
  }
 ],
 "metadata": {
  "kernelspec": {
   "display_name": "tf2",
   "language": "python",
   "name": "tf2"
  },
  "language_info": {
   "codemirror_mode": {
    "name": "ipython",
    "version": 3
   },
   "file_extension": ".py",
   "mimetype": "text/x-python",
   "name": "python",
   "nbconvert_exporter": "python",
   "pygments_lexer": "ipython3",
   "version": "3.7.7"
  }
 },
 "nbformat": 4,
 "nbformat_minor": 4
}
