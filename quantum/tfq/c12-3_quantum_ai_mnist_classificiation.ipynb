{
 "cells": [
  {
   "cell_type": "markdown",
   "id": "eca998cd-50d1-4865-9542-694eb5fab590",
   "metadata": {},
   "source": [
    "# 양자인공지능을 이용한 MNIST 분류"
   ]
  },
  {
   "cell_type": "code",
   "execution_count": 7,
   "id": "0a1023d1-2384-4de4-8366-4818a0fbf699",
   "metadata": {},
   "outputs": [],
   "source": [
    "import tensorflow as tf\n",
    "\n",
    "import tensorflow_quantum as tfq\n",
    "\n",
    "import cirq\n",
    "import sympy\n",
    "import numpy as np\n",
    "import seaborn as sns\n",
    "import collections\n",
    "\n",
    "# visualization tools\n",
    "%matplotlib inline\n",
    "import matplotlib.pyplot as plt\n",
    "from cirq.contrib.svg import SVGCircuit"
   ]
  },
  {
   "cell_type": "markdown",
   "id": "95486ae9-14a2-481b-9f1a-d9c1ec765c98",
   "metadata": {},
   "source": [
    "## 시작"
   ]
  },
  {
   "cell_type": "code",
   "execution_count": 14,
   "id": "67874391-0c51-4948-baa1-2d233ee4ca62",
   "metadata": {},
   "outputs": [],
   "source": [
    "from tensorflow import keras\n",
    "import numpy as np"
   ]
  },
  {
   "cell_type": "code",
   "execution_count": 24,
   "id": "48dbfb5e-121f-4af6-ae5b-2b09db3a2cd9",
   "metadata": {},
   "outputs": [
    {
     "data": {
      "text/plain": [
       "((60000, 28, 28), (60000,), (10000, 28, 28), (10000,))"
      ]
     },
     "execution_count": 24,
     "metadata": {},
     "output_type": "execute_result"
    }
   ],
   "source": [
    "(x_train, y_train), (x_test, y_test) = keras.datasets.mnist.load_data()\n",
    "x_train.shape, y_train.shape, x_test.shape, y_test.shape"
   ]
  },
  {
   "cell_type": "code",
   "execution_count": 25,
   "id": "eb7bf637-4011-49f2-8190-a8e1fcba82e8",
   "metadata": {},
   "outputs": [
    {
     "data": {
      "text/plain": [
       "((60000, 28, 28, 1), dtype('float64'), (10000, 28, 28, 1), dtype('float64'))"
      ]
     },
     "execution_count": 25,
     "metadata": {},
     "output_type": "execute_result"
    }
   ],
   "source": [
    "x_train = np.expand_dims(x_train, axis=3) / 255\n",
    "x_test = np.expand_dims(x_test, axis=3) / 255\n",
    "x_train.shape, x_train.dtype, x_test.shape, x_test.dtype"
   ]
  },
  {
   "cell_type": "code",
   "execution_count": 28,
   "id": "c0b0855a-77ee-47ec-8d66-d0af33e07c5d",
   "metadata": {},
   "outputs": [
    {
     "data": {
      "text/plain": [
       "((12665, 28, 28, 1), (12665,), (2115, 28, 28, 1), (2115,))"
      ]
     },
     "execution_count": 28,
     "metadata": {},
     "output_type": "execute_result"
    }
   ],
   "source": [
    "zeroone = (y_train == 0) | (y_train == 1)\n",
    "x_train, y_train = x_train[zeroone], y_train[zeroone]\n",
    "zeroone = (y_test == 0) | (y_test == 1)\n",
    "x_test, y_test = x_test[zeroone], y_test[zeroone]\n",
    "x_train.shape, y_train.shape, x_test.shape, y_test.shape"
   ]
  },
  {
   "cell_type": "code",
   "execution_count": null,
   "id": "a5616b2c-fd79-49b7-8494-e6cc84e18ba8",
   "metadata": {},
   "outputs": [],
   "source": []
  }
 ],
 "metadata": {
  "kernelspec": {
   "display_name": "tfq",
   "language": "python",
   "name": "tfq"
  },
  "language_info": {
   "codemirror_mode": {
    "name": "ipython",
    "version": 3
   },
   "file_extension": ".py",
   "mimetype": "text/x-python",
   "name": "python",
   "nbconvert_exporter": "python",
   "pygments_lexer": "ipython3",
   "version": "3.7.11"
  }
 },
 "nbformat": 4,
 "nbformat_minor": 5
}
