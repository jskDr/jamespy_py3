{
 "cells": [
  {
   "cell_type": "markdown",
   "id": "34e75e89-5ea5-46b8-b4ed-2bf861020d0d",
   "metadata": {},
   "source": [
    "# 양자인공지능 학습하기"
   ]
  },
  {
   "cell_type": "markdown",
   "id": "192223b2-c518-41c0-b0d4-d1b3e7f21982",
   "metadata": {},
   "source": [
    "## 관련 패키지 부르기"
   ]
  },
  {
   "cell_type": "code",
   "execution_count": 1,
   "id": "16e1051e-e15d-4745-8fb9-a7eb6ee9ea0b",
   "metadata": {},
   "outputs": [],
   "source": [
    "import tensorflow_quantum as tfq\n",
    "import cirq\n",
    "from cirq.contrib.svg import SVGCircuit\n",
    "\n",
    "import tensorflow as tf\n",
    "from tensorflow.keras.layers import Dense\n",
    "from tensorflow.keras import Sequential, Input, Model\n",
    "\n",
    "import sympy\n",
    "import numpy as np\n",
    "%matplotlib inline\n",
    "import matplotlib.pyplot as plt"
   ]
  },
  {
   "cell_type": "markdown",
   "id": "5a95131d-82f8-42eb-a449-4da3343a2655",
   "metadata": {},
   "source": [
    "## 입력 데이터와 기대 출력 레이블 만들기"
   ]
  },
  {
   "cell_type": "code",
   "execution_count": 2,
   "id": "d1608b99-ec78-4049-9776-214fcc9bf32c",
   "metadata": {},
   "outputs": [],
   "source": [
    "X_Classic = np.array([[0], [1]], dtype=np.float32)"
   ]
  },
  {
   "cell_type": "code",
   "execution_count": 3,
   "id": "2b9be668-1cfb-449c-baff-01da8d308ebe",
   "metadata": {},
   "outputs": [],
   "source": [
    "Qubit = cirq.GridQubit(0, 0)\n",
    "Initial_rotation_phase = np.random.uniform(0, 2 * np.pi)\n",
    "X_Quantum_circuit = cirq.Circuit(\n",
    "  cirq.ry(Initial_rotation_phase)(Qubit)\n",
    ")\n",
    "X_Quantum = tfq.convert_to_tensor(\n",
    "  [X_Quantum_circuit]*len(X_Classic)) "
   ]
  },
  {
   "cell_type": "code",
   "execution_count": 4,
   "id": "26e099e7-e90b-435f-8cd9-8742f2f8c8a1",
   "metadata": {},
   "outputs": [],
   "source": [
    "Y = np.array([[1], [-1]], dtype=np.float32)"
   ]
  },
  {
   "cell_type": "markdown",
   "id": "bb49a98c-388a-4a00-a6c5-656d241d9661",
   "metadata": {},
   "source": [
    "## 전통인공지능 부분 만들기: 파라미터 제어 뉴럴넷"
   ]
  },
  {
   "cell_type": "code",
   "execution_count": 5,
   "id": "3c628459-f1c8-447f-8eb1-4df6a2a58f2c",
   "metadata": {},
   "outputs": [],
   "source": [
    "def make_classical_NN(x):\n",
    "    model = Sequential()\n",
    "    model.add(Dense(2, activation='relu'))\n",
    "    model.add(Dense(1))\n",
    "    return model(x)\n",
    "Classical_NN_In = Input(shape=(1,), dtype=tf.dtypes.float32, name='commands_input')\n",
    "Classical_NN = make_classical_NN(Classical_NN_In)"
   ]
  },
  {
   "cell_type": "markdown",
   "id": "99ed0dca-388c-40f0-9ad1-29bd34635ae7",
   "metadata": {},
   "source": [
    "## 파라미터를 포함하는 양자회로 만들기"
   ]
  },
  {
   "cell_type": "code",
   "execution_count": 6,
   "id": "4aaf9d1e-ff22-4fa9-bdc8-43e59940da41",
   "metadata": {},
   "outputs": [
    {
     "name": "stderr",
     "output_type": "stream",
     "text": [
      "findfont: Font family ['Arial'] not found. Falling back to DejaVu Sans.\n"
     ]
    },
    {
     "data": {
      "image/svg+xml": [
       "<svg xmlns=\"http://www.w3.org/2000/svg\" width=\"178.9504296875\" height=\"50.0\"><line x1=\"34.7588671875\" x2=\"148.9504296875\" y1=\"25.0\" y2=\"25.0\" stroke=\"#1967d2\" stroke-width=\"1\" /><rect x=\"10.0\" y=\"5.0\" width=\"49.517734375\" height=\"40\" stroke=\"black\" fill=\"white\" stroke-width=\"0\" /><text x=\"34.7588671875\" y=\"25.0\" dominant-baseline=\"middle\" text-anchor=\"middle\" font-size=\"14px\" font-family=\"Arial\">(0, 0): </text><rect x=\"79.517734375\" y=\"5.0\" width=\"49.4326953125\" height=\"40\" stroke=\"black\" fill=\"white\" stroke-width=\"1\" /><text x=\"104.23408203125001\" y=\"25.0\" dominant-baseline=\"middle\" text-anchor=\"middle\" font-size=\"14px\" font-family=\"Arial\">Ry(W)</text></svg>"
      ],
      "text/plain": [
       "<cirq.contrib.svg.svg.SVGCircuit at 0x7f91bc0e80d0>"
      ]
     },
     "execution_count": 6,
     "metadata": {},
     "output_type": "execute_result"
    }
   ],
   "source": [
    "W = sympy.symbols('W')\n",
    "\n",
    "Quantum_circuit = cirq.Circuit(cirq.ry(W)(Qubit))\n",
    "SVGCircuit(Quantum_circuit)"
   ]
  },
  {
   "cell_type": "markdown",
   "id": "efb96b0a-2769-4559-9a4a-e666dcb8efec",
   "metadata": {},
   "source": [
    "## 하이브리드 인공지능 부분 만들기: 양자 및 전통 인공지능 복합형 "
   ]
  },
  {
   "cell_type": "code",
   "execution_count": 7,
   "id": "48c97018-a4dd-4c33-9ec0-c884da2e9cc0",
   "metadata": {},
   "outputs": [],
   "source": [
    "Quantum_In = Input(shape=(),dtype=tf.string, name='circuits_input')\n",
    "Quantum_layer = tfq.layers.ControlledPQC(Quantum_circuit,\n",
    "                                          operators = cirq.Z(Qubit))\n",
    "expectation = Quantum_layer([Quantum_In, Classical_NN])\n",
    "model = Model(inputs=[Quantum_In, Classical_NN_In],\n",
    "                       outputs=expectation)"
   ]
  },
  {
   "cell_type": "markdown",
   "id": "4b0c7e1c-ba88-4817-9618-3bd74f91be18",
   "metadata": {},
   "source": [
    "## 모델 학습 및 결과 확인하기"
   ]
  },
  {
   "cell_type": "code",
   "execution_count": 9,
   "id": "5a307856-bfb0-44aa-af5f-5d3ebc27f655",
   "metadata": {},
   "outputs": [],
   "source": [
    "optimizer = tf.keras.optimizers.Adam(learning_rate=0.05)\n",
    "loss = tf.keras.losses.MeanSquaredError()\n",
    "model.compile(optimizer=optimizer, loss=loss)\n",
    "history = model.fit(x=[X_Quantum, X_Classic],\n",
    "                    y=Y,\n",
    "                    epochs=50,\n",
    "                    verbose=0)"
   ]
  },
  {
   "cell_type": "code",
   "execution_count": 10,
   "id": "d9ccc5ad-3b59-4d31-9e1f-16bc48910e36",
   "metadata": {},
   "outputs": [
    {
     "data": {
      "image/png": "[encoded data removed]",
      "text/plain": [
       "<Figure size 432x288 with 1 Axes>"
      ]
     },
     "metadata": {
      "needs_background": "light"
     },
     "output_type": "display_data"
    }
   ],
   "source": [
    "plt.plot(history.history['loss'])\n",
    "plt.title(\"Training for Quantum-Classic AI\")\n",
    "plt.xlabel(\"Epoch\")\n",
    "plt.ylabel(\"Loss\")\n",
    "plt.grid()\n",
    "plt.show()"
   ]
  },
  {
   "cell_type": "code",
   "execution_count": 11,
   "id": "a2703ff6-7373-4926-bb8d-33ac8d6fbfff",
   "metadata": {},
   "outputs": [
    {
     "name": "stdout",
     "output_type": "stream",
     "text": [
      "Predicted_Y = [ 0.99053454 -0.99961144]\n",
      "Y - Predicted_Y = [ 0.00946546 -0.00038856]\n"
     ]
    }
   ],
   "source": [
    "Y_pred = model([X_Quantum, X_Classic]).numpy()\n",
    "Err = Y - Y_pred\n",
    "print('Predicted_Y =', Y_pred.flatten()) \n",
    "print('Y - Predicted_Y =', Err.flatten())"
   ]
  },
  {
   "cell_type": "code",
   "execution_count": null,
   "id": "30d055c6-5eba-4b0c-ac8a-165163534852",
   "metadata": {},
   "outputs": [],
   "source": []
  }
 ],
 "metadata": {
  "kernelspec": {
   "display_name": "tfq",
   "language": "python",
   "name": "tfq"
  },
  "language_info": {
   "codemirror_mode": {
    "name": "ipython",
    "version": 3
   },
   "file_extension": ".py",
   "mimetype": "text/x-python",
   "name": "python",
   "nbconvert_exporter": "python",
   "pygments_lexer": "ipython3",
   "version": "3.7.11"
  }
 },
 "nbformat": 4,
 "nbformat_minor": 5
}
