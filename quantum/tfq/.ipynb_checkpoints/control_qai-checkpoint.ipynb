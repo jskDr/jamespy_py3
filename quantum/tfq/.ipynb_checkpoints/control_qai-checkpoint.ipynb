{
 "cells": [
  {
   "cell_type": "code",
   "execution_count": 1,
   "id": "2ded704d-11ae-437f-8148-04a88c140fcd",
   "metadata": {},
   "outputs": [],
   "source": [
    "import tensorflow as tf\n",
    "import tensorflow_quantum as tfq\n",
    "\n",
    "import cirq\n",
    "import sympy\n",
    "import numpy as np\n",
    "\n",
    "# visualization tools\n",
    "%matplotlib inline\n",
    "import matplotlib.pyplot as plt\n",
    "from cirq.contrib.svg import SVGCircuit"
   ]
  },
  {
   "cell_type": "code",
   "execution_count": 16,
   "id": "60a5fb36-f04b-4aef-a98b-0566a9482bb6",
   "metadata": {},
   "outputs": [],
   "source": [
    "from tensorflow.keras.layers import Dense\n",
    "from tensorflow.keras import Sequential, Input, Model"
   ]
  },
  {
   "cell_type": "code",
   "execution_count": 3,
   "id": "2ba5df11-7533-4313-9947-b699707120ba",
   "metadata": {},
   "outputs": [],
   "source": [
    "# Data Preparation\n",
    "X = np.array([[0], [1]], dtype=np.float32)\n",
    "Y = np.array([[1], [-1]], dtype=np.float32)"
   ]
  },
  {
   "cell_type": "code",
   "execution_count": 10,
   "id": "9ba6a751-9db5-44ab-a088-ecacf8ed26c9",
   "metadata": {},
   "outputs": [
    {
     "data": {
      "image/svg+xml": [
       "<svg xmlns=\"http://www.w3.org/2000/svg\" width=\"178.9504296875\" height=\"50.0\"><line x1=\"34.7588671875\" x2=\"148.9504296875\" y1=\"25.0\" y2=\"25.0\" stroke=\"#1967d2\" stroke-width=\"1\" /><rect x=\"10.0\" y=\"5.0\" width=\"49.517734375\" height=\"40\" stroke=\"black\" fill=\"white\" stroke-width=\"0\" /><text x=\"34.7588671875\" y=\"25.0\" dominant-baseline=\"middle\" text-anchor=\"middle\" font-size=\"14px\" font-family=\"Arial\">(0, 0): </text><rect x=\"79.517734375\" y=\"5.0\" width=\"49.4326953125\" height=\"40\" stroke=\"black\" fill=\"white\" stroke-width=\"1\" /><text x=\"104.23408203125001\" y=\"25.0\" dominant-baseline=\"middle\" text-anchor=\"middle\" font-size=\"14px\" font-family=\"Arial\">Ry(W)</text></svg>"
      ],
      "text/plain": [
       "<cirq.contrib.svg.svg.SVGCircuit at 0x7f3c1ca0cf10>"
      ]
     },
     "execution_count": 10,
     "metadata": {},
     "output_type": "execute_result"
    }
   ],
   "source": [
    "W = sympy.symbols('W')\n",
    "#Qubit = cirq.NamedQubit(\"Qubit\")\n",
    "Qubit = cirq.GridQubit(0, 0)\n",
    "Quantum_circuit = cirq.Circuit(cirq.ry(W)(Qubit))\n",
    "SVGCircuit(Quantum_circuit)"
   ]
  },
  {
   "cell_type": "code",
   "execution_count": 11,
   "id": "3c628459-f1c8-447f-8eb1-4df6a2a58f2c",
   "metadata": {},
   "outputs": [
    {
     "data": {
      "text/plain": [
       "<tf.Tensor: shape=(2, 1), dtype=float32, numpy=\n",
       "array([[0.       ],\n",
       "       [1.5662993]], dtype=float32)>"
      ]
     },
     "execution_count": 11,
     "metadata": {},
     "output_type": "execute_result"
    }
   ],
   "source": [
    "Classical_NN_Model = Sequential()\n",
    "Classical_NN_Model.add(Dense(2, activation='relu'))\n",
    "Classical_NN_Model.add(Dense(1))\n",
    "Classical_NN_Model(X)"
   ]
  },
  {
   "cell_type": "code",
   "execution_count": 12,
   "id": "af6c6301-af31-4064-b7d0-4a00e0691542",
   "metadata": {},
   "outputs": [],
   "source": [
    "Quantum_In = Input(shape=(),dtype=tf.string, name='circuits_input')\n",
    "Classical_NN_In = Input(shape=(1,), dtype=tf.dtypes.float32, name='commands_input')"
   ]
  },
  {
   "cell_type": "code",
   "execution_count": 15,
   "id": "5dcc8b79-4200-4ce1-8b4a-6cd2c364a7d2",
   "metadata": {},
   "outputs": [],
   "source": [
    "Classical_NN = Classical_NN_Model(Classical_NN_In)\n",
    "Quantum_layer = tfq.layers.ControlledPQC(Quantum_circuit,\n",
    "                                          operators = cirq.Z(Qubit))\n",
    "expectation = Quantum_layer([Quantum_In, Classical_NN])"
   ]
  },
  {
   "cell_type": "code",
   "execution_count": 17,
   "id": "b8d3421d-1767-443a-8c9a-8e83112d2c65",
   "metadata": {},
   "outputs": [],
   "source": [
    "# The full Keras model is built from our layers.\n",
    "Hybrid_model = Model(inputs=[Quantum_In, Classical_NN_In],\n",
    "                       outputs=expectation)"
   ]
  },
  {
   "cell_type": "code",
   "execution_count": 18,
   "id": "56ef780f-93c5-4a87-81b0-6466fd058521",
   "metadata": {},
   "outputs": [
    {
     "data": {
      "image/png": "[encoded data removed]",
      "text/plain": [
       "<IPython.core.display.Image object>"
      ]
     },
     "execution_count": 18,
     "metadata": {},
     "output_type": "execute_result"
    }
   ],
   "source": [
    "tf.keras.utils.plot_model(Hybrid_model, show_shapes=True, dpi=70)"
   ]
  },
  {
   "cell_type": "code",
   "execution_count": 10,
   "id": "f7c5735f-4661-4b72-aefa-47773e35610b",
   "metadata": {},
   "outputs": [],
   "source": [
    "uninform_X_vec = np.random.uniform(0, 2 * np.pi, 3)\n",
    "noisy_circuit = cirq.Circuit(\n",
    "  cirq.ry(uninform_X_vec[0])(qubit)\n",
    ")\n",
    "datapoint_circuits = tfq.convert_to_tensor([\n",
    "  noisy_circuit\n",
    "] * 2)  # Make two copied of this circuit"
   ]
  },
  {
   "cell_type": "code",
   "execution_count": 11,
   "id": "6968dd4b-33a0-4aeb-89b6-60f2b65f86b8",
   "metadata": {},
   "outputs": [
    {
     "data": {
      "text/plain": [
       "TensorShape([2])"
      ]
     },
     "execution_count": 11,
     "metadata": {},
     "output_type": "execute_result"
    }
   ],
   "source": [
    "datapoint_circuits.shape"
   ]
  },
  {
   "cell_type": "code",
   "execution_count": 12,
   "id": "fcb4cbf9-b90d-4183-a7f4-9827edf352e6",
   "metadata": {},
   "outputs": [
    {
     "data": {
      "text/plain": [
       "array([[-0.5074132],\n",
       "       [-0.7962427]], dtype=float32)"
      ]
     },
     "execution_count": 12,
     "metadata": {},
     "output_type": "execute_result"
    }
   ],
   "source": [
    "model([datapoint_circuits, commands]).numpy()"
   ]
  },
  {
   "cell_type": "code",
   "execution_count": 13,
   "id": "5a307856-bfb0-44aa-af5f-5d3ebc27f655",
   "metadata": {},
   "outputs": [],
   "source": [
    "optimizer = tf.keras.optimizers.Adam(learning_rate=0.05)\n",
    "loss = tf.keras.losses.MeanSquaredError()\n",
    "model.compile(optimizer=optimizer, loss=loss)\n",
    "history = model.fit(x=[datapoint_circuits, commands],\n",
    "                    y=expected_outputs,\n",
    "                    epochs=30,\n",
    "                    verbose=0)"
   ]
  },
  {
   "cell_type": "code",
   "execution_count": 14,
   "id": "d9ccc5ad-3b59-4d31-9e1f-16bc48910e36",
   "metadata": {},
   "outputs": [
    {
     "data": {
      "image/png": "[encoded data removed]",
      "text/plain": [
       "<Figure size 432x288 with 1 Axes>"
      ]
     },
     "metadata": {
      "needs_background": "light"
     },
     "output_type": "display_data"
    }
   ],
   "source": [
    "plt.plot(history.history['loss'])\n",
    "plt.title(\"Learning to Control a Qubit\")\n",
    "plt.xlabel(\"Iterations\")\n",
    "plt.ylabel(\"Error in Control\")\n",
    "plt.show()"
   ]
  },
  {
   "cell_type": "code",
   "execution_count": 16,
   "id": "bc8a4cf9-c596-41cd-9713-c9300e9db6d1",
   "metadata": {},
   "outputs": [
    {
     "name": "stdout",
     "output_type": "stream",
     "text": [
      "For a desired output (expectation) of [1.] with noisy preparation, the controller\n",
      "network found the following values for theta: [ 3.6673176   0.32070616 -4.4520264 ]\n",
      "Which gives an actual expectation of: 0.9589784741401672\n",
      "\n",
      "For a desired output (expectation) of [-1.] with noisy preparation, the controller\n",
      "network found the following values for theta: [-0.19239134 -0.91532063  0.47329903]\n",
      "Which gives an actual expectation of: -0.9901111721992493\n",
      "\n"
     ]
    }
   ],
   "source": [
    "cirq_simulator = cirq.Simulator()\n",
    "\n",
    "def check_error(command_values, desired_values):\n",
    "  \"\"\"Based on the value in `command_value` see how well you could prepare\n",
    "  the full circuit to have `desired_value` when taking expectation w.r.t. Z.\"\"\"\n",
    "  params_to_prepare_output = controller(command_values).numpy()\n",
    "  full_circuit = noisy_preparation + model_circuit\n",
    "\n",
    "  # Test how well you can prepare a state to get expectation the expectation\n",
    "  # value in `desired_values`\n",
    "  for index in [0, 1]:\n",
    "    state = cirq_simulator.simulate(\n",
    "        full_circuit,\n",
    "        {s:v for (s,v) in zip(control_params, params_to_prepare_output[index])}\n",
    "    ).final_state_vector\n",
    "    expt = cirq.Z(qubit).expectation_from_state_vector(state, {qubit: 0}).real\n",
    "    print(f'For a desired output (expectation) of {desired_values[index]} with'\n",
    "          f' noisy preparation, the controller\\nnetwork found the following '\n",
    "          f'values for theta: {params_to_prepare_output[index]}\\nWhich gives an'\n",
    "          f' actual expectation of: {expt}\\n')\n",
    "\n",
    "\n",
    "check_error(commands, expected_outputs)"
   ]
  },
  {
   "cell_type": "code",
   "execution_count": 17,
   "id": "a2703ff6-7373-4926-bb8d-33ac8d6fbfff",
   "metadata": {},
   "outputs": [
    {
     "data": {
      "text/plain": [
       "<tf.Tensor: shape=(2, 1), dtype=float32, numpy=\n",
       "array([[ 0.9589784],\n",
       "       [-0.9901112]], dtype=float32)>"
      ]
     },
     "execution_count": 17,
     "metadata": {},
     "output_type": "execute_result"
    }
   ],
   "source": [
    "model([datapoint_circuits, commands])"
   ]
  },
  {
   "cell_type": "code",
   "execution_count": null,
   "id": "24bff5d9-d322-42f9-9652-c70184848088",
   "metadata": {},
   "outputs": [],
   "source": []
  }
 ],
 "metadata": {
  "kernelspec": {
   "display_name": "tfq",
   "language": "python",
   "name": "tfq"
  },
  "language_info": {
   "codemirror_mode": {
    "name": "ipython",
    "version": 3
   },
   "file_extension": ".py",
   "mimetype": "text/x-python",
   "name": "python",
   "nbconvert_exporter": "python",
   "pygments_lexer": "ipython3",
   "version": "3.7.11"
  }
 },
 "nbformat": 4,
 "nbformat_minor": 5
}
