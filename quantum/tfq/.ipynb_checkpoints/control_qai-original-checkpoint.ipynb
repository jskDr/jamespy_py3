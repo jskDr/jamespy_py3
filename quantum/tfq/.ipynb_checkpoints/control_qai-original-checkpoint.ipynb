{
 "cells": [
  {
   "cell_type": "code",
   "execution_count": 1,
   "id": "2ded704d-11ae-437f-8148-04a88c140fcd",
   "metadata": {},
   "outputs": [],
   "source": [
    "import tensorflow as tf\n",
    "import tensorflow_quantum as tfq\n",
    "\n",
    "import cirq\n",
    "import sympy\n",
    "import numpy as np\n",
    "\n",
    "# visualization tools\n",
    "%matplotlib inline\n",
    "import matplotlib.pyplot as plt\n",
    "from cirq.contrib.svg import SVGCircuit"
   ]
  },
  {
   "cell_type": "code",
   "execution_count": 2,
   "id": "9ba6a751-9db5-44ab-a088-ecacf8ed26c9",
   "metadata": {},
   "outputs": [
    {
     "name": "stderr",
     "output_type": "stream",
     "text": [
      "findfont: Font family ['Arial'] not found. Falling back to DejaVu Sans.\n"
     ]
    },
    {
     "data": {
      "image/svg+xml": [
       "<svg xmlns=\"http://www.w3.org/2000/svg\" width=\"435.74449218750004\" height=\"50.0\"><line x1=\"34.7588671875\" x2=\"405.74449218750004\" y1=\"25.0\" y2=\"25.0\" stroke=\"#1967d2\" stroke-width=\"1\" /><rect x=\"10.0\" y=\"5.0\" width=\"49.517734375\" height=\"40\" stroke=\"black\" fill=\"white\" stroke-width=\"0\" /><text x=\"34.7588671875\" y=\"25.0\" dominant-baseline=\"middle\" text-anchor=\"middle\" font-size=\"14px\" font-family=\"Arial\">(0, 0): </text><rect x=\"79.517734375\" y=\"5.0\" width=\"88.37457031250001\" height=\"40\" stroke=\"black\" fill=\"white\" stroke-width=\"1\" /><text x=\"123.70501953125\" y=\"25.0\" dominant-baseline=\"middle\" text-anchor=\"middle\" font-size=\"14px\" font-family=\"Arial\">Rz(theta_1)</text><rect x=\"187.89230468750003\" y=\"5.0\" width=\"88.54109375\" height=\"40\" stroke=\"black\" fill=\"white\" stroke-width=\"1\" /><text x=\"232.16285156250004\" y=\"25.0\" dominant-baseline=\"middle\" text-anchor=\"middle\" font-size=\"14px\" font-family=\"Arial\">Ry(theta_2)</text><rect x=\"296.43339843750005\" y=\"5.0\" width=\"89.31109375000001\" height=\"40\" stroke=\"black\" fill=\"white\" stroke-width=\"1\" /><text x=\"341.0889453125001\" y=\"25.0\" dominant-baseline=\"middle\" text-anchor=\"middle\" font-size=\"14px\" font-family=\"Arial\">Rx(theta_3)</text></svg>"
      ],
      "text/plain": [
       "<cirq.contrib.svg.svg.SVGCircuit at 0x7f7c20459790>"
      ]
     },
     "execution_count": 2,
     "metadata": {},
     "output_type": "execute_result"
    }
   ],
   "source": [
    "# Parameters that the classical NN will feed values into.\n",
    "control_params = sympy.symbols('theta_1 theta_2 theta_3')\n",
    "\n",
    "# Create the parameterized circuit.\n",
    "qubit = cirq.GridQubit(0, 0)\n",
    "model_circuit = cirq.Circuit(\n",
    "    cirq.rz(control_params[0])(qubit),\n",
    "    cirq.ry(control_params[1])(qubit),\n",
    "    cirq.rx(control_params[2])(qubit))\n",
    "\n",
    "SVGCircuit(model_circuit)"
   ]
  },
  {
   "cell_type": "code",
   "execution_count": 3,
   "id": "88f64e1e-16f5-411b-9a49-f9336d6286a9",
   "metadata": {},
   "outputs": [],
   "source": [
    "# The classical neural network layers.\n",
    "controller = tf.keras.Sequential([\n",
    "    tf.keras.layers.Dense(10, activation='elu'),\n",
    "    tf.keras.layers.Dense(3)\n",
    "])"
   ]
  },
  {
   "cell_type": "code",
   "execution_count": 4,
   "id": "52a5b320-cc69-4a2a-84e6-1fa2e97609b8",
   "metadata": {},
   "outputs": [
    {
     "data": {
      "text/plain": [
       "array([[ 0.        ,  0.        ,  0.        ],\n",
       "       [ 0.19220622, -0.32728583,  0.28633514]], dtype=float32)"
      ]
     },
     "execution_count": 4,
     "metadata": {},
     "output_type": "execute_result"
    }
   ],
   "source": [
    "controller(tf.constant([[0.0],[1.0]])).numpy()"
   ]
  },
  {
   "cell_type": "code",
   "execution_count": 5,
   "id": "af6c6301-af31-4064-b7d0-4a00e0691542",
   "metadata": {},
   "outputs": [],
   "source": [
    "# This input is the simulated miscalibration that the model will learn to correct.\n",
    "circuits_input = tf.keras.Input(shape=(),\n",
    "                                # The circuit-tensor has dtype `tf.string` \n",
    "                                dtype=tf.string,\n",
    "                                name='circuits_input')\n",
    "\n",
    "# Commands will be either `0` or `1`, specifying the state to set the qubit to.\n",
    "commands_input = tf.keras.Input(shape=(1,),\n",
    "                                dtype=tf.dtypes.float32,\n",
    "                                name='commands_input')"
   ]
  },
  {
   "cell_type": "code",
   "execution_count": 6,
   "id": "5dcc8b79-4200-4ce1-8b4a-6cd2c364a7d2",
   "metadata": {},
   "outputs": [],
   "source": [
    "dense_2 = controller(commands_input)\n",
    "\n",
    "# TFQ layer for classically controlled circuits.\n",
    "expectation_layer = tfq.layers.ControlledPQC(model_circuit,\n",
    "                                             # Observe Z\n",
    "                                             operators = cirq.Z(qubit))\n",
    "expectation = expectation_layer([circuits_input, dense_2])"
   ]
  },
  {
   "cell_type": "code",
   "execution_count": 7,
   "id": "b8d3421d-1767-443a-8c9a-8e83112d2c65",
   "metadata": {},
   "outputs": [],
   "source": [
    "# The full Keras model is built from our layers.\n",
    "model = tf.keras.Model(inputs=[circuits_input, commands_input],\n",
    "                       outputs=expectation)"
   ]
  },
  {
   "cell_type": "code",
   "execution_count": 8,
   "id": "56ef780f-93c5-4a87-81b0-6466fd058521",
   "metadata": {},
   "outputs": [
    {
     "name": "stdout",
     "output_type": "stream",
     "text": [
      "('Failed to import pydot. You must `pip install pydot` and install graphviz (https://graphviz.gitlab.io/download/), ', 'for `pydotprint` to work.')\n"
     ]
    }
   ],
   "source": [
    "tf.keras.utils.plot_model(model, show_shapes=True, dpi=70)"
   ]
  },
  {
   "cell_type": "code",
   "execution_count": 9,
   "id": "08aa9277-a6ff-4e68-b8ab-eabb5536047a",
   "metadata": {},
   "outputs": [],
   "source": [
    "# The command input values to the classical NN.\n",
    "commands = np.array([[0], [1]], dtype=np.float32)\n",
    "\n",
    "# The desired Z expectation value at output of quantum circuit.\n",
    "expected_outputs = np.array([[1], [-1]], dtype=np.float32)"
   ]
  },
  {
   "cell_type": "code",
   "execution_count": 10,
   "id": "f7c5735f-4661-4b72-aefa-47773e35610b",
   "metadata": {},
   "outputs": [],
   "source": [
    "random_rotations = np.random.uniform(0, 2 * np.pi, 3)\n",
    "noisy_preparation = cirq.Circuit(\n",
    "  cirq.rx(random_rotations[0])(qubit),\n",
    "  cirq.ry(random_rotations[1])(qubit),\n",
    "  cirq.rz(random_rotations[2])(qubit)\n",
    ")\n",
    "datapoint_circuits = tfq.convert_to_tensor([\n",
    "  noisy_preparation\n",
    "] * 2)  # Make two copied of this circuit"
   ]
  },
  {
   "cell_type": "code",
   "execution_count": 11,
   "id": "6968dd4b-33a0-4aeb-89b6-60f2b65f86b8",
   "metadata": {},
   "outputs": [
    {
     "data": {
      "text/plain": [
       "TensorShape([2])"
      ]
     },
     "execution_count": 11,
     "metadata": {},
     "output_type": "execute_result"
    }
   ],
   "source": [
    "datapoint_circuits.shape"
   ]
  },
  {
   "cell_type": "code",
   "execution_count": 12,
   "id": "fcb4cbf9-b90d-4183-a7f4-9827edf352e6",
   "metadata": {},
   "outputs": [
    {
     "data": {
      "text/plain": [
       "array([[-0.5074132],\n",
       "       [-0.7962427]], dtype=float32)"
      ]
     },
     "execution_count": 12,
     "metadata": {},
     "output_type": "execute_result"
    }
   ],
   "source": [
    "model([datapoint_circuits, commands]).numpy()"
   ]
  },
  {
   "cell_type": "code",
   "execution_count": 13,
   "id": "5a307856-bfb0-44aa-af5f-5d3ebc27f655",
   "metadata": {},
   "outputs": [],
   "source": [
    "optimizer = tf.keras.optimizers.Adam(learning_rate=0.05)\n",
    "loss = tf.keras.losses.MeanSquaredError()\n",
    "model.compile(optimizer=optimizer, loss=loss)\n",
    "history = model.fit(x=[datapoint_circuits, commands],\n",
    "                    y=expected_outputs,\n",
    "                    epochs=30,\n",
    "                    verbose=0)"
   ]
  },
  {
   "cell_type": "code",
   "execution_count": 14,
   "id": "d9ccc5ad-3b59-4d31-9e1f-16bc48910e36",
   "metadata": {},
   "outputs": [
    {
     "data": {
      "image/png": "[encoded data removed]",
      "text/plain": [
       "<Figure size 432x288 with 1 Axes>"
      ]
     },
     "metadata": {
      "needs_background": "light"
     },
     "output_type": "display_data"
    }
   ],
   "source": [
    "plt.plot(history.history['loss'])\n",
    "plt.title(\"Learning to Control a Qubit\")\n",
    "plt.xlabel(\"Iterations\")\n",
    "plt.ylabel(\"Error in Control\")\n",
    "plt.show()"
   ]
  },
  {
   "cell_type": "code",
   "execution_count": 16,
   "id": "bc8a4cf9-c596-41cd-9713-c9300e9db6d1",
   "metadata": {},
   "outputs": [
    {
     "name": "stdout",
     "output_type": "stream",
     "text": [
      "For a desired output (expectation) of [1.] with noisy preparation, the controller\n",
      "network found the following values for theta: [ 3.6673176   0.32070616 -4.4520264 ]\n",
      "Which gives an actual expectation of: 0.9589784741401672\n",
      "\n",
      "For a desired output (expectation) of [-1.] with noisy preparation, the controller\n",
      "network found the following values for theta: [-0.19239134 -0.91532063  0.47329903]\n",
      "Which gives an actual expectation of: -0.9901111721992493\n",
      "\n"
     ]
    }
   ],
   "source": [
    "cirq_simulator = cirq.Simulator()\n",
    "\n",
    "def check_error(command_values, desired_values):\n",
    "  \"\"\"Based on the value in `command_value` see how well you could prepare\n",
    "  the full circuit to have `desired_value` when taking expectation w.r.t. Z.\"\"\"\n",
    "  params_to_prepare_output = controller(command_values).numpy()\n",
    "  full_circuit = noisy_preparation + model_circuit\n",
    "\n",
    "  # Test how well you can prepare a state to get expectation the expectation\n",
    "  # value in `desired_values`\n",
    "  for index in [0, 1]:\n",
    "    state = cirq_simulator.simulate(\n",
    "        full_circuit,\n",
    "        {s:v for (s,v) in zip(control_params, params_to_prepare_output[index])}\n",
    "    ).final_state_vector\n",
    "    expt = cirq.Z(qubit).expectation_from_state_vector(state, {qubit: 0}).real\n",
    "    print(f'For a desired output (expectation) of {desired_values[index]} with'\n",
    "          f' noisy preparation, the controller\\nnetwork found the following '\n",
    "          f'values for theta: {params_to_prepare_output[index]}\\nWhich gives an'\n",
    "          f' actual expectation of: {expt}\\n')\n",
    "\n",
    "\n",
    "check_error(commands, expected_outputs)"
   ]
  },
  {
   "cell_type": "code",
   "execution_count": 17,
   "id": "a2703ff6-7373-4926-bb8d-33ac8d6fbfff",
   "metadata": {},
   "outputs": [
    {
     "data": {
      "text/plain": [
       "<tf.Tensor: shape=(2, 1), dtype=float32, numpy=\n",
       "array([[ 0.9589784],\n",
       "       [-0.9901112]], dtype=float32)>"
      ]
     },
     "execution_count": 17,
     "metadata": {},
     "output_type": "execute_result"
    }
   ],
   "source": [
    "model([datapoint_circuits, commands])"
   ]
  },
  {
   "cell_type": "code",
   "execution_count": null,
   "id": "24bff5d9-d322-42f9-9652-c70184848088",
   "metadata": {},
   "outputs": [],
   "source": []
  }
 ],
 "metadata": {
  "kernelspec": {
   "display_name": "tfq",
   "language": "python",
   "name": "tfq"
  },
  "language_info": {
   "codemirror_mode": {
    "name": "ipython",
    "version": 3
   },
   "file_extension": ".py",
   "mimetype": "text/x-python",
   "name": "python",
   "nbconvert_exporter": "python",
   "pygments_lexer": "ipython3",
   "version": "3.7.11"
  }
 },
 "nbformat": 4,
 "nbformat_minor": 5
}
