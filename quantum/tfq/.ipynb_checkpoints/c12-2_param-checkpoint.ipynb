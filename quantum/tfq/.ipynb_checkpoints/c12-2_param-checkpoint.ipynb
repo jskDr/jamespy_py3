{
 "cells": [
  {
   "cell_type": "code",
   "execution_count": 9,
   "id": "16431f91-bbd0-4506-a1a8-0a54e96ea9f8",
   "metadata": {},
   "outputs": [],
   "source": [
    "import cirq\n",
    "import sympy\n",
    "import numpy as np\n",
    "from cirq.contrib.svg import SVGCircuit"
   ]
  },
  {
   "cell_type": "code",
   "execution_count": 17,
   "id": "080ab5bf-eb8f-4951-bb67-68917db6ceec",
   "metadata": {},
   "outputs": [],
   "source": [
    "W = sympy.symbols('W')"
   ]
  },
  {
   "cell_type": "code",
   "execution_count": 41,
   "id": "ffef1d8a-c51c-41a4-a118-fe170a3928ac",
   "metadata": {},
   "outputs": [
    {
     "data": {
      "image/svg+xml": [
       "<svg xmlns=\"http://www.w3.org/2000/svg\" width=\"179.88777343750002\" height=\"50.0\"><line x1=\"35.2275390625\" x2=\"149.88777343750002\" y1=\"25.0\" y2=\"25.0\" stroke=\"#1967d2\" stroke-width=\"1\" /><rect x=\"10.0\" y=\"5.0\" width=\"50.455078125\" height=\"40\" stroke=\"black\" fill=\"white\" stroke-width=\"0\" /><text x=\"35.2275390625\" y=\"25.0\" dominant-baseline=\"middle\" text-anchor=\"middle\" font-size=\"14px\" font-family=\"Arial\">Qubit: </text><rect x=\"80.455078125\" y=\"5.0\" width=\"49.4326953125\" height=\"40\" stroke=\"black\" fill=\"white\" stroke-width=\"1\" /><text x=\"105.17142578125001\" y=\"25.0\" dominant-baseline=\"middle\" text-anchor=\"middle\" font-size=\"14px\" font-family=\"Arial\">Ry(W)</text></svg>"
      ],
      "text/plain": [
       "<cirq.contrib.svg.svg.SVGCircuit at 0x7fc01731bcd0>"
      ]
     },
     "execution_count": 41,
     "metadata": {},
     "output_type": "execute_result"
    }
   ],
   "source": [
    "Qubit = cirq.NamedQubit(\"Qubit\")\n",
    "\n",
    "# Create a circuit on these qubits using the parameters you created above.\n",
    "circuit = cirq.Circuit(\n",
    "    cirq.ry(W).on(Qubit))\n",
    "    #cirq.measure(Qubit, key='m'))\n",
    "\n",
    "SVGCircuit(circuit)"
   ]
  },
  {
   "cell_type": "code",
   "execution_count": 42,
   "id": "34037f14-d006-44be-a917-600457f42906",
   "metadata": {},
   "outputs": [],
   "source": [
    "def simulation(circuit, w=np.pi/2):\n",
    "    cirq_simulator = cirq.Simulator()\n",
    "\n",
    "    resolver = cirq.ParamResolver({W: w})\n",
    "    result = cirq_simulator.simulate(circuit, resolver)\n",
    "    return result"
   ]
  },
  {
   "cell_type": "code",
   "execution_count": 43,
   "id": "e011d083-3e51-4b60-abaa-6543270ecc5f",
   "metadata": {},
   "outputs": [
    {
     "data": {
      "text/plain": [
       "measurements: (no measurements)\n",
       "output vector: |0⟩"
      ]
     },
     "execution_count": 43,
     "metadata": {},
     "output_type": "execute_result"
    }
   ],
   "source": [
    "simulation(circuit, 0)"
   ]
  },
  {
   "cell_type": "code",
   "execution_count": 44,
   "id": "25bef7af-6060-448c-8a81-4f4cf0b8e1a2",
   "metadata": {},
   "outputs": [
    {
     "data": {
      "text/plain": [
       "measurements: (no measurements)\n",
       "output vector: 0.707|0⟩ + 0.707|1⟩"
      ]
     },
     "execution_count": 44,
     "metadata": {},
     "output_type": "execute_result"
    }
   ],
   "source": [
    "simulation(circuit, np.pi/2)"
   ]
  },
  {
   "cell_type": "code",
   "execution_count": 45,
   "id": "ffe1c325-6f30-4a41-99d4-beb83279cce3",
   "metadata": {},
   "outputs": [
    {
     "data": {
      "text/plain": [
       "measurements: (no measurements)\n",
       "output vector: |1⟩"
      ]
     },
     "execution_count": 45,
     "metadata": {},
     "output_type": "execute_result"
    }
   ],
   "source": [
    "simulation(circuit, np.pi)"
   ]
  }
 ],
 "metadata": {
  "kernelspec": {
   "display_name": "tfq",
   "language": "python",
   "name": "tfq"
  },
  "language_info": {
   "codemirror_mode": {
    "name": "ipython",
    "version": 3
   },
   "file_extension": ".py",
   "mimetype": "text/x-python",
   "name": "python",
   "nbconvert_exporter": "python",
   "pygments_lexer": "ipython3",
   "version": "3.7.11"
  }
 },
 "nbformat": 4,
 "nbformat_minor": 5
}
