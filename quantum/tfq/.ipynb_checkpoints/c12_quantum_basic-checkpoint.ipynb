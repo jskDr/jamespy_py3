{
 "cells": [
  {
   "cell_type": "markdown",
   "metadata": {},
   "source": [
    "# 양자컴퓨팅의 기본"
   ]
  },
  {
   "cell_type": "code",
   "execution_count": 1,
   "metadata": {},
   "outputs": [],
   "source": [
    "import cirq"
   ]
  },
  {
   "cell_type": "markdown",
   "metadata": {},
   "source": [
    "## 기본 양자 회로 만들기를 통한 주요 용어 익히기"
   ]
  },
  {
   "cell_type": "code",
   "execution_count": 2,
   "metadata": {},
   "outputs": [],
   "source": [
    "q = cirq.NamedQubit('My Qubit')"
   ]
  },
  {
   "cell_type": "code",
   "execution_count": 3,
   "metadata": {},
   "outputs": [
    {
     "name": "stdout",
     "output_type": "stream",
     "text": [
      "My Qubit: ───M───\n"
     ]
    }
   ],
   "source": [
    "circuit = cirq.Circuit(cirq.measure(q))\n",
    "print(circuit)"
   ]
  },
  {
   "cell_type": "code",
   "execution_count": 4,
   "metadata": {},
   "outputs": [],
   "source": [
    "simulator = cirq.Simulator()"
   ]
  },
  {
   "cell_type": "code",
   "execution_count": 17,
   "metadata": {},
   "outputs": [
    {
     "name": "stdout",
     "output_type": "stream",
     "text": [
      "{'My Qubit': array([[0],\n",
      "       [0],\n",
      "       [0]], dtype=int8)}\n"
     ]
    }
   ],
   "source": [
    "m_outputs = simulator.run(circuit, repetitions=3)\n",
    "print(m_outputs.measurements)"
   ]
  },
  {
   "cell_type": "markdown",
   "metadata": {},
   "source": [
    "## 입력을 반전시키는 양자 회로"
   ]
  },
  {
   "cell_type": "code",
   "execution_count": 18,
   "metadata": {},
   "outputs": [
    {
     "name": "stdout",
     "output_type": "stream",
     "text": [
      "My Qubit: ───X───M───\n"
     ]
    }
   ],
   "source": [
    "q = cirq.NamedQubit('My Qubit')\n",
    "circuit = cirq.Circuit(cirq.X(q), cirq.measure(q))\n",
    "print(circuit)"
   ]
  },
  {
   "cell_type": "code",
   "execution_count": 29,
   "metadata": {},
   "outputs": [
    {
     "name": "stdout",
     "output_type": "stream",
     "text": [
      "[1 1 1 1 1 1 1 1 1 1]\n"
     ]
    }
   ],
   "source": [
    "simulator = cirq.Simulator()\n",
    "m_outputs = simulator.run(circuit, repetitions=10)\n",
    "print(m_outputs.measurements['My Qubit'][:,0])"
   ]
  },
  {
   "cell_type": "markdown",
   "metadata": {},
   "source": [
    "## 두 상태를 중첩하는 양자회로"
   ]
  },
  {
   "cell_type": "code",
   "execution_count": 37,
   "metadata": {},
   "outputs": [
    {
     "name": "stdout",
     "output_type": "stream",
     "text": [
      "My Qubit: ───H───M───\n"
     ]
    }
   ],
   "source": [
    "import numpy as np\n",
    "\n",
    "q = cirq.NamedQubit('My Qubit')\n",
    "circuit = cirq.Circuit(cirq.H(q), cirq.measure(q))\n",
    "print(circuit)"
   ]
  },
  {
   "cell_type": "code",
   "execution_count": 43,
   "metadata": {},
   "outputs": [
    {
     "name": "stdout",
     "output_type": "stream",
     "text": [
      "Results= [1 0 0 1 0 0 1 0 1 0]  Average= 0.4\n"
     ]
    }
   ],
   "source": [
    "simulator = cirq.Simulator()\n",
    "m_outputs = simulator.run(circuit, repetitions=10)\n",
    "results = m_outputs.measurements['My Qubit'][:,0]\n",
    "print('Results=',results,' Average=',np.mean(results))"
   ]
  },
  {
   "cell_type": "code",
   "execution_count": 45,
   "metadata": {},
   "outputs": [
    {
     "name": "stdout",
     "output_type": "stream",
     "text": [
      "Average for 100 measurements= 0.506\n"
     ]
    }
   ],
   "source": [
    "m_outputs = simulator.run(circuit, repetitions=1000)\n",
    "results = m_outputs.measurements['My Qubit'][:,0]\n",
    "print('Average for 100 measurements=',np.mean(results))"
   ]
  },
  {
   "cell_type": "code",
   "execution_count": null,
   "metadata": {},
   "outputs": [],
   "source": []
  }
 ],
 "metadata": {
  "kernelspec": {
   "display_name": "tfq",
   "language": "python",
   "name": "tfq"
  },
  "language_info": {
   "codemirror_mode": {
    "name": "ipython",
    "version": 3
   },
   "file_extension": ".py",
   "mimetype": "text/x-python",
   "name": "python",
   "nbconvert_exporter": "python",
   "pygments_lexer": "ipython3",
   "version": "3.8.8"
  }
 },
 "nbformat": 4,
 "nbformat_minor": 4
}
