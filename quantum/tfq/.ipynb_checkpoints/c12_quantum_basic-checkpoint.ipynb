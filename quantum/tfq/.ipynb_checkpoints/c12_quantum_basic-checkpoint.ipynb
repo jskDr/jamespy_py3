{
 "cells": [
  {
   "cell_type": "markdown",
   "metadata": {},
   "source": [
    "# 양자컴퓨팅의 기본"
   ]
  },
  {
   "cell_type": "code",
   "execution_count": 1,
   "metadata": {},
   "outputs": [],
   "source": [
    "import cirq"
   ]
  },
  {
   "cell_type": "markdown",
   "metadata": {},
   "source": [
    "## 기본 양자 회로 만들기를 통한 주요 용어 익히기"
   ]
  },
  {
   "cell_type": "code",
   "execution_count": 10,
   "metadata": {},
   "outputs": [],
   "source": [
    "q = cirq.NamedQubit('My Qubit')"
   ]
  },
  {
   "cell_type": "code",
   "execution_count": 6,
   "metadata": {},
   "outputs": [
    {
     "name": "stdout",
     "output_type": "stream",
     "text": [
      "My Qubit: ───M───\n"
     ]
    }
   ],
   "source": [
    "circuit = cirq.Circuit(cirq.measure(q))\n",
    "print(circuit)"
   ]
  },
  {
   "cell_type": "code",
   "execution_count": 7,
   "metadata": {},
   "outputs": [],
   "source": [
    "simulator = cirq.Simulator()"
   ]
  },
  {
   "cell_type": "code",
   "execution_count": 8,
   "metadata": {},
   "outputs": [
    {
     "name": "stdout",
     "output_type": "stream",
     "text": [
      "My Qubit=000\n"
     ]
    }
   ],
   "source": [
    "m_outputs = simulator.run(circuit, repetitions=3)\n",
    "print(m_outputs)"
   ]
  },
  {
   "cell_type": "markdown",
   "metadata": {},
   "source": [
    "## 입력을 반전시키는 양자 회로"
   ]
  },
  {
   "cell_type": "code",
   "execution_count": 11,
   "metadata": {},
   "outputs": [
    {
     "name": "stdout",
     "output_type": "stream",
     "text": [
      "My Qubit: ───X───M───\n"
     ]
    }
   ],
   "source": [
    "q = cirq.NamedQubit('My Qubit')\n",
    "circuit = cirq.Circuit(cirq.X(q), cirq.measure(q))\n",
    "print(circuit)"
   ]
  },
  {
   "cell_type": "code",
   "execution_count": 14,
   "metadata": {},
   "outputs": [
    {
     "name": "stdout",
     "output_type": "stream",
     "text": [
      "My Qubit=1111111111\n"
     ]
    }
   ],
   "source": [
    "simulator = cirq.Simulator()\n",
    "m_outputs = simulator.run(circuit, repetitions=10)\n",
    "print(m_outputs)"
   ]
  },
  {
   "cell_type": "markdown",
   "metadata": {},
   "source": [
    "## 두 상태를 중첩하는 양자회로"
   ]
  },
  {
   "cell_type": "code",
   "execution_count": null,
   "metadata": {},
   "outputs": [],
   "source": []
  }
 ],
 "metadata": {
  "kernelspec": {
   "display_name": "tfq",
   "language": "python",
   "name": "tfq"
  },
  "language_info": {
   "codemirror_mode": {
    "name": "ipython",
    "version": 3
   },
   "file_extension": ".py",
   "mimetype": "text/x-python",
   "name": "python",
   "nbconvert_exporter": "python",
   "pygments_lexer": "ipython3",
   "version": "3.8.8"
  }
 },
 "nbformat": 4,
 "nbformat_minor": 4
}
