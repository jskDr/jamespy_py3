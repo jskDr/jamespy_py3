{
 "cells": [
  {
   "cell_type": "markdown",
   "metadata": {},
   "source": [
    "# 양자컴퓨팅의 기본"
   ]
  },
  {
   "cell_type": "code",
   "execution_count": 2,
   "metadata": {},
   "outputs": [],
   "source": [
    "import cirq"
   ]
  },
  {
   "cell_type": "markdown",
   "metadata": {},
   "source": [
    "## 기본 양자 회로 만들기를 통한 주요 용어 익히기"
   ]
  },
  {
   "cell_type": "code",
   "execution_count": 3,
   "metadata": {},
   "outputs": [],
   "source": [
    "q = cirq.NamedQubit('My Qubit')"
   ]
  },
  {
   "cell_type": "code",
   "execution_count": 4,
   "metadata": {},
   "outputs": [
    {
     "name": "stdout",
     "output_type": "stream",
     "text": [
      "My Qubit: ───M───\n"
     ]
    }
   ],
   "source": [
    "circuit = cirq.Circuit(cirq.measure(q))\n",
    "print(circuit)"
   ]
  },
  {
   "cell_type": "code",
   "execution_count": 5,
   "metadata": {},
   "outputs": [],
   "source": [
    "simulator = cirq.Simulator()"
   ]
  },
  {
   "cell_type": "code",
   "execution_count": 6,
   "metadata": {},
   "outputs": [
    {
     "name": "stdout",
     "output_type": "stream",
     "text": [
      "{'My Qubit': array([[0],\n",
      "       [0],\n",
      "       [0]], dtype=int8)}\n"
     ]
    }
   ],
   "source": [
    "m_outputs = simulator.run(circuit, repetitions=3)\n",
    "print(m_outputs.measurements)"
   ]
  },
  {
   "cell_type": "markdown",
   "metadata": {},
   "source": [
    "## 입력을 반전시키는 양자 회로"
   ]
  },
  {
   "cell_type": "code",
   "execution_count": 7,
   "metadata": {},
   "outputs": [
    {
     "name": "stdout",
     "output_type": "stream",
     "text": [
      "My Qubit: ───X───M───\n"
     ]
    }
   ],
   "source": [
    "q = cirq.NamedQubit('My Qubit')\n",
    "circuit = cirq.Circuit(cirq.X(q), cirq.measure(q))\n",
    "print(circuit)"
   ]
  },
  {
   "cell_type": "code",
   "execution_count": 8,
   "metadata": {},
   "outputs": [
    {
     "name": "stdout",
     "output_type": "stream",
     "text": [
      "[1 1 1 1 1 1 1 1 1 1]\n"
     ]
    }
   ],
   "source": [
    "simulator = cirq.Simulator()\n",
    "m_outputs = simulator.run(circuit, repetitions=10)\n",
    "print(m_outputs.measurements['My Qubit'][:,0])"
   ]
  },
  {
   "cell_type": "markdown",
   "metadata": {},
   "source": [
    "## 두 상태를 중첩하는 양자회로"
   ]
  },
  {
   "cell_type": "code",
   "execution_count": 9,
   "metadata": {},
   "outputs": [
    {
     "name": "stdout",
     "output_type": "stream",
     "text": [
      "My Qubit: ───H───M───\n"
     ]
    }
   ],
   "source": [
    "import numpy as np\n",
    "\n",
    "q = cirq.NamedQubit('My Qubit')\n",
    "circuit = cirq.Circuit(cirq.H(q), cirq.measure(q))\n",
    "print(circuit)"
   ]
  },
  {
   "cell_type": "code",
   "execution_count": 10,
   "metadata": {},
   "outputs": [
    {
     "name": "stdout",
     "output_type": "stream",
     "text": [
      "Results= [0 1 0 0 1 0 1 1 0 0]  Average= 0.4\n"
     ]
    }
   ],
   "source": [
    "simulator = cirq.Simulator()\n",
    "m_outputs = simulator.run(circuit, repetitions=10)\n",
    "results = m_outputs.measurements['My Qubit'][:,0]\n",
    "print('Results=',results,' Average=',np.mean(results))"
   ]
  },
  {
   "cell_type": "code",
   "execution_count": 11,
   "metadata": {},
   "outputs": [
    {
     "name": "stdout",
     "output_type": "stream",
     "text": [
      "Average for 100 measurements= 0.506\n"
     ]
    }
   ],
   "source": [
    "m_outputs = simulator.run(circuit, repetitions=1000)\n",
    "results = m_outputs.measurements['My Qubit'][:,0]\n",
    "print('Average for 100 measurements=',np.mean(results))"
   ]
  },
  {
   "cell_type": "markdown",
   "metadata": {},
   "source": [
    "## 두 개 양자비트를 위한 계산 예: CNOT 연산"
   ]
  },
  {
   "cell_type": "code",
   "execution_count": 12,
   "metadata": {},
   "outputs": [],
   "source": [
    "q = [cirq.GridQubit(i, 0) for i in range(2)]"
   ]
  },
  {
   "cell_type": "code",
   "execution_count": 13,
   "metadata": {},
   "outputs": [
    {
     "data": {
      "text/plain": [
       "(cirq.GridQubit(0, 0), cirq.GridQubit(1, 0))"
      ]
     },
     "execution_count": 13,
     "metadata": {},
     "output_type": "execute_result"
    }
   ],
   "source": [
    "q[0], q[1]"
   ]
  },
  {
   "cell_type": "markdown",
   "metadata": {},
   "source": [
    "### q0가 |0>일 때"
   ]
  },
  {
   "cell_type": "code",
   "execution_count": 14,
   "metadata": {},
   "outputs": [
    {
     "name": "stdout",
     "output_type": "stream",
     "text": [
      "(0, 0): ───@───\n",
      "           │\n",
      "(1, 0): ───X───\n"
     ]
    }
   ],
   "source": [
    "circuit = cirq.Circuit()\n",
    "circuit.append(cirq.CNOT(q[0], q[1]))\n",
    "print(circuit)"
   ]
  },
  {
   "cell_type": "code",
   "execution_count": 15,
   "metadata": {},
   "outputs": [
    {
     "name": "stdout",
     "output_type": "stream",
     "text": [
      "(0, 0): ───@───M───\n",
      "           │\n",
      "(1, 0): ───X───M───\n"
     ]
    }
   ],
   "source": [
    "circuit.append([cirq.measure(q[0]),cirq.measure(q[1])])\n",
    "print(circuit)"
   ]
  },
  {
   "cell_type": "code",
   "execution_count": 16,
   "metadata": {},
   "outputs": [
    {
     "name": "stdout",
     "output_type": "stream",
     "text": [
      "(0, 0)=0000000000\n",
      "(1, 0)=0000000000\n"
     ]
    }
   ],
   "source": [
    "simulator = cirq.Simulator()\n",
    "m_outputs = simulator.run(circuit, repetitions=10)\n",
    "print(m_outputs)"
   ]
  },
  {
   "cell_type": "markdown",
   "metadata": {},
   "source": [
    "### q0가 |1> 일때"
   ]
  },
  {
   "cell_type": "code",
   "execution_count": 17,
   "metadata": {},
   "outputs": [
    {
     "name": "stdout",
     "output_type": "stream",
     "text": [
      "(0, 0): ───X───@───M───\n",
      "               │\n",
      "(1, 0): ───────X───M───\n"
     ]
    }
   ],
   "source": [
    "circuit = cirq.Circuit(cirq.X(q[0]))\n",
    "circuit.append(cirq.CNOT(q[0], q[1]))\n",
    "circuit.append([cirq.measure(q[0]),cirq.measure(q[1])])\n",
    "print(circuit)"
   ]
  },
  {
   "cell_type": "code",
   "execution_count": 18,
   "metadata": {},
   "outputs": [
    {
     "name": "stdout",
     "output_type": "stream",
     "text": [
      "(0, 0)=1111111111\n",
      "(1, 0)=1111111111\n"
     ]
    }
   ],
   "source": [
    "simulator = cirq.Simulator()\n",
    "m_outputs = simulator.run(circuit, repetitions=10)\n",
    "print(m_outputs)"
   ]
  },
  {
   "cell_type": "markdown",
   "metadata": {},
   "source": [
    "## 벨 상태 만들기"
   ]
  },
  {
   "cell_type": "code",
   "execution_count": 19,
   "metadata": {},
   "outputs": [],
   "source": [
    "q = [cirq.GridQubit(i, 0) for i in range(2)]"
   ]
  },
  {
   "cell_type": "code",
   "execution_count": 20,
   "metadata": {},
   "outputs": [
    {
     "data": {
      "text/plain": [
       "(cirq.GridQubit(0, 0), cirq.GridQubit(1, 0))"
      ]
     },
     "execution_count": 20,
     "metadata": {},
     "output_type": "execute_result"
    }
   ],
   "source": [
    "q[0], q[1]"
   ]
  },
  {
   "cell_type": "code",
   "execution_count": 26,
   "metadata": {},
   "outputs": [
    {
     "name": "stdout",
     "output_type": "stream",
     "text": [
      "(0, 0): ───H───\n"
     ]
    }
   ],
   "source": [
    "circuit = cirq.Circuit()\n",
    "circuit.append([cirq.H(q[0])])\n",
    "print(circuit)"
   ]
  },
  {
   "cell_type": "code",
   "execution_count": 27,
   "metadata": {},
   "outputs": [
    {
     "name": "stdout",
     "output_type": "stream",
     "text": [
      "(0, 0): ───H───@───\n",
      "               │\n",
      "(1, 0): ───────X───\n"
     ]
    }
   ],
   "source": [
    "circuit.append(cirq.CNOT(q[0], q[1]))\n",
    "print(circuit)"
   ]
  },
  {
   "cell_type": "code",
   "execution_count": 28,
   "metadata": {},
   "outputs": [
    {
     "name": "stdout",
     "output_type": "stream",
     "text": [
      "(0, 0): ───H───@───M───\n",
      "               │\n",
      "(1, 0): ───────X───M───\n"
     ]
    }
   ],
   "source": [
    "circuit.append([cirq.measure(q[0]),cirq.measure(q[1])])\n",
    "print(circuit)"
   ]
  },
  {
   "cell_type": "code",
   "execution_count": 29,
   "metadata": {},
   "outputs": [
    {
     "name": "stdout",
     "output_type": "stream",
     "text": [
      "(0, 0)=0100100111\n",
      "(1, 0)=0100100111\n"
     ]
    }
   ],
   "source": [
    "simulator = cirq.Simulator()\n",
    "m_outputs = simulator.run(circuit, repetitions=10)\n",
    "print(m_outputs)"
   ]
  },
  {
   "cell_type": "code",
   "execution_count": null,
   "metadata": {},
   "outputs": [],
   "source": []
  }
 ],
 "metadata": {
  "kernelspec": {
   "display_name": "tfq",
   "language": "python",
   "name": "tfq"
  },
  "language_info": {
   "codemirror_mode": {
    "name": "ipython",
    "version": 3
   },
   "file_extension": ".py",
   "mimetype": "text/x-python",
   "name": "python",
   "nbconvert_exporter": "python",
   "pygments_lexer": "ipython3",
   "version": "3.7.11"
  }
 },
 "nbformat": 4,
 "nbformat_minor": 4
}
